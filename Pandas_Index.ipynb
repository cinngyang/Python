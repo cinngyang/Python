{
  "nbformat": 4,
  "nbformat_minor": 0,
  "metadata": {
    "colab": {
      "name": "Pandas-Index",
      "version": "0.3.2",
      "provenance": [],
      "include_colab_link": true
    },
    "kernelspec": {
      "name": "python3",
      "display_name": "Python 3"
    }
  },
  "cells": [
    {
      "cell_type": "markdown",
      "metadata": {
        "id": "view-in-github",
        "colab_type": "text"
      },
      "source": [
        "<a href=\"https://colab.research.google.com/github/cinngyang/Python/blob/master/Pandas_Index.ipynb\" target=\"_parent\"><img src=\"https://colab.research.google.com/assets/colab-badge.svg\" alt=\"Open In Colab\"/></a>"
      ]
    },
    {
      "metadata": {
        "id": "ylqRC2bzLaaW",
        "colab_type": "code",
        "colab": {}
      },
      "cell_type": "code",
      "source": [
        "import pandas as pd\n",
        "import numpy as np"
      ],
      "execution_count": 0,
      "outputs": []
    },
    {
      "metadata": {
        "id": "rWmeT8mfLmyC",
        "colab_type": "code",
        "colab": {
          "base_uri": "https://localhost:8080/",
          "height": 208
        },
        "outputId": "ab90793c-c2e6-4828-d92a-58ba1d1a9d6c"
      },
      "cell_type": "code",
      "source": [
        "dt=pd.Series(np.random.randn(9))\n",
        "print(dt.index)\n",
        "dt"
      ],
      "execution_count": 11,
      "outputs": [
        {
          "output_type": "stream",
          "text": [
            "RangeIndex(start=0, stop=9, step=1)\n"
          ],
          "name": "stdout"
        },
        {
          "output_type": "execute_result",
          "data": {
            "text/plain": [
              "0    0.449516\n",
              "1    0.871530\n",
              "2   -0.257483\n",
              "3    0.328312\n",
              "4    1.375811\n",
              "5   -0.329171\n",
              "6   -0.245576\n",
              "7   -0.124176\n",
              "8    0.637794\n",
              "dtype: float64"
            ]
          },
          "metadata": {
            "tags": []
          },
          "execution_count": 11
        }
      ]
    },
    {
      "metadata": {
        "id": "-HRrYrXsMeJu",
        "colab_type": "code",
        "colab": {
          "base_uri": "https://localhost:8080/",
          "height": 208
        },
        "outputId": "80fb6d3d-ecf2-4c3d-aa3b-1bdf7cb3eaab"
      },
      "cell_type": "code",
      "source": [
        "dt1=pd.Series(np.random.randn(9),index=['a','a','a','b','b','c','c','d','d'])\n",
        "print(dt1.index)\n",
        "dt1"
      ],
      "execution_count": 12,
      "outputs": [
        {
          "output_type": "stream",
          "text": [
            "Index(['a', 'a', 'a', 'b', 'b', 'c', 'c', 'd', 'd'], dtype='object')\n"
          ],
          "name": "stdout"
        },
        {
          "output_type": "execute_result",
          "data": {
            "text/plain": [
              "a    0.477948\n",
              "a    1.539634\n",
              "a   -0.933161\n",
              "b    0.740634\n",
              "b   -0.152322\n",
              "c    0.646186\n",
              "c   -0.299037\n",
              "d   -0.650463\n",
              "d   -0.752216\n",
              "dtype: float64"
            ]
          },
          "metadata": {
            "tags": []
          },
          "execution_count": 12
        }
      ]
    },
    {
      "metadata": {
        "id": "KoL-UL32NAYW",
        "colab_type": "code",
        "colab": {
          "base_uri": "https://localhost:8080/",
          "height": 225
        },
        "outputId": "1c7b1249-982c-493b-cc29-fbeffe615227"
      },
      "cell_type": "code",
      "source": [
        "dt2=pd.Series(np.random.randn(9),index=[['a','a','a','b','b','c','c','d','d'],[1,2,3,1,3,1,2,2,3]])\n",
        "print(dt2.index)\n",
        "dt2"
      ],
      "execution_count": 13,
      "outputs": [
        {
          "output_type": "stream",
          "text": [
            "MultiIndex(levels=[['a', 'b', 'c', 'd'], [1, 2, 3]],\n",
            "           labels=[[0, 0, 0, 1, 1, 2, 2, 3, 3], [0, 1, 2, 0, 2, 0, 1, 1, 2]])\n"
          ],
          "name": "stdout"
        },
        {
          "output_type": "execute_result",
          "data": {
            "text/plain": [
              "a  1    0.691219\n",
              "   2   -0.451699\n",
              "   3   -0.939059\n",
              "b  1   -0.369809\n",
              "   3   -0.616977\n",
              "c  1   -0.472828\n",
              "   2    1.636790\n",
              "d  2    0.791850\n",
              "   3   -0.057356\n",
              "dtype: float64"
            ]
          },
          "metadata": {
            "tags": []
          },
          "execution_count": 13
        }
      ]
    }
  ]
}