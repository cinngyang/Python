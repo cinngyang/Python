{
  "nbformat": 4,
  "nbformat_minor": 0,
  "metadata": {
    "colab": {
      "name": "Pandas-Index",
      "version": "0.3.2",
      "provenance": [],
      "collapsed_sections": [],
      "include_colab_link": true
    },
    "kernelspec": {
      "name": "python3",
      "display_name": "Python 3"
    }
  },
  "cells": [
    {
      "cell_type": "markdown",
      "metadata": {
        "id": "view-in-github",
        "colab_type": "text"
      },
      "source": [
        "<a href=\"https://colab.research.google.com/github/cinngyang/Python/blob/master/Pandas_Index.ipynb\" target=\"_parent\"><img src=\"https://colab.research.google.com/assets/colab-badge.svg\" alt=\"Open In Colab\"/></a>"
      ]
    },
    {
      "metadata": {
        "id": "ylqRC2bzLaaW",
        "colab_type": "code",
        "colab": {}
      },
      "cell_type": "code",
      "source": [
        "import pandas as pd\n",
        "import numpy as np"
      ],
      "execution_count": 0,
      "outputs": []
    },
    {
      "metadata": {
        "id": "rWmeT8mfLmyC",
        "colab_type": "code",
        "outputId": "ab90793c-c2e6-4828-d92a-58ba1d1a9d6c",
        "colab": {
          "base_uri": "https://localhost:8080/",
          "height": 208
        }
      },
      "cell_type": "code",
      "source": [
        "dt=pd.Series(np.random.randn(9))\n",
        "print(dt.index)\n",
        "dt"
      ],
      "execution_count": 0,
      "outputs": [
        {
          "output_type": "stream",
          "text": [
            "RangeIndex(start=0, stop=9, step=1)\n"
          ],
          "name": "stdout"
        },
        {
          "output_type": "execute_result",
          "data": {
            "text/plain": [
              "0    0.449516\n",
              "1    0.871530\n",
              "2   -0.257483\n",
              "3    0.328312\n",
              "4    1.375811\n",
              "5   -0.329171\n",
              "6   -0.245576\n",
              "7   -0.124176\n",
              "8    0.637794\n",
              "dtype: float64"
            ]
          },
          "metadata": {
            "tags": []
          },
          "execution_count": 11
        }
      ]
    },
    {
      "metadata": {
        "id": "-HRrYrXsMeJu",
        "colab_type": "code",
        "outputId": "80fb6d3d-ecf2-4c3d-aa3b-1bdf7cb3eaab",
        "colab": {
          "base_uri": "https://localhost:8080/",
          "height": 208
        }
      },
      "cell_type": "code",
      "source": [
        "dt1=pd.Series(np.random.randn(9),index=['a','a','a','b','b','c','c','d','d'])\n",
        "print(dt1.index)\n",
        "dt1"
      ],
      "execution_count": 0,
      "outputs": [
        {
          "output_type": "stream",
          "text": [
            "Index(['a', 'a', 'a', 'b', 'b', 'c', 'c', 'd', 'd'], dtype='object')\n"
          ],
          "name": "stdout"
        },
        {
          "output_type": "execute_result",
          "data": {
            "text/plain": [
              "a    0.477948\n",
              "a    1.539634\n",
              "a   -0.933161\n",
              "b    0.740634\n",
              "b   -0.152322\n",
              "c    0.646186\n",
              "c   -0.299037\n",
              "d   -0.650463\n",
              "d   -0.752216\n",
              "dtype: float64"
            ]
          },
          "metadata": {
            "tags": []
          },
          "execution_count": 12
        }
      ]
    },
    {
      "metadata": {
        "id": "KoL-UL32NAYW",
        "colab_type": "code",
        "outputId": "1c7b1249-982c-493b-cc29-fbeffe615227",
        "colab": {
          "base_uri": "https://localhost:8080/",
          "height": 225
        }
      },
      "cell_type": "code",
      "source": [
        "dt2=pd.Series(np.random.randn(9),index=[['a','a','a','b','b','c','c','d','d'],[1,2,3,1,3,1,2,2,3]])\n",
        "print(dt2.index)\n",
        "dt2"
      ],
      "execution_count": 0,
      "outputs": [
        {
          "output_type": "stream",
          "text": [
            "MultiIndex(levels=[['a', 'b', 'c', 'd'], [1, 2, 3]],\n",
            "           labels=[[0, 0, 0, 1, 1, 2, 2, 3, 3], [0, 1, 2, 0, 2, 0, 1, 1, 2]])\n"
          ],
          "name": "stdout"
        },
        {
          "output_type": "execute_result",
          "data": {
            "text/plain": [
              "a  1    0.691219\n",
              "   2   -0.451699\n",
              "   3   -0.939059\n",
              "b  1   -0.369809\n",
              "   3   -0.616977\n",
              "c  1   -0.472828\n",
              "   2    1.636790\n",
              "d  2    0.791850\n",
              "   3   -0.057356\n",
              "dtype: float64"
            ]
          },
          "metadata": {
            "tags": []
          },
          "execution_count": 13
        }
      ]
    },
    {
      "metadata": {
        "id": "4F282DlYNzvO",
        "colab_type": "code",
        "outputId": "39f384e0-83dc-4d92-a651-871ea8062907",
        "colab": {
          "base_uri": "https://localhost:8080/",
          "height": 35
        }
      },
      "cell_type": "code",
      "source": [
        "dt1['b']\n",
        "type(dt1)"
      ],
      "execution_count": 0,
      "outputs": [
        {
          "output_type": "execute_result",
          "data": {
            "text/plain": [
              "pandas.core.series.Series"
            ]
          },
          "metadata": {
            "tags": []
          },
          "execution_count": 16
        }
      ]
    },
    {
      "metadata": {
        "id": "rzt3mfUIOP82",
        "colab_type": "code",
        "outputId": "d5c0c824-374d-436a-c5ff-883e61f22c71",
        "colab": {
          "base_uri": "https://localhost:8080/",
          "height": 189
        }
      },
      "cell_type": "code",
      "source": [
        "c=dt2.unstack()\n",
        "print(type(c))\n",
        "c"
      ],
      "execution_count": 0,
      "outputs": [
        {
          "output_type": "stream",
          "text": [
            "<class 'pandas.core.frame.DataFrame'>\n"
          ],
          "name": "stdout"
        },
        {
          "output_type": "execute_result",
          "data": {
            "text/html": [
              "<div>\n",
              "<style scoped>\n",
              "    .dataframe tbody tr th:only-of-type {\n",
              "        vertical-align: middle;\n",
              "    }\n",
              "\n",
              "    .dataframe tbody tr th {\n",
              "        vertical-align: top;\n",
              "    }\n",
              "\n",
              "    .dataframe thead th {\n",
              "        text-align: right;\n",
              "    }\n",
              "</style>\n",
              "<table border=\"1\" class=\"dataframe\">\n",
              "  <thead>\n",
              "    <tr style=\"text-align: right;\">\n",
              "      <th></th>\n",
              "      <th>1</th>\n",
              "      <th>2</th>\n",
              "      <th>3</th>\n",
              "    </tr>\n",
              "  </thead>\n",
              "  <tbody>\n",
              "    <tr>\n",
              "      <th>a</th>\n",
              "      <td>0.691219</td>\n",
              "      <td>-0.451699</td>\n",
              "      <td>-0.939059</td>\n",
              "    </tr>\n",
              "    <tr>\n",
              "      <th>b</th>\n",
              "      <td>-0.369809</td>\n",
              "      <td>NaN</td>\n",
              "      <td>-0.616977</td>\n",
              "    </tr>\n",
              "    <tr>\n",
              "      <th>c</th>\n",
              "      <td>-0.472828</td>\n",
              "      <td>1.636790</td>\n",
              "      <td>NaN</td>\n",
              "    </tr>\n",
              "    <tr>\n",
              "      <th>d</th>\n",
              "      <td>NaN</td>\n",
              "      <td>0.791850</td>\n",
              "      <td>-0.057356</td>\n",
              "    </tr>\n",
              "  </tbody>\n",
              "</table>\n",
              "</div>"
            ],
            "text/plain": [
              "          1         2         3\n",
              "a  0.691219 -0.451699 -0.939059\n",
              "b -0.369809       NaN -0.616977\n",
              "c -0.472828  1.636790       NaN\n",
              "d       NaN  0.791850 -0.057356"
            ]
          },
          "metadata": {
            "tags": []
          },
          "execution_count": 21
        }
      ]
    }
  ]
}