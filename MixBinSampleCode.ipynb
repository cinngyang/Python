{
  "nbformat": 4,
  "nbformat_minor": 0,
  "metadata": {
    "colab": {
      "name": "MixBinSampleCode.ipynb",
      "version": "0.3.2",
      "provenance": [],
      "collapsed_sections": [],
      "include_colab_link": true
    },
    "kernelspec": {
      "name": "python3",
      "display_name": "Python 3"
    }
  },
  "cells": [
    {
      "cell_type": "markdown",
      "metadata": {
        "id": "view-in-github",
        "colab_type": "text"
      },
      "source": [
        "<a href=\"https://colab.research.google.com/github/cinngyang/Python/blob/master/MixBinSampleCode.ipynb\" target=\"_parent\"><img src=\"https://colab.research.google.com/assets/colab-badge.svg\" alt=\"Open In Colab\"/></a>"
      ]
    },
    {
      "cell_type": "markdown",
      "metadata": {
        "id": "OS1NQG-t8z3T",
        "colab_type": "text"
      },
      "source": [
        "+ https://www.coin-or.org/PuLP/pulp.html\n",
        "+ http://benalexkeen.com/linear-programming-with-python-and-pulp-part-4/"
      ]
    },
    {
      "cell_type": "code",
      "metadata": {
        "id": "lF_WtT1Zw_0i",
        "colab_type": "code",
        "colab": {
          "base_uri": "https://localhost:8080/",
          "height": 52
        },
        "outputId": "3d7ea433-85d9-4cb0-82e8-ee148a86165c"
      },
      "source": [
        "pip install pulp"
      ],
      "execution_count": 130,
      "outputs": [
        {
          "output_type": "stream",
          "text": [
            "Requirement already satisfied: pulp in /usr/local/lib/python3.6/dist-packages (1.6.10)\n",
            "Requirement already satisfied: pyparsing>=2.0.1 in /usr/local/lib/python3.6/dist-packages (from pulp) (2.4.0)\n"
          ],
          "name": "stdout"
        }
      ]
    },
    {
      "cell_type": "markdown",
      "metadata": {
        "id": "CP8wkhZhxV1H",
        "colab_type": "text"
      },
      "source": [
        "<table>\n",
        " <tr>\n",
        "<td>Code</td>\n",
        "<td>R1</td>\n",
        "<td>R2</td>\n",
        "<td>R3</td>\n",
        "<td>R4</td>\n",
        "<td>ST</td>\n",
        "</tr>\n",
        "<tr>\n",
        "<td>B2C2</td>\n",
        "<td>2</td>\n",
        "<td>0</td>\n",
        "<td>0</td>  \n",
        " <td>1</td>  \n",
        " <td>6</td>  \n",
        "</tr>\n",
        "<tr>\n",
        "<td>B1C1</td>\n",
        "<td>0</td>\n",
        "<td>2</td>\n",
        "<td>0</td>\n",
        "  <td>0</td>\n",
        "   <td>7</td> \n",
        " </tr>\n",
        "  <tr>\n",
        "<td>D1E2</td>\n",
        "<td>0</td>\n",
        "<td>0</td>\n",
        "<td>0</td>\n",
        "<td>1</td>\n",
        "       <td>3</td> \n",
        " </tr>\n",
        "  <tr>\n",
        "<td>B1C2</td>\n",
        "<td>0</td>\n",
        "<td>0</td>\n",
        "<td>2</td>\n",
        "<td>0</td>\n",
        "    <td>5</td>\n",
        " </tr>\n",
        "</table>\n",
        "\n",
        "\n"
      ]
    },
    {
      "cell_type": "code",
      "metadata": {
        "id": "IP6jslz0w7uH",
        "colab_type": "code",
        "colab": {}
      },
      "source": [
        "from pulp import *"
      ],
      "execution_count": 0,
      "outputs": []
    },
    {
      "cell_type": "code",
      "metadata": {
        "id": "vxUfKNtJxJW1",
        "colab_type": "code",
        "colab": {}
      },
      "source": [
        "Rules = ['R1', 'R2', 'R2', 'R4']\n",
        "BIN = {'B2C2': 1,'B1C1': 1,'D1E2': 1 ,'B1C2': 1 }\n",
        "R1 = {'B2C2': 2,'B1C1': 0,'D1E2': 0,'B1C2': 0 }\n",
        "R2 = {'B2C2': 0,'B1C1': 2,'D1E2': 0,'B1C2': 0 }\n",
        "R3 = {'B2C2': 0,'B1C1': 0,'D1E2': 2,'B1C2': 0 }\n",
        "R4 = {'B2C2': 1,'B1C1': 0,'D1E2': 0,'B1C2': 1 }"
      ],
      "execution_count": 0,
      "outputs": []
    },
    {
      "cell_type": "code",
      "metadata": {
        "id": "ZATFeu3G29Dt",
        "colab_type": "code",
        "colab": {}
      },
      "source": [
        "# 建立一個新的 model，命名為 model\n",
        "prob = LpProblem(\"Value max\",LpMaximize)"
      ],
      "execution_count": 0,
      "outputs": []
    },
    {
      "cell_type": "code",
      "metadata": {
        "id": "FtPEBlFN3lBW",
        "colab_type": "code",
        "colab": {}
      },
      "source": [
        "#建立變數\n",
        "#pulp.LpVariable()加入變數\n",
        "#使用字典建立變數\n",
        "ingredient_vars = LpVariable.dicts(\"BIN\",BIN, lowBound=0,cat='Integer')\n",
        "\n",
        "# LpVariable.dicts(name, indexs, lowBound=None, upBound=None, cat=0, indexStart=[])"
      ],
      "execution_count": 0,
      "outputs": []
    },
    {
      "cell_type": "code",
      "metadata": {
        "id": "F0DcrFt3vs-5",
        "colab_type": "code",
        "colab": {
          "base_uri": "https://localhost:8080/",
          "height": 52
        },
        "outputId": "bca61216-bc62-4451-9035-23633f590133"
      },
      "source": [
        "print(type(ingredient_vars))\n",
        "print(ingredient_vars)"
      ],
      "execution_count": 135,
      "outputs": [
        {
          "output_type": "stream",
          "text": [
            "<class 'dict'>\n",
            "{'B2C2': BIN_B2C2, 'B1C1': BIN_B1C1, 'D1E2': BIN_D1E2, 'B1C2': BIN_B1C2}\n"
          ],
          "name": "stdout"
        }
      ]
    },
    {
      "cell_type": "code",
      "metadata": {
        "id": "zlFXpcI6BkUX",
        "colab_type": "code",
        "colab": {
          "base_uri": "https://localhost:8080/",
          "height": 156
        },
        "outputId": "9a39e7c1-bc8f-475a-d003-6355e01db1c5"
      },
      "source": [
        "#加入目標式\n",
        "prob += lpSum([BIN[i]*ingredient_vars[i] for i in BIN])\n",
        "prob"
      ],
      "execution_count": 136,
      "outputs": [
        {
          "output_type": "execute_result",
          "data": {
            "text/plain": [
              "Value max:\n",
              "MAXIMIZE\n",
              "1*BIN_B1C1 + 1*BIN_B1C2 + 1*BIN_B2C2 + 1*BIN_D1E2 + 0\n",
              "VARIABLES\n",
              "0 <= BIN_B1C1 Integer\n",
              "0 <= BIN_B1C2 Integer\n",
              "0 <= BIN_B2C2 Integer\n",
              "0 <= BIN_D1E2 Integer"
            ]
          },
          "metadata": {
            "tags": []
          },
          "execution_count": 136
        }
      ]
    },
    {
      "cell_type": "code",
      "metadata": {
        "id": "Ys4_t40EAwfy",
        "colab_type": "code",
        "colab": {
          "base_uri": "https://localhost:8080/",
          "height": 208
        },
        "outputId": "2c8fb97a-0f29-47c2-d7de-337bd6f61ff4"
      },
      "source": [
        "#加入目標式\n",
        "prob += lpSum([ingredient_vars[i] for i in BIN]) >= 0\n",
        "prob"
      ],
      "execution_count": 137,
      "outputs": [
        {
          "output_type": "execute_result",
          "data": {
            "text/plain": [
              "Value max:\n",
              "MAXIMIZE\n",
              "1*BIN_B1C1 + 1*BIN_B1C2 + 1*BIN_B2C2 + 1*BIN_D1E2 + 0\n",
              "SUBJECT TO\n",
              "_C1: BIN_B1C1 + BIN_B1C2 + BIN_B2C2 + BIN_D1E2 >= 0\n",
              "\n",
              "VARIABLES\n",
              "0 <= BIN_B1C1 Integer\n",
              "0 <= BIN_B1C2 Integer\n",
              "0 <= BIN_B2C2 Integer\n",
              "0 <= BIN_D1E2 Integer"
            ]
          },
          "metadata": {
            "tags": []
          },
          "execution_count": 137
        }
      ]
    },
    {
      "cell_type": "code",
      "metadata": {
        "id": "Qfpi0pntB4mq",
        "colab_type": "code",
        "colab": {
          "base_uri": "https://localhost:8080/",
          "height": 243
        },
        "outputId": "8629c3ae-e217-4a80-d6fc-934412387eca"
      },
      "source": [
        "# 加入限制式\n",
        "prob += lpSum([ingredient_vars[i] for i in BIN]) == 8 # 配 6 捲\n",
        "prob"
      ],
      "execution_count": 138,
      "outputs": [
        {
          "output_type": "execute_result",
          "data": {
            "text/plain": [
              "Value max:\n",
              "MAXIMIZE\n",
              "1*BIN_B1C1 + 1*BIN_B1C2 + 1*BIN_B2C2 + 1*BIN_D1E2 + 0\n",
              "SUBJECT TO\n",
              "_C1: BIN_B1C1 + BIN_B1C2 + BIN_B2C2 + BIN_D1E2 >= 0\n",
              "\n",
              "_C2: BIN_B1C1 + BIN_B1C2 + BIN_B2C2 + BIN_D1E2 = 8\n",
              "\n",
              "VARIABLES\n",
              "0 <= BIN_B1C1 Integer\n",
              "0 <= BIN_B1C2 Integer\n",
              "0 <= BIN_B2C2 Integer\n",
              "0 <= BIN_D1E2 Integer"
            ]
          },
          "metadata": {
            "tags": []
          },
          "execution_count": 138
        }
      ]
    },
    {
      "cell_type": "code",
      "metadata": {
        "id": "Av4HaKqAz5c6",
        "colab_type": "code",
        "colab": {
          "base_uri": "https://localhost:8080/",
          "height": 381
        },
        "outputId": "effeae21-6237-4069-c857-0172b70eb0f0"
      },
      "source": [
        "# 加入限制式\n",
        "prob += lpSum([R1[i]*ingredient_vars[i] for i in BIN])<=6\n",
        "prob += lpSum([R2[i]*ingredient_vars[i] for i in BIN])<=7\n",
        "prob += lpSum([R3[i]*ingredient_vars[i] for i in BIN])<=3\n",
        "prob += lpSum([R4[i]*ingredient_vars[i] for i in BIN])<=5\n",
        "prob"
      ],
      "execution_count": 139,
      "outputs": [
        {
          "output_type": "execute_result",
          "data": {
            "text/plain": [
              "Value max:\n",
              "MAXIMIZE\n",
              "1*BIN_B1C1 + 1*BIN_B1C2 + 1*BIN_B2C2 + 1*BIN_D1E2 + 0\n",
              "SUBJECT TO\n",
              "_C1: BIN_B1C1 + BIN_B1C2 + BIN_B2C2 + BIN_D1E2 >= 0\n",
              "\n",
              "_C2: BIN_B1C1 + BIN_B1C2 + BIN_B2C2 + BIN_D1E2 = 8\n",
              "\n",
              "_C3: 2 BIN_B2C2 <= 6\n",
              "\n",
              "_C4: 2 BIN_B1C1 <= 7\n",
              "\n",
              "_C5: 2 BIN_D1E2 <= 3\n",
              "\n",
              "_C6: BIN_B1C2 + BIN_B2C2 <= 5\n",
              "\n",
              "VARIABLES\n",
              "0 <= BIN_B1C1 Integer\n",
              "0 <= BIN_B1C2 Integer\n",
              "0 <= BIN_B2C2 Integer\n",
              "0 <= BIN_D1E2 Integer"
            ]
          },
          "metadata": {
            "tags": []
          },
          "execution_count": 139
        }
      ]
    },
    {
      "cell_type": "code",
      "metadata": {
        "id": "TPyNuHsA2yZy",
        "colab_type": "code",
        "colab": {
          "base_uri": "https://localhost:8080/",
          "height": 35
        },
        "outputId": "e7ec7969-0125-403d-8fc5-6253c25fd790"
      },
      "source": [
        "prob.solve()"
      ],
      "execution_count": 140,
      "outputs": [
        {
          "output_type": "execute_result",
          "data": {
            "text/plain": [
              "1"
            ]
          },
          "metadata": {
            "tags": []
          },
          "execution_count": 140
        }
      ]
    },
    {
      "cell_type": "code",
      "metadata": {
        "id": "MDwaL2R524h5",
        "colab_type": "code",
        "colab": {
          "base_uri": "https://localhost:8080/",
          "height": 35
        },
        "outputId": "5091ef52-94ea-4cbe-afe9-eb397f505e32"
      },
      "source": [
        "#查看目前解的狀態\n",
        "print(\"Status:\", LpStatus[prob.status])"
      ],
      "execution_count": 141,
      "outputs": [
        {
          "output_type": "stream",
          "text": [
            "Status: Optimal\n"
          ],
          "name": "stdout"
        }
      ]
    },
    {
      "cell_type": "code",
      "metadata": {
        "id": "kEl_axUq2_EC",
        "colab_type": "code",
        "colab": {
          "base_uri": "https://localhost:8080/",
          "height": 173
        },
        "outputId": "93d20aaf-8064-49de-f8c8-1435f5be399d"
      },
      "source": [
        "#印出解及目標值\n",
        "for v in prob.variables():\n",
        "    print(v.name, \"=\", v.varValue)\n",
        "print('obj=',value(prob.objective))\n",
        "\n",
        "#解的另一種方式\n",
        "for i in BIN:\n",
        "  print(ingredient_vars[i],\"=\",ingredient_vars[i].value())\n"
      ],
      "execution_count": 147,
      "outputs": [
        {
          "output_type": "stream",
          "text": [
            "BIN_B1C1 = 3.0\n",
            "BIN_B1C2 = 5.0\n",
            "BIN_B2C2 = 0.0\n",
            "BIN_D1E2 = 0.0\n",
            "obj= 8.0\n",
            "BIN_B2C2 = 0.0\n",
            "BIN_B1C1 = 3.0\n",
            "BIN_D1E2 = 0.0\n",
            "BIN_B1C2 = 5.0\n"
          ],
          "name": "stdout"
        }
      ]
    },
    {
      "cell_type": "code",
      "metadata": {
        "id": "drEaHHRQC73F",
        "colab_type": "code",
        "colab": {}
      },
      "source": [
        "ingredient_vars[1].value()"
      ],
      "execution_count": 0,
      "outputs": []
    }
  ]
}