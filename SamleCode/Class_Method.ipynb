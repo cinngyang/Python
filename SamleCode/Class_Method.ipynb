{
 "cells": [
  {
   "cell_type": "code",
   "execution_count": 1,
   "metadata": {},
   "outputs": [],
   "source": [
    "class Employee:\n",
    "    num_of_emp=0\n",
    "    raise_amount=1.03\n",
    "\n",
    "    def __init__(self,first,last,pay):\n",
    "        self.first=first\n",
    "        self.last=last\n",
    "        self.email=first+'.'+last+'@email.com'\n",
    "        self.pay=pay\n",
    "        self.num_of_emp=+1\n",
    "\n",
    "    def apply_raise(self):\n",
    "      self.pay=int(self.pay*self.raise_amount)\n",
    "\n",
    "    def fullname(self):\n",
    "        return '{} {}'.format(selft.first,self.last)\n",
    "\n",
    "    @classmethod\n",
    "    def set_raise_amount(cls, amount):\n",
    "        cls.raise_amount=amount\n",
    "\n",
    "    @classmethod\n",
    "    def from_str(cls,emp_str):\n",
    "        first,last,pay=emp_str.split('-')\n",
    "        return cls(first,last,pay)\n"
   ]
  },
  {
   "cell_type": "code",
   "execution_count": 2,
   "metadata": {},
   "outputs": [],
   "source": [
    "# Example\n",
    "emp1=Employee('Ray','Yang',6000)\n",
    "emp2=Employee('Patrick','Yang',9000)\n",
    "Employee.raise_amount=1.01"
   ]
  },
  {
   "cell_type": "code",
   "execution_count": 5,
   "metadata": {},
   "outputs": [
    {
     "name": "stdout",
     "output_type": "stream",
     "text": [
      "chin.Yang@email.com\n",
      "<bound method Employee.fullname of <__main__.Employee object at 0x000001ECA6AEE748>>\n",
      "1.05\n",
      "1.01\n"
     ]
    }
   ],
   "source": [
    "#\n",
    "emp3_str='chin-Yang-10000'\n",
    "emp3=Employee.from_str(emp3_str)\n",
    "print(emp3.email)\n",
    "\n",
    "print(emp1.fullname)\n",
    "emp1.raise_amount=1.05\n",
    "print(emp1.raise_amount)\n",
    "print(emp2.raise_amount)\n"
   ]
  }
 ],
 "metadata": {
  "kernelspec": {
   "display_name": "Python 3",
   "language": "python",
   "name": "python3"
  },
  "language_info": {
   "codemirror_mode": {
    "name": "ipython",
    "version": 3
   },
   "file_extension": ".py",
   "mimetype": "text/x-python",
   "name": "python",
   "nbconvert_exporter": "python",
   "pygments_lexer": "ipython3",
   "version": "3.5.4"
  }
 },
 "nbformat": 4,
 "nbformat_minor": 2
}
