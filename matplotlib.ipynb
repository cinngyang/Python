{
  "nbformat": 4,
  "nbformat_minor": 0,
  "metadata": {
    "colab": {
      "name": "matplotlib.ipynb",
      "version": "0.3.2",
      "provenance": [],
      "include_colab_link": true
    },
    "kernelspec": {
      "display_name": "Python 3",
      "language": "python",
      "name": "python3"
    }
  },
  "cells": [
    {
      "cell_type": "markdown",
      "metadata": {
        "id": "view-in-github",
        "colab_type": "text"
      },
      "source": [
        "[View in Colaboratory](https://colab.research.google.com/github/cinngyang/Python/blob/master/matplotlib.ipynb)"
      ]
    },
    {
      "metadata": {
        "id": "-KZlr2-x8Ai7",
        "colab_type": "text"
      },
      "cell_type": "markdown",
      "source": [
        "matplotlib"
      ]
    },
    {
      "metadata": {
        "id": "rvI6fM3u8Ai-",
        "colab_type": "code",
        "colab": {}
      },
      "cell_type": "code",
      "source": [
        "import matplotlib.pyplot as plt\n",
        "import numpy as np\n",
        "from scipy import stats"
      ],
      "execution_count": 0,
      "outputs": []
    },
    {
      "metadata": {
        "id": "rppkrJwp8AjD",
        "colab_type": "code",
        "colab": {}
      },
      "cell_type": "code",
      "source": [
        "#@title Double click on this line in the code cell. { run: \"auto\", vertical-output: true, display-mode: \"form\" }\n",
        "Wdd_Mean= 451.25 #@param {type:\"number\"}\n",
        "Wdd_Std= 1 #@param {type:\"number\"}\n",
        "Confidence= 0.95 #@param {type:\"number\"}"
      ],
      "execution_count": 0,
      "outputs": []
    }
  ]
}