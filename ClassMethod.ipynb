{
  "nbformat": 4,
  "nbformat_minor": 0,
  "metadata": {
    "colab": {
      "name": "ClassMethod.ipynb",
      "version": "0.3.2",
      "provenance": [],
      "include_colab_link": true
    },
    "kernelspec": {
      "display_name": "Python 3",
      "language": "python",
      "name": "python3"
    }
  },
  "cells": [
    {
      "cell_type": "markdown",
      "metadata": {
        "id": "view-in-github",
        "colab_type": "text"
      },
      "source": [
        "[View in Colaboratory](https://colab.research.google.com/github/cinngyang/Python/blob/master/ClassMethod.ipynb)"
      ]
    },
    {
      "metadata": {
        "id": "HmCVNAaK8Qqe",
        "colab_type": "text"
      },
      "cell_type": "markdown",
      "source": [
        "+ 類別\n",
        "+ 繼承\n",
        "+ 多形\n",
        "+ 封裝 <br>\n",
        "CURD<br>"
      ]
    },
    {
      "metadata": {
        "id": "u6V-cI2N8TCI",
        "colab_type": "text"
      },
      "cell_type": "markdown",
      "source": [
        "函式（Function）、模組（Module）、類別（Class）與套件(Package)。<p>\n",
        "+ 套件(Package) : 目錄中放入 __init__.py ，這樣 Python 就會將這個目錄視為一個套件，而目錄名稱就是套件名稱。\n",
        "+ 類別(Class) : 狀態與功能黏在一起時\n",
        "+ 模組: 檔名命名 EX:  modu.py 就是建立了一個 modu 模組,  import modu 會在相同目錄下尋找，如果沒找到，則會 sys.path 中尋找, import as 與 from import，它們用來在現有範疇（Scope）中匯入設定名稱空間\n",
        "+ 函式\n",
        "\n",
        " ### Reference\n",
        "[函式、模組、類別與套件](https://github.com/cinngyang/Python/blob/master/ClassMethod.ipynb)<br>\n",
        "[模組](https://openhome.cc/Gossip/Python/ModuleABC.html)<br>\n",
        "[類別](https://openhome.cc/Gossip/Python/Class.html)<br>"
      ]
    },
    {
      "metadata": {
        "id": "itJU8OKx8Qqg",
        "colab_type": "code",
        "colab": {}
      },
      "cell_type": "code",
      "source": [
        "class Cat():\n",
        "    #屬性\n",
        "    kind='small' \n",
        "    \n",
        "    #建構子\n",
        "    def __init__(self,color):\n",
        "        self.__color=color    \n",
        "    #\n",
        "    def setSound(self,sound):\n",
        "        self.sound=sound\n",
        "       \n",
        "        \n",
        "    def getColor(self):\n",
        "        return self.__color      \n",
        "     \n",
        "    #解構子    \n",
        "    def __del__(self):\n",
        "        print(\"NULL\")"
      ],
      "execution_count": 0,
      "outputs": []
    },
    {
      "metadata": {
        "id": "zyHsE4Mj8Qqj",
        "colab_type": "code",
        "colab": {},
        "outputId": "6fe7b817-55e1-4934-d36b-412b1425105d"
      },
      "cell_type": "code",
      "source": [
        "# .__color 避免被繼承\n",
        "tom=Cat(\"white\")\n",
        "print(tom.getColor())\n",
        "\n",
        "tom.setSound(\"meo\")\n",
        "print(tom.sound)"
      ],
      "execution_count": 0,
      "outputs": [
        {
          "output_type": "stream",
          "text": [
            "NULL\n",
            "white\n",
            "meo\n"
          ],
          "name": "stdout"
        }
      ]
    },
    {
      "metadata": {
        "id": "IEutH-u18Qqn",
        "colab_type": "text"
      },
      "cell_type": "markdown",
      "source": [
        "+ 繼承 \n",
        "+ super() 處理類別避免繼承\n",
        "+ overwritw "
      ]
    },
    {
      "metadata": {
        "id": "Ua4O2lI08Qqo",
        "colab_type": "code",
        "colab": {}
      },
      "cell_type": "code",
      "source": [
        "class kitten(Cat):\n",
        "    \n",
        "    def __init__(self,color,name):\n",
        "        super().__init__(color)\n",
        "        self.__name=name\n",
        "        \n",
        "    def getName(self):\n",
        "        return self.__name  \n",
        "    \n",
        "    def getColor(self):\n",
        "        return \"Over Write\"\n",
        "   "
      ],
      "execution_count": 0,
      "outputs": []
    },
    {
      "metadata": {
        "id": "UjTTfyD_8Qqp",
        "colab_type": "code",
        "colab": {},
        "outputId": "f481a467-50d0-4f0a-dd21-3c188584650b"
      },
      "cell_type": "code",
      "source": [
        "kity=kitten(\"pink\",\"kity\")\n",
        "print(kity.getColor())\n",
        "print(kity.getName())"
      ],
      "execution_count": 0,
      "outputs": [
        {
          "output_type": "stream",
          "text": [
            "NULL\n",
            "Over Write\n",
            "kity\n"
          ],
          "name": "stdout"
        }
      ]
    },
    {
      "metadata": {
        "id": "XHj5FGck8Qqs",
        "colab_type": "code",
        "colab": {},
        "outputId": "3e39b55d-8c93-4e29-dbd5-762fd127eabe"
      },
      "cell_type": "code",
      "source": [
        "try:\n",
        "    int(1+\"XXX\")\n",
        "except ValueError:\n",
        "    print(\"Oops!  That was no valid number.  Try again...\")\n",
        "except :    \n",
        "    print(\"Err !  Try again...\")"
      ],
      "execution_count": 0,
      "outputs": [
        {
          "output_type": "stream",
          "text": [
            "Err !  Try again...\n"
          ],
          "name": "stdout"
        }
      ]
    }
  ]
}