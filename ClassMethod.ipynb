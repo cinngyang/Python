{
 "cells": [
  {
   "cell_type": "markdown",
   "metadata": {},
   "source": [
    "Python Class 物件導向<br>\n",
    "#_*_coding:utf-8_*_ utf-8 編碼\n",
    "+ 命名規則\n",
    "+ 類別\n",
    "+ 繼承\n",
    "+ 多形\n",
    "+ 封裝 <br>\n",
    "CURD<br>"
   ]
  },
  {
   "cell_type": "code",
   "execution_count": 10,
   "metadata": {},
   "outputs": [],
   "source": [
    "class Cat():\n",
    "    #屬性\n",
    "    kind='small' \n",
    "    \n",
    "    #建構子\n",
    "    def __init__(self,color):\n",
    "        self.__color=color    \n",
    "    #\n",
    "    def setSound(self,sound):\n",
    "        self.sound=sound\n",
    "       \n",
    "        \n",
    "    def getColor(self):\n",
    "        return self.__color      \n",
    "     \n",
    "    #解構子    \n",
    "    def __del__(self):\n",
    "        print(\"NULL\")"
   ]
  },
  {
   "cell_type": "code",
   "execution_count": 12,
   "metadata": {},
   "outputs": [
    {
     "name": "stdout",
     "output_type": "stream",
     "text": [
      "NULL\n",
      "white\n",
      "meo\n"
     ]
    }
   ],
   "source": [
    "# .__color 避免被繼承\n",
    "tom=Cat(\"white\")\n",
    "print(tom.getColor())\n",
    "\n",
    "tom.setSound(\"meo\")\n",
    "print(tom.sound)"
   ]
  },
  {
   "cell_type": "markdown",
   "metadata": {},
   "source": [
    "+ 繼承 \n",
    "+ super() 處理類別避免繼承\n",
    "+ overwritw "
   ]
  },
  {
   "cell_type": "code",
   "execution_count": 34,
   "metadata": {},
   "outputs": [],
   "source": [
    "class kitten(Cat):\n",
    "    \n",
    "    def __init__(self,color,name):\n",
    "        super().__init__(color)\n",
    "        self.__name=name\n",
    "        \n",
    "    def getName(self):\n",
    "        return self.__name  \n",
    "    \n",
    "    def getColor(self):\n",
    "        return \"Over Write\"\n",
    "   "
   ]
  },
  {
   "cell_type": "code",
   "execution_count": 35,
   "metadata": {},
   "outputs": [
    {
     "name": "stdout",
     "output_type": "stream",
     "text": [
      "NULL\n",
      "Over Write\n",
      "kity\n"
     ]
    }
   ],
   "source": [
    "kity=kitten(\"pink\",\"kity\")\n",
    "print(kity.getColor())\n",
    "print(kity.getName())"
   ]
  }
 ],
 "metadata": {
  "kernelspec": {
   "display_name": "Python 3",
   "language": "python",
   "name": "python3"
  },
  "language_info": {
   "codemirror_mode": {
    "name": "ipython",
    "version": 3
   },
   "file_extension": ".py",
   "mimetype": "text/x-python",
   "name": "python",
   "nbconvert_exporter": "python",
   "pygments_lexer": "ipython3",
   "version": "3.6.5"
  }
 },
 "nbformat": 4,
 "nbformat_minor": 2
}
