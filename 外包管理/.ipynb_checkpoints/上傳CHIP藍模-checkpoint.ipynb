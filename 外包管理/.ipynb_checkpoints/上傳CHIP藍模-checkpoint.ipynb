{
 "cells": [
  {
   "cell_type": "code",
   "execution_count": 1,
   "metadata": {},
   "outputs": [],
   "source": [
    "import pandas as pd\n",
    "from datetime import datetime\n",
    "from LexLib import ConnectDB as cn\n",
    "from LexLib import WriteExcel \n",
    "import numpy as np\n",
    "from dateutil.relativedelta import relativedelta\n",
    "import os"
   ]
  },
  {
   "cell_type": "code",
   "execution_count": 2,
   "metadata": {},
   "outputs": [],
   "source": [
    "LogFile='Inv_PKGOutSouring_CHIP'\n",
    "LogMsg='Program Start'"
   ]
  },
  {
   "cell_type": "code",
   "execution_count": 3,
   "metadata": {},
   "outputs": [],
   "source": [
    "to_excel=WriteExcel.WriteExcel(LogFile)\n",
    "to_excel.WiteLog(LogFile,LogMsg)"
   ]
  },
  {
   "cell_type": "code",
   "execution_count": 4,
   "metadata": {},
   "outputs": [],
   "source": [
    "def Get_PO(vendor_code,creation_date='2019/07/01'):\n",
    "    '''買回PKG'''\n",
    "    sSQL=\"select pv.segment1 vendor_code,pv.vendor_name,mp.organization_code, \"\n",
    "    sSQL+=\"pha.segment1 po_no,pla.line_num,pla.creation_date, \"\n",
    "    sSQL+=\"nvl(pha.authorization_status, 'INCOMPLETE') authorization_status,\"\n",
    "    sSQL+=\"msi.segment1 item_no,plla.quantity,plla.quantity_received,plla.quantity_cancelled, \"\n",
    "    sSQL+=\"(plla.quantity - nvl(plla.quantity_received, 0) - nvl(plla.quantity_cancelled, 0)) OPEN_QTY \"\n",
    "    sSQL+=\" from po.po_headers_all  pha,po.po_lines_all pla,\"\n",
    "    sSQL+=\" po.po_line_locations_all plla, inv.mtl_system_items_b   msi,inv.mtl_parameters  mp, \"\n",
    "    sSQL+=\" po.po_vendors pv \"\n",
    "    sSQL+=\" where pha.po_header_id = pla.po_header_id and pla.po_header_id = plla.po_header_id \"\n",
    "    sSQL+=\"and pla.po_line_id = plla.po_line_id and plla.ship_to_organization_id = msi.organization_id \"\n",
    "    sSQL+=\"and pla.item_id = msi.inventory_item_id and plla.ship_to_organization_id = mp.organization_id \"\n",
    "    sSQL+=\" and pha.vendor_id = pv.vendor_id   \"\n",
    "    sSQL+=\" and pv.segment1 in (\"+vendor_code+\") \"\n",
    "    sSQL+=\" and pla.creation_date > to_date('\"+creation_date+\"', 'yyyy/MM/dd') \"\n",
    "    return sSQL"
   ]
  },
  {
   "cell_type": "code",
   "execution_count": 5,
   "metadata": {},
   "outputs": [],
   "source": [
    "def Get_SO(order_number):\n",
    "    '取得 訂單'\n",
    "    sSQL=\" select MP.organization_code as org, \"\n",
    "    sSQL+=\" OH.ORDER_NUMBER,OL.LINE_NUMBER || '.' || OL.SHIPMENT_NUMBER LINE_NUIMBER,OL.FLOW_STATUS_CODE,\"\n",
    "    sSQL+=\" OL.CREATION_DATE,OL.CUST_PO_NUMBER,OL.ATTRIBUTE20 Model_Name,OL.ORDERED_ITEM,\"\n",
    "    sSQL+=\" OL.ORDERED_QUANTITY, OL.ACTUAL_SHIPMENT_DATE, OL.ORDER_QUANTITY_UOM \"      \n",
    "    sSQL+=\" FROM ONT.OE_ORDER_HEADERS_ALL OH, ONT.OE_ORDER_LINES_ALL   OL, INV.mtl_parameters       MP\"\n",
    "    sSQL+=\" where OH.HEADER_ID = OL.HEADER_ID and oh.order_number  in \"+ order_number\n",
    "    sSQL+=\" AND MP.organization_ID = OL.SHIP_FROM_ORG_ID \"\n",
    "    sSQL+=\" order by ORDER_NUMBER,LINE_NUMBER \"\n",
    "    return sSQL"
   ]
  },
  {
   "cell_type": "code",
   "execution_count": 6,
   "metadata": {},
   "outputs": [],
   "source": [
    "def Get_ShipDate(customerpo):\n",
    "    '''WHMS 回傳 備貨單 找出貨紀錄'''\n",
    "    sSQL=\" select sh.shipmentno,sh.SONO,sh.customerpo,sh.shippeddate \"\n",
    "    sSQL+=\" from whmsrpt.tblinvshipmentbasis sh \"\n",
    "    sSQL+=\" where sh.state=3 and sh.shipmentno in \"+customerpo\n",
    "    return sSQL    "
   ]
  },
  {
   "cell_type": "code",
   "execution_count": 7,
   "metadata": {},
   "outputs": [],
   "source": [
    "def GetPkg_Commit(shift_date):\n",
    "    sSQL=\"select c.model_group,c.model_name,c.part_no,c.shift_date,c.qty \"\n",
    "    sSQL+=\" from fabods.PKG_OUTSOUR_COMIT c \"\n",
    "    sSQL+=\" where version = (select max(version) from fabods.PKG_OUTSOUR_COMIT) \"\n",
    "    sSQL+=\" and c.shift_date > to_date('\"+shift_date+\"','yyyy/MM/dd') \"\n",
    "    return sSQL"
   ]
  },
  {
   "cell_type": "code",
   "execution_count": 8,
   "metadata": {},
   "outputs": [],
   "source": [
    "def Get_TapeID(shipmentno):\n",
    "    ''' WHMS 備貨單取得藍模清單 '''\n",
    "    \n",
    "    sSQL=\" select b.productno_c,b.productno,b.shipmentno,b.boxid,b.state,b.qty,bd.lotno,bd.qty \"\n",
    "    sSQL+=\" from whmsrpt.tblinvboxbasis b, \"\n",
    "    sSQL+=\" whmsrpt.tblinvboxdetail bd \"\n",
    "    sSQL+=\" where b.shipmentno='\"+shipmentno+\"'  and b.boxid=bd.boxid \" \n",
    "\n",
    "    return sSQL"
   ]
  },
  {
   "cell_type": "code",
   "execution_count": 9,
   "metadata": {},
   "outputs": [],
   "source": [
    "def Get_ShipTapeID(boxid='WB98VCS0123'):    \n",
    "    #--備貨單 -> 箱號\n",
    "    '''WHMS 箱號取得藍模清單 '''\n",
    "    sSQL=\" select b.productno_c,b.productno,b.shipmentno,b.boxid,bd.lotno \"\n",
    "    sSQL+=\" from whmsrpt.tblinvboxbasis b, \"\n",
    "    sSQL+=\" whmsrpt.tblinvboxdetail bd \"\n",
    "    sSQL+=\" where  b.boxid=bd.boxid and b.boxid='\"+boxid+\"' \"\n",
    "    \n",
    "    return sSQL"
   ]
  },
  {
   "cell_type": "code",
   "execution_count": 10,
   "metadata": {},
   "outputs": [],
   "source": [
    "def GetModelGroup():\n",
    "    sSQL=\" select distinct l.model_group,l.model_name,l.part_no \"\n",
    "    sSQL+=\" from erprpt.vsinv_itf_mtl l \"\n",
    "    sSQL+=\" where l.part_no like '95%' \"\n",
    "    return sSQL"
   ]
  },
  {
   "cell_type": "code",
   "execution_count": 11,
   "metadata": {},
   "outputs": [],
   "source": [
    "def buInStr(L1):    \n",
    "    'SQL list 轉換為 IN'\n",
    "    #L1=['123','456','789']\n",
    "    strIn=\"','\".join(L1)+\"'\"\n",
    "    return \"('\"+strIn+\")\""
   ]
  },
  {
   "cell_type": "code",
   "execution_count": 12,
   "metadata": {},
   "outputs": [],
   "source": [
    "def GetPKG_PO(venders,creation_date='2019/01/01'):\n",
    "    \n",
    "    '''取得買回 PKG PO '''\n",
    "    \n",
    "    sSQL=\"select CAST(pha.vendor_id AS varchar(7)) as org,pha.vendor_id,pv.vendor_name,pha.po_header_id,\"\n",
    "    sSQL+=\"pha.segment1 po_no,TRUNC(pha.creation_date) as creation_date,msi.segment1 as part_no,plla.quantity,\"\n",
    "    sSQL+=\"plla.quantity_received,plla.quantity_cancelled,\"\n",
    "    sSQL+=\" (plla.quantity - nvl(plla.quantity_received, 0) - nvl(plla.quantity_cancelled, 0)) open_po \"     \n",
    "    sSQL+=\" from po.po_headers_all  pha, po.po_lines_all  pla, po.po_line_locations_all plla, \"\n",
    "    sSQL+=\" po.po_distributions_all  pda, inv.mtl_system_items_b   msi,  inv.mtl_parameters  mp,  po.po_vendors pv\"\n",
    "    sSQL+=\" where pha.po_header_id = pla.po_header_id \"\n",
    "    sSQL+=\" and pla.po_header_id = plla.po_header_id and pla.po_line_id = plla.po_line_id \"\n",
    "    sSQL+=\" and plla.ship_to_organization_id = msi.organization_id \"\n",
    "    sSQL+=\" and pla.item_id = msi.inventory_item_id \"\n",
    "    sSQL+=\" and pla.po_header_id = pda.po_header_id \"\n",
    "    sSQL+=\" and pla.po_line_id = pda.po_line_id \"\n",
    "    sSQL+=\" and plla.ship_to_organization_id = mp.organization_id \"\n",
    "    sSQL+=\" and pha.creation_date > to_date('\"+creation_date+\"','yyyy/MM/dd')\"\n",
    "    sSQL+=\" and pha.authorization_status IN ('APPROVED', 'INPROCESS', 'REQUIRES REAPPROVAL') \"\n",
    "    sSQL+=\" and pda.wip_entity_id is null \"\n",
    "    sSQL+=\" and pha.vendor_id in \"+venders\n",
    "    sSQL+=\" and pha.vendor_id = pv.vendor_id \"\n",
    "    sSQL+=\" and msi.segment1 like '95%' \"\n",
    "    \n",
    "    return sSQL"
   ]
  },
  {
   "cell_type": "code",
   "execution_count": 13,
   "metadata": {},
   "outputs": [],
   "source": [
    "def GetPkgBom(part_no):\n",
    "    sSQL=\"select p.parent_part_no,s.child_part_no,s.quantity \"\n",
    "    sSQL+=\" from (select distinct parent_part_no,[primary/substitute],child_part_no,quantity \"\n",
    "    sSQL+=\" from [dbo].[BOM_line] where parent_part_no like '95%' and child_part_no like '50%') p, \"\n",
    "    sSQL+=\" (select distinct parent_part_no,[primary/substitute],child_part_no,quantity \"\n",
    "    sSQL+=\" from [dbo].[BOM_line] where parent_part_no like '50%' and child_part_no like '40%') s \"\n",
    "    sSQL+=\" where p.child_part_no=s.parent_part_no and p.parent_part_no='\"+part_no+\"'\"\n",
    "    return sSQL"
   ]
  },
  {
   "cell_type": "markdown",
   "metadata": {},
   "source": [
    "膜片号\t批次号\t品号\t数量\t工厂\t袋号\tVFMin\tVFMax\tVFAvg\tVFStd\tIVMin\tIVMax\tIVAvg\tIVStd\tWLDMin\tWLDMax\tWLDAvg\tWLDStd\t采购订单号\t创建时间\t创建人"
   ]
  },
  {
   "cell_type": "code",
   "execution_count": 14,
   "metadata": {},
   "outputs": [],
   "source": [
    "Folder=\"//lexdev05//d$//LextarReport/tempfile//PKG_OutSouring_CHIP_OH//\"\n",
    "File=\"PKG_OutSouring_CHIP_OH_20200108.xlsx\""
   ]
  },
  {
   "cell_type": "code",
   "execution_count": 15,
   "metadata": {},
   "outputs": [],
   "source": [
    "LogMsg='讀取檔案-'+Folder+File\n",
    "to_excel.WiteLog(LogFile,LogMsg)"
   ]
  },
  {
   "cell_type": "code",
   "execution_count": 16,
   "metadata": {},
   "outputs": [],
   "source": [
    "#讀取檔案\n",
    "df1=pd.read_excel(Folder+File)\n",
    "# ReName Columns\n",
    "colimns=df1.iloc[0,:].to_list()\n",
    "df1.columns=colimns\n",
    "\n",
    "# 刪除表頭\n",
    "df1=df1.drop(df1.index[0])\n",
    "colName={\"膜片号\":\"TypeID\",\"批次号\":\"Lot\",\"品号\":\"CPN\",\"数量\":\"QTY\",\"袋号\":'boxid',\"采购订单号\":'customerpo'}\n",
    "df1=df1.rename(columns=colName)"
   ]
  },
  {
   "cell_type": "markdown",
   "metadata": {},
   "source": [
    "TypeID\tLot\tCPN\tQTY\t工厂\tboxid\tVFMin\tVFMax\tVFAvg\tVFStd\t...\tIVMax\tIVAvg\tIVStd\tWLDMin\tWLDMax\tWLDAvg\tWLDStd\tcustomerpo\t创建时间\t创建人"
   ]
  },
  {
   "cell_type": "code",
   "execution_count": 17,
   "metadata": {},
   "outputs": [],
   "source": [
    "#外包商提供捲帶 Boxid 對應 WHMS 取得備貨單號\n",
    "#Call - API 傳入 BOXID List\n",
    "lBoxid=df1['boxid'].unique()\n",
    "dfShipNO=pd.DataFrame()\n",
    "dbCon=cn.OracCn()\n",
    "\n",
    "for i in range(0,len(lBoxid)):\n",
    "    strSql=Get_ShipTapeID(lBoxid[i])\n",
    "    dfTemp=dbCon.Exec_OracleCommend(dbCon.C01HIS01,strSql)    \n",
    "    dfShipNO=dfShipNO.append(dfTemp,ignore_index=True)        \n",
    "   "
   ]
  },
  {
   "cell_type": "code",
   "execution_count": 18,
   "metadata": {},
   "outputs": [],
   "source": [
    "# 備貨單回串目前庫存 - 合併\n",
    "df2=pd.merge(df1,dfShipNO,how='left',left_on='TypeID',right_on='LOTNO')"
   ]
  },
  {
   "cell_type": "markdown",
   "metadata": {},
   "source": [
    "df1.loc[1:2,['CPN','VFMin', 'VFMax', 'VFAvg',\n",
    "       'VFStd', 'IVMin', 'IVMax', 'IVAvg', 'IVStd', 'WLDMin', 'WLDMax',\n",
    "       'WLDAvg', 'WLDStd']]"
   ]
  },
  {
   "cell_type": "code",
   "execution_count": 19,
   "metadata": {},
   "outputs": [],
   "source": [
    "columns=['TypeID', 'Lot', 'CPN', 'QTY', '工厂', 'boxid','customerpo', '创建时间', '创建人', 'PRODUCTNO_C','PRODUCTNO', 'SHIPMENTNO','VFMin','VFMax','VFAvg','VFStd','WLDAvg','WLDStd']\n",
    "df2=df2[columns]"
   ]
  },
  {
   "cell_type": "code",
   "execution_count": 20,
   "metadata": {},
   "outputs": [],
   "source": [
    "# 取得出貨時間 Merge \n",
    "# Call - API\n",
    "lpo=df2['SHIPMENTNO'].unique()\n",
    "strPo=buInStr(lpo)\n",
    "strSql=Get_ShipDate(strPo)\n",
    "dfShipDate=dbCon.Exec_OracleCommend(dbCon.C01HIS01,strSql)\n",
    "df2=pd.merge(df2,dfShipDate,how='left',left_on='SHIPMENTNO',right_on='SHIPMENTNO')\n",
    "df2.to_excel(\"1_外包庫存.xlsx\")"
   ]
  },
  {
   "cell_type": "code",
   "execution_count": null,
   "metadata": {},
   "outputs": [],
   "source": [
    "#df2['PRODUCTNO'].unique()"
   ]
  },
  {
   "cell_type": "markdown",
   "metadata": {},
   "source": [
    "取 PO 計算需要 CHIP 庫存"
   ]
  },
  {
   "cell_type": "code",
   "execution_count": 21,
   "metadata": {},
   "outputs": [],
   "source": [
    "# 前一年 PO 代表所有未結\n",
    "# Call API\n",
    "PO_Date='2019/01/01' \n",
    "#Vendor Code\n",
    "vendor=['2055048', '2568082']\n",
    "vends=buInStr(vendor)\n",
    "strSql=GetPKG_PO(vends,PO_Date)\n",
    "dfPO=dbCon.Exec_OracleCommend(dbCon.LEX_PROD,strSql)    "
   ]
  },
  {
   "cell_type": "code",
   "execution_count": 22,
   "metadata": {},
   "outputs": [],
   "source": [
    "# Mapping Model Name , Model Group\n",
    "#PO 對應 Model \n",
    "strSql=GetModelGroup()\n",
    "dfMG=dbCon.Exec_OracleCommend(dbCon.T01HIS1,strSql)  \n",
    "dfPO=pd.merge(dfPO,dfMG,how='left',left_on='PART_NO',right_on='PART_NO')\n",
    "dfPO['MONTH']=dfPO['CREATION_DATE'].apply(lambda x: x.month)"
   ]
  },
  {
   "cell_type": "code",
   "execution_count": 23,
   "metadata": {},
   "outputs": [],
   "source": [
    "col=['ORG', 'VENDOR_ID', 'VENDOR_NAME', 'PO_HEADER_ID', 'PO_NO',\n",
    "       'CREATION_DATE','MONTH', 'MODEL_GROUP','MODEL_NAME','PART_NO', 'QUANTITY', 'QUANTITY_RECEIVED',\n",
    "       'QUANTITY_CANCELLED', 'OPEN_PO', 'CHIP', 'UNIT', 'USAGE', ]\n",
    "dfPO=dfPO.reindex(columns=col)"
   ]
  },
  {
   "cell_type": "code",
   "execution_count": 24,
   "metadata": {},
   "outputs": [],
   "source": [
    "dfPO.to_excel(\"2_OPEN_PO.xlsx\")"
   ]
  },
  {
   "cell_type": "code",
   "execution_count": null,
   "metadata": {},
   "outputs": [],
   "source": []
  },
  {
   "cell_type": "code",
   "execution_count": 25,
   "metadata": {},
   "outputs": [],
   "source": [
    "# 需求 CHIP Blance 計算\n",
    "# 不確慶目前供應商生產到哪裡 \n",
    "# 取 Open PO\n",
    "dfPO=dfPO[dfPO['OPEN_PO']>0]\n",
    "lPkgs=dfPO['PART_NO'].unique()"
   ]
  },
  {
   "cell_type": "markdown",
   "metadata": {},
   "source": [
    "料號                 CHIP           用量\n",
    "95.S2604.W0A007S\t40.09455.2C4\t1\n",
    "95.S3004.W0A01XS\t40.09455.2C4\t1\n",
    "95.S3806.W0A0C1S\t40.09455.2C4\t1\n",
    "95.T7020.A0C115S\t40.22358.2C2\t2"
   ]
  },
  {
   "cell_type": "code",
   "execution_count": 26,
   "metadata": {},
   "outputs": [],
   "source": [
    "# Lex 提供的 CHIP -- #dfPO.to_excel(\"PKG_OutSouring_PKG_PO_20191118.xlsx\")\n",
    "Pars = {'PKG': ['95.S2604.W0A007S', '95.S3004.W0A01XS','95.S3806.W0A0C1S','95.T7020.A0C115S'],\n",
    "         'CHIP': ['40.09455.2C4', '40.09455.2C4','40.09455.2C4','40.22358.2C2'],\n",
    "         'USAGE':[1,1,1,2]}\n",
    "dfParts=pd.DataFrame(data=Pars)"
   ]
  },
  {
   "cell_type": "code",
   "execution_count": 27,
   "metadata": {},
   "outputs": [],
   "source": [
    "dfParts.to_excel(\"3_外包_BOM.xlsx\")"
   ]
  },
  {
   "cell_type": "code",
   "execution_count": null,
   "metadata": {},
   "outputs": [],
   "source": [
    "# 建立計算欄位\n",
    "dfPO['CHIP']='NA'\n",
    "dfPO['UNIT']=0\n",
    "dfPO['USAGE']=0"
   ]
  },
  {
   "cell_type": "code",
   "execution_count": null,
   "metadata": {},
   "outputs": [],
   "source": [
    "# 計算 CHIP 需求量\n",
    "for i in range(dfParts.shape[0]):\n",
    "    #print(dfParts.iloc[i,0],dfParts.iloc[i,1],dfParts.iloc[i,2])\n",
    "    dfPO.loc[dfPO['PART_NO']==dfParts.iloc[i,0],'CHIP']=dfParts.iloc[i,1]\n",
    "    dfPO.loc[dfPO['PART_NO']==dfParts.iloc[i,0],'UNIT']=dfParts.iloc[i,2]\n",
    "\n",
    "dfPO['USAGE']=dfPO['UNIT']*dfPO['OPEN_PO']    "
   ]
  },
  {
   "cell_type": "code",
   "execution_count": null,
   "metadata": {},
   "outputs": [],
   "source": [
    "#供應商庫存部含 WIP 計算 CHIP Blance\n",
    "INV=df2.loc[:,['PRODUCTNO','QTY']].groupby('PRODUCTNO').sum().reset_index()\n",
    "\n",
    "#OPEN 需要庫存\n",
    "dfCHIReq=dfPO.loc[dfPO['UNIT']>0,['CHIP','USAGE']].groupby('CHIP').sum().reset_index()\n",
    "dfCHIReq=dfCHIReq.rename(columns={'CHIP':'PRODUCTNO'}).reindex()\n",
    "dfCHIReq=pd.merge(dfCHIReq,INV,how='outer')\n",
    "dfCHIReq=dfCHIReq.fillna(0)\n",
    "dfCHIReq['BALNCE']=dfCHIReq['QTY']-dfCHIReq['USAGE']\n",
    "dfCHIReq=dfCHIReq.rename(columns={'QTY':'供應商庫存','USAGE':'OPEN PO 需求'}).reindex()"
   ]
  },
  {
   "cell_type": "code",
   "execution_count": null,
   "metadata": {},
   "outputs": [],
   "source": [
    "# 取月份\n",
    "df2['MONTH']=df2['SHIPPEDDATE'].apply(lambda x: x.month)"
   ]
  },
  {
   "cell_type": "code",
   "execution_count": null,
   "metadata": {},
   "outputs": [],
   "source": [
    "# 庫齡\n",
    "CHIP_INV=pd.pivot_table(df2,index=['PRODUCTNO'],columns=['MONTH'],values=['QTY',],fill_value=0,aggfunc=np.sum,margins=True)\n",
    "CHIP_INV.columns = CHIP_INV.columns.droplevel()\n",
    "CHIP_INV=CHIP_INV.reset_index()\n",
    "CHIP_INV.columns.name=None\n",
    "#CHIP_INV"
   ]
  },
  {
   "cell_type": "code",
   "execution_count": 28,
   "metadata": {},
   "outputs": [],
   "source": [
    "# 取得 PKG Commit\n",
    "shift_date='2019/01/01'\n",
    "strSql=GetPkg_Commit(shift_date)\n",
    "dfCommit=dbCon.Exec_OracleCommend(dbCon.T05DEV02,strSql) "
   ]
  },
  {
   "cell_type": "code",
   "execution_count": 29,
   "metadata": {},
   "outputs": [],
   "source": [
    "dfCommit.to_excel(\"4_外包_Commit.xlsx\")"
   ]
  },
  {
   "cell_type": "code",
   "execution_count": null,
   "metadata": {},
   "outputs": [],
   "source": [
    "# Commit 對應 CHIP \n",
    "# Commit 計算每日CHIP 需求\n",
    "#dfCommit[dfCommit['PART_NO']=='95.T7020.A0C115S']\n",
    "#dfCommit2=pd.merge(dfCommit,dfParts,how='left',left_on='PART_NO',right_on='PKG')\n",
    "#dfCommit2[dfCommit2['CHIP'].notna()]"
   ]
  },
  {
   "cell_type": "code",
   "execution_count": null,
   "metadata": {},
   "outputs": [],
   "source": [
    "# OPEN PO 彙總\n",
    "PoSummary=pd.pivot_table(dfPO,index=['MODEL_GROUP','MODEL_NAME'],columns=['MONTH'],values=['OPEN_PO',]\n",
    "                          ,fill_value=0,aggfunc=np.sum,margins=True)\n",
    "PoSummary.columns = PoSummary.columns.droplevel()\n",
    "PoSummary=PoSummary.reset_index()\n",
    "PoSummary.columns.name=None"
   ]
  },
  {
   "cell_type": "code",
   "execution_count": null,
   "metadata": {},
   "outputs": [],
   "source": [
    "FileName=\"OutSouring_CHIPINV\"+datetime.now().strftime('%Y%m%d')+\".xlsx\"\n",
    "Head_chFormat={}\n",
    "Raw_chFormat={}\n",
    "toExcel=WriteExcel.WriteExcel(FileName)"
   ]
  },
  {
   "cell_type": "code",
   "execution_count": null,
   "metadata": {},
   "outputs": [],
   "source": [
    "Raw_chFormat={}\n",
    "for i in range(2,len(PoSummary.columns)):\n",
    "    Raw_chFormat[PoSummary.columns[i]]=toExcel.cell_format_Number\n",
    "toExcel.AddSheetChForm(PoSummary,sheetName='OPEN_PO_Summary',Head_chFormat=Head_chFormat,Raw_chFormat=Raw_chFormat)"
   ]
  },
  {
   "cell_type": "code",
   "execution_count": null,
   "metadata": {},
   "outputs": [],
   "source": [
    "Raw_chFormat['CREATION_DATE']=toExcel.cell_NorDate\n",
    "Raw_chFormat['QUANTITY']=toExcel.cell_format_Number\n",
    "Raw_chFormat['QUANTITY_RECEIVED']=toExcel.cell_format_Number\n",
    "Raw_chFormat['OPEN_PO']=toExcel.cell_format_Number\n",
    "Raw_chFormat['USAGE']=toExcel.cell_format_Number\n",
    "Raw_chFormat['UNIT']=toExcel.cell_format_Number\n",
    "toExcel.AddSheetChForm(dfPO,sheetName='OPEN_PO',Head_chFormat=Head_chFormat,Raw_chFormat=Raw_chFormat)"
   ]
  },
  {
   "cell_type": "code",
   "execution_count": null,
   "metadata": {},
   "outputs": [],
   "source": [
    "Raw_chFormat['SHIPPEDDATE']=toExcel.cell_NorDate\n",
    "Raw_chFormat['QTY']=toExcel.cell_format_Number\n",
    "toExcel.AddSheetChForm(df2,sheetName='外包庫存',Head_chFormat=Head_chFormat,Raw_chFormat=Raw_chFormat)"
   ]
  },
  {
   "cell_type": "code",
   "execution_count": null,
   "metadata": {},
   "outputs": [],
   "source": [
    "toExcel.AddSheetChForm(CHIP_INV,sheetName='外包庫存庫齡',Head_chFormat=Head_chFormat,Raw_chFormat=Raw_chFormat)"
   ]
  },
  {
   "cell_type": "code",
   "execution_count": null,
   "metadata": {},
   "outputs": [],
   "source": [
    "Raw_chFormat['SHIFT_DATE']=toExcel.cell_NorDate\n",
    "toExcel.AddSheetChForm(dfCommit,sheetName='外包Commit',Head_chFormat=Head_chFormat,Raw_chFormat=Raw_chFormat)"
   ]
  },
  {
   "cell_type": "code",
   "execution_count": null,
   "metadata": {},
   "outputs": [],
   "source": [
    "Raw_chFormat['OPEN PO']=toExcel.cell_format_Number\n",
    "Raw_chFormat['需求']=toExcel.cell_format_Number\n",
    "Raw_chFormat['BLANCE']=toExcel.cell_format_Number\n",
    "toExcel.AddSheetChForm(dfCHIReq,sheetName='外包庫存對應需求',Head_chFormat=Head_chFormat,Raw_chFormat=Raw_chFormat)\n",
    "toExcel.Close()"
   ]
  }
 ],
 "metadata": {
  "kernelspec": {
   "display_name": "Python 3",
   "language": "python",
   "name": "python3"
  },
  "language_info": {
   "codemirror_mode": {
    "name": "ipython",
    "version": 3
   },
   "file_extension": ".py",
   "mimetype": "text/x-python",
   "name": "python",
   "nbconvert_exporter": "python",
   "pygments_lexer": "ipython3",
   "version": "3.7.3"
  }
 },
 "nbformat": 4,
 "nbformat_minor": 2
}
