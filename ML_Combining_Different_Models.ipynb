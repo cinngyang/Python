{
  "nbformat": 4,
  "nbformat_minor": 0,
  "metadata": {
    "colab": {
      "name": "Markdown Guide",
      "version": "0.3.2",
      "provenance": [],
      "collapsed_sections": [],
      "include_colab_link": true
    },
    "kernelspec": {
      "display_name": "Python 3",
      "name": "python3"
    }
  },
  "cells": [
    {
      "cell_type": "markdown",
      "metadata": {
        "id": "view-in-github",
        "colab_type": "text"
      },
      "source": [
        "[![Open In Colab](https://colab.research.google.com/assets/colab-badge.svg)](https://colab.research.google.com/github/cinngyang/Python/blob/master/ML_Combining_Different_Models.ipynb)"
      ]
    },
    {
      "metadata": {
        "colab_type": "text",
        "id": "uTnBkRyvGvhW"
      },
      "cell_type": "markdown",
      "source": [
        "Chapter 7 - Combining Different Models for Ensemble Learning\n",
        "==="
      ]
    },
    {
      "metadata": {
        "colab_type": "text",
        "id": "eYaIiIaJOPqi"
      },
      "cell_type": "markdown",
      "source": [
        "## 多數決"
      ]
    },
    {
      "metadata": {
        "id": "EeYf-u3TkyxW",
        "colab_type": "text"
      },
      "cell_type": "markdown",
      "source": [
        ""
      ]
    },
    {
      "metadata": {
        "id": "GwHuif5fmqk2",
        "colab_type": "code",
        "colab": {}
      },
      "cell_type": "code",
      "source": [
        "from sklearn import datasets\n",
        "from sklearn.model_selection import train_test_split "
      ],
      "execution_count": 0,
      "outputs": []
    },
    {
      "metadata": {
        "colab_type": "text",
        "id": "uSx6SUb1Komv"
      },
      "cell_type": "markdown",
      "source": [
        "## References"
      ]
    },
    {
      "metadata": {
        "colab_type": "text",
        "id": "5Y3CStVkLxqt"
      },
      "cell_type": "markdown",
      "source": [
        "* [Chapter 7 - Combining Different Models for Ensemble Learning](https://github.com/PacktPublishing/Python-Machine-Learning-Second-Edition/blob/master/Chapter07/ch07.ipynb)\n"
      ]
    }
  ]
}