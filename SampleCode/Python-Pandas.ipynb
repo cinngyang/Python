{
  "nbformat": 4,
  "nbformat_minor": 0,
  "metadata": {
    "colab": {
      "name": "Python-Pandas.ipynb",
      "version": "0.3.2",
      "provenance": [],
      "include_colab_link": true
    },
    "kernelspec": {
      "display_name": "Python 3",
      "language": "python",
      "name": "python3"
    }
  },
  "cells": [
    {
      "cell_type": "markdown",
      "metadata": {
        "id": "view-in-github",
        "colab_type": "text"
      },
      "source": [
        "[![Open In Colab](https://colab.research.google.com/assets/colab-badge.svg)](https://colab.research.google.com/github/cinngyang/Python/blob/master/Python-Pandas.ipynb)"
      ]
    },
    {
      "metadata": {
        "id": "MSPgkLRS-XpQ",
        "colab_type": "text"
      },
      "cell_type": "markdown",
      "source": [
        "read_csv  delimiter=\"\\t\"  "
      ]
    },
    {
      "metadata": {
        "id": "xZeyBHxE-lbG",
        "colab_type": "text"
      },
      "cell_type": "markdown",
      "source": [
        "\n",
        "+ DataFrame \n",
        "基本資訊 .shape .describe()  .head()  .tail()  .columns  .index  .info()<br>\n",
        "    Map Dict  EX:  **my_dict = {0:'setosa', 1:'versicolor', 2:'virginica'}  dtiris['target_names'] = dtiris['target_names'].map(my_dict)**<br>\n",
        "   資料選擇與篩選 : pd.loc /pd.iloc(Selection By Position) <br>tips[(tips['time'] == 'Dinner') & (tips['tip'] > 5.00)]<br>\n",
        "   處理空值 dropna() fillna() <br>\n",
        "\n",
        "\n",
        "### Reference\n",
        "[Pandas 基礎教學](https://oranwind.org/python-pandas-ji-chu-jiao-xue/)<br>\n",
        "[Data Frame 常用屬性與方法](https://ithelp.ithome.com.tw/articles/10185922)<br>\n",
        "[Python data analysis toolkit](http://pandas.pydata.org/pandas-docs/stable/)<br>\n",
        "[Comparison with SQL](http://pandas.pydata.org/pandas-docs/stable/comparison_with_sql.html)<br>\n",
        "[資料分析機器學習-資料取得](https://medium.com/@yehjames/%E8%B3%87%E6%96%99%E5%88%86%E6%9E%90-%E6%A9%9F%E5%99%A8%E5%AD%B8%E7%BF%92-%E7%AC%AC2-1%E8%AC%9B-%E5%A6%82%E4%BD%95%E7%8D%B2%E5%8F%96%E8%B3%87%E6%96%99-sklearn%E5%85%A7%E5%BB%BA%E8%B3%87%E6%96%99%E9%9B%86-baa8f027ed7b)<br>[Pandas 基礎操作-groupby](https://ithelp.ithome.com.tw/articles/10194852)<br>[One line if-condition-assignment](https://stackoverflow.com/questions/7872838/one-line-if-condition-assignment)<br>"
        "[Pandas-How to rewrite your SQL queries in Pandas](https://medium.com/jbennetcodes/how-to-rewrite-your-sql-queries-in-pandas-and-more-149d341fc53e)<br>"
      ]
    },
    {
      "metadata": {
        "id": "7pG8Ko-xAl5_",
        "colab_type": "code",
        "colab": {
          "base_uri": "https://localhost:8080/",
          "height": 170
        },
        "outputId": "35c9fd6e-d0bb-416e-bfbc-c6531a7c6a0c"
      },
      "cell_type": "code",
      "source": [
        "for i in range(1,10):\n",
        "    for j in range(1,10):\n",
        "        print('{:d} X {:d}={:2d}'.format(j,i,j*i),end=('|' if j< 9 else '\\n'))"
      ],
      "execution_count": 1,
      "outputs": [
        {
          "output_type": "stream",
          "text": [
            "1 X 1= 1|2 X 1= 2|3 X 1= 3|4 X 1= 4|5 X 1= 5|6 X 1= 6|7 X 1= 7|8 X 1= 8|9 X 1= 9\n",
            "1 X 2= 2|2 X 2= 4|3 X 2= 6|4 X 2= 8|5 X 2=10|6 X 2=12|7 X 2=14|8 X 2=16|9 X 2=18\n",
            "1 X 3= 3|2 X 3= 6|3 X 3= 9|4 X 3=12|5 X 3=15|6 X 3=18|7 X 3=21|8 X 3=24|9 X 3=27\n",
            "1 X 4= 4|2 X 4= 8|3 X 4=12|4 X 4=16|5 X 4=20|6 X 4=24|7 X 4=28|8 X 4=32|9 X 4=36\n",
            "1 X 5= 5|2 X 5=10|3 X 5=15|4 X 5=20|5 X 5=25|6 X 5=30|7 X 5=35|8 X 5=40|9 X 5=45\n",
            "1 X 6= 6|2 X 6=12|3 X 6=18|4 X 6=24|5 X 6=30|6 X 6=36|7 X 6=42|8 X 6=48|9 X 6=54\n",
            "1 X 7= 7|2 X 7=14|3 X 7=21|4 X 7=28|5 X 7=35|6 X 7=42|7 X 7=49|8 X 7=56|9 X 7=63\n",
            "1 X 8= 8|2 X 8=16|3 X 8=24|4 X 8=32|5 X 8=40|6 X 8=48|7 X 8=56|8 X 8=64|9 X 8=72\n",
            "1 X 9= 9|2 X 9=18|3 X 9=27|4 X 9=36|5 X 9=45|6 X 9=54|7 X 9=63|8 X 9=72|9 X 9=81\n"
          ],
          "name": "stdout"
        }
      ]
    },
    {
      "metadata": {
        "id": "th87SqfEXUUu",
        "colab_type": "text"
      },
      "cell_type": "markdown",
      "source": [
        "\n",
        "ship95=df[['part','org','ship_to','cust_name','ship_to']]\n",
        "ship95=ship95[ship95['part'].str[0:2]=='95'].groupby(['org','cust_name'],as_index=False).count()"
      ]
    },
    {
      "metadata": {
        "id": "Drl-7Z-K-XpW",
        "colab_type": "code",
        "outputId": "084e4286-3a79-4060-a9cd-220865d4e1b9",
        "colab": {
          "base_uri": "https://localhost:8080/",
          "height": 102
        }
      },
      "cell_type": "code",
      "source": [
        "import pandas as pd\n",
        "from sklearn import datasets\n",
        "from statistics import mean,median,mode,variance\n",
        "\n",
        "# Create DataFrame\n",
        "df1=pd.DataFrame({\"HPI\":[80,90,70,60],\"Int_rate\":[2,1,2,3],\n",
        "                  \"IND_GDP\":[50,45,45,67]},index=[2000,2002,2003,2004])\n",
        "df2=pd.DataFrame({\"HPI\":[80,90,70,60],\"Int_rate\":[2,1,2,3],\n",
        "                  \"IND_GDP\":[50,45,45,67]},index=[2005,2006,2007,2008])\n",
        "\n",
        "#iris\n",
        "iris=datasets.load_iris()\n",
        "print(iris.keys())\n",
        "print('feature_names=',iris['feature_names'])\n",
        "print('data shape',iris['data'].shape)\n",
        "print('target shape',iris['target'].shape)\n",
        "print('target_names',iris['target_names'])\n"
      ],
      "execution_count": 0,
      "outputs": [
        {
          "output_type": "stream",
          "text": [
            "dict_keys(['data', 'target', 'target_names', 'DESCR', 'feature_names'])\n",
            "feature_names= ['sepal length (cm)', 'sepal width (cm)', 'petal length (cm)', 'petal width (cm)']\n",
            "data shape (150, 4)\n",
            "target shape (150,)\n",
            "target_names ['setosa' 'versicolor' 'virginica']\n"
          ],
          "name": "stdout"
        }
      ]
    },
    {
      "metadata": {
        "id": "QHk4KH1tfhDA",
        "colab_type": "code",
        "colab": {}
      },
      "cell_type": "code",
      "source": [
        "#Creare DataFrame\n",
        "dtiris=pd.DataFrame(iris['data'],columns=iris['feature_names'])\n",
        "\n",
        "#Add Columns\n",
        "dtiris['target']=iris['target']\n",
        "dtiris['target_names']=iris['target']\n",
        "\n",
        "#Map Dict\n",
        "my_dict = {0:'setosa', 1:'versicolor', 2:'virginica'}\n",
        "dtiris['target_names'] = dtiris['target_names'].map(my_dict)"
      ],
      "execution_count": 0,
      "outputs": []
    },
    {
      "metadata": {
        "id": "TRLgODWNVOER",
        "colab_type": "code",
        "outputId": "13800133-8ef0-4f28-8fc9-337570d44c3d",
        "colab": {
          "base_uri": "https://localhost:8080/",
          "height": 111
        }
      },
      "cell_type": "code",
      "source": [
        "dtiris.head(2)"
      ],
      "execution_count": 0,
      "outputs": [
        {
          "output_type": "execute_result",
          "data": {
            "text/html": [
              "<div>\n",
              "<style scoped>\n",
              "    .dataframe tbody tr th:only-of-type {\n",
              "        vertical-align: middle;\n",
              "    }\n",
              "\n",
              "    .dataframe tbody tr th {\n",
              "        vertical-align: top;\n",
              "    }\n",
              "\n",
              "    .dataframe thead th {\n",
              "        text-align: right;\n",
              "    }\n",
              "</style>\n",
              "<table border=\"1\" class=\"dataframe\">\n",
              "  <thead>\n",
              "    <tr style=\"text-align: right;\">\n",
              "      <th></th>\n",
              "      <th>sepal length (cm)</th>\n",
              "      <th>sepal width (cm)</th>\n",
              "      <th>petal length (cm)</th>\n",
              "      <th>petal width (cm)</th>\n",
              "      <th>target</th>\n",
              "      <th>target_names</th>\n",
              "    </tr>\n",
              "  </thead>\n",
              "  <tbody>\n",
              "    <tr>\n",
              "      <th>0</th>\n",
              "      <td>5.1</td>\n",
              "      <td>3.5</td>\n",
              "      <td>1.4</td>\n",
              "      <td>0.2</td>\n",
              "      <td>0</td>\n",
              "      <td>setosa</td>\n",
              "    </tr>\n",
              "    <tr>\n",
              "      <th>1</th>\n",
              "      <td>4.9</td>\n",
              "      <td>3.0</td>\n",
              "      <td>1.4</td>\n",
              "      <td>0.2</td>\n",
              "      <td>0</td>\n",
              "      <td>setosa</td>\n",
              "    </tr>\n",
              "  </tbody>\n",
              "</table>\n",
              "</div>"
            ],
            "text/plain": [
              "   sepal length (cm)  sepal width (cm)  petal length (cm)  petal width (cm)  \\\n",
              "0                5.1               3.5                1.4               0.2   \n",
              "1                4.9               3.0                1.4               0.2   \n",
              "\n",
              "   target target_names  \n",
              "0       0       setosa  \n",
              "1       0       setosa  "
            ]
          },
          "metadata": {
            "tags": []
          },
          "execution_count": 44
        }
      ]
    },
    {
      "metadata": {
        "id": "ukdAb8pk-Xpa",
        "colab_type": "code",
        "outputId": "52c4ba42-3ce2-406e-c0c0-9c103b41ffc3",
        "colab": {
          "base_uri": "https://localhost:8080/",
          "height": 357
        }
      },
      "cell_type": "code",
      "source": [
        "# Select & Where\n",
        "print(dtiris[(dtiris['sepal length (cm)'] == 5.1) & (dtiris['sepal width (cm)'] >= 3.5)])\n",
        "\n",
        "#Group by \n",
        "dtiris.groupby('target_names').size()"
      ],
      "execution_count": 0,
      "outputs": [
        {
          "output_type": "stream",
          "text": [
            "    sepal length (cm)  sepal width (cm)  petal length (cm)  petal width (cm)  \\\n",
            "0                 5.1               3.5                1.4               0.2   \n",
            "17                5.1               3.5                1.4               0.3   \n",
            "19                5.1               3.8                1.5               0.3   \n",
            "21                5.1               3.7                1.5               0.4   \n",
            "44                5.1               3.8                1.9               0.4   \n",
            "46                5.1               3.8                1.6               0.2   \n",
            "\n",
            "    target target_names  \n",
            "0        0       setosa  \n",
            "17       0       setosa  \n",
            "19       0       setosa  \n",
            "21       0       setosa  \n",
            "44       0       setosa  \n",
            "46       0       setosa  \n"
          ],
          "name": "stdout"
        },
        {
          "output_type": "execute_result",
          "data": {
            "text/plain": [
              "target_names\n",
              "setosa        50\n",
              "versicolor    50\n",
              "virginica     50\n",
              "dtype: int64"
            ]
          },
          "metadata": {
            "tags": []
          },
          "execution_count": 46
        }
      ]
    },
    {
      "metadata": {
        "id": "IeCnPSZ4-Xpt",
        "colab_type": "code",
        "colab": {}
      },
      "cell_type": "code",
      "source": [
        "iris=pd.read_csv(\"C:/Users/Patrick/PythonSample/iris.csv\")"
      ],
      "execution_count": 0,
      "outputs": []
    }
  ]
}
