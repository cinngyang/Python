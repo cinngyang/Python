{
  "nbformat": 4,
  "nbformat_minor": 0,
  "metadata": {
    "colab": {
      "name": "Pandas-GroupBy.ipynb",
      "version": "0.3.2",
      "provenance": [],
      "collapsed_sections": [],
      "include_colab_link": true
    },
    "kernelspec": {
      "name": "python3",
      "display_name": "Python 3"
    }
  },
  "cells": [
    {
      "cell_type": "markdown",
      "metadata": {
        "id": "view-in-github",
        "colab_type": "text"
      },
      "source": [
        "<a href=\"https://colab.research.google.com/github/cinngyang/Python/blob/master/SampleCode/Pandas_GroupBy.ipynb\" target=\"_parent\"><img src=\"https://colab.research.google.com/assets/colab-badge.svg\" alt=\"Open In Colab\"/></a>"
      ]
    },
    {
      "metadata": {
        "id": "L_LQyXoJNv9a",
        "colab_type": "text"
      },
      "cell_type": "markdown",
      "source": [
        "+ [Simple demo of Pandas](https://www.somebits.com/~nelson/pandas-multiindex-slice-demo.html)<br>\n",
        "+ get_group()\n",
        "+ dt.group['data1','data2'].agg(['mean','sum'])\n",
        "+ dt2.index.names / type(dt2.index)\n",
        "+ dt2.index.get_level_values(0)\n",
        "+ dt2.index.set_names([\"col1\",\"col2\"],inplace=True)\n",
        "+ dt2.set_index(\"col\" , inplace=True)\n",
        "+ "
      ]
    },
    {
      "metadata": {
        "id": "WYgx00nn9k1B",
        "colab_type": "code",
        "colab": {}
      },
      "cell_type": "code",
      "source": [
        "import pandas as pd\n",
        "import numpy as np"
      ],
      "execution_count": 0,
      "outputs": []
    },
    {
      "metadata": {
        "id": "KJCDqwjr9xeo",
        "colab_type": "code",
        "outputId": "8aabeb76-56d2-463a-a358-6a5edc80f7b1",
        "colab": {
          "base_uri": "https://localhost:8080/",
          "height": 204
        }
      },
      "cell_type": "code",
      "source": [
        "dt=pd.DataFrame({'BIN':['AAABB001','AAABB011','BBBCC001','BBBCC012','BBBCC031'],'QTY':[100,200,300,100,200]})\n",
        "dt['CIE']=dt['BIN'].str[0:5]\n",
        "dt['IV']=dt['BIN'].str[5:7]\n",
        "dt['VF']=dt['BIN'].str[7:8]\n",
        "dt=dt[['BIN','CIE','IV','VF','QTY']]\n",
        "dt"
      ],
      "execution_count": 0,
      "outputs": [
        {
          "output_type": "execute_result",
          "data": {
            "text/html": [
              "<div>\n",
              "<style scoped>\n",
              "    .dataframe tbody tr th:only-of-type {\n",
              "        vertical-align: middle;\n",
              "    }\n",
              "\n",
              "    .dataframe tbody tr th {\n",
              "        vertical-align: top;\n",
              "    }\n",
              "\n",
              "    .dataframe thead th {\n",
              "        text-align: right;\n",
              "    }\n",
              "</style>\n",
              "<table border=\"1\" class=\"dataframe\">\n",
              "  <thead>\n",
              "    <tr style=\"text-align: right;\">\n",
              "      <th></th>\n",
              "      <th>BIN</th>\n",
              "      <th>CIE</th>\n",
              "      <th>IV</th>\n",
              "      <th>VF</th>\n",
              "      <th>QTY</th>\n",
              "    </tr>\n",
              "  </thead>\n",
              "  <tbody>\n",
              "    <tr>\n",
              "      <th>0</th>\n",
              "      <td>AAABB001</td>\n",
              "      <td>AAABB</td>\n",
              "      <td>00</td>\n",
              "      <td>1</td>\n",
              "      <td>100</td>\n",
              "    </tr>\n",
              "    <tr>\n",
              "      <th>1</th>\n",
              "      <td>AAABB011</td>\n",
              "      <td>AAABB</td>\n",
              "      <td>01</td>\n",
              "      <td>1</td>\n",
              "      <td>200</td>\n",
              "    </tr>\n",
              "    <tr>\n",
              "      <th>2</th>\n",
              "      <td>BBBCC001</td>\n",
              "      <td>BBBCC</td>\n",
              "      <td>00</td>\n",
              "      <td>1</td>\n",
              "      <td>300</td>\n",
              "    </tr>\n",
              "    <tr>\n",
              "      <th>3</th>\n",
              "      <td>BBBCC012</td>\n",
              "      <td>BBBCC</td>\n",
              "      <td>01</td>\n",
              "      <td>2</td>\n",
              "      <td>100</td>\n",
              "    </tr>\n",
              "    <tr>\n",
              "      <th>4</th>\n",
              "      <td>BBBCC031</td>\n",
              "      <td>BBBCC</td>\n",
              "      <td>03</td>\n",
              "      <td>1</td>\n",
              "      <td>200</td>\n",
              "    </tr>\n",
              "  </tbody>\n",
              "</table>\n",
              "</div>"
            ],
            "text/plain": [
              "        BIN    CIE  IV VF  QTY\n",
              "0  AAABB001  AAABB  00  1  100\n",
              "1  AAABB011  AAABB  01  1  200\n",
              "2  BBBCC001  BBBCC  00  1  300\n",
              "3  BBBCC012  BBBCC  01  2  100\n",
              "4  BBBCC031  BBBCC  03  1  200"
            ]
          },
          "metadata": {
            "tags": []
          },
          "execution_count": 7
        }
      ]
    },
    {
      "metadata": {
        "id": "HzCjJbk3AuQ5",
        "colab_type": "code",
        "outputId": "55b184ce-50c0-493b-96d7-99ad54deee74",
        "colab": {
          "base_uri": "https://localhost:8080/",
          "height": 34
        }
      },
      "cell_type": "code",
      "source": [
        "G1=dt['QTY'].groupby([dt['CIE'],dt['IV']])\n",
        "G1"
      ],
      "execution_count": 0,
      "outputs": [
        {
          "output_type": "execute_result",
          "data": {
            "text/plain": [
              "<pandas.core.groupby.SeriesGroupBy object at 0x7f9f00023e10>"
            ]
          },
          "metadata": {
            "tags": []
          },
          "execution_count": 8
        }
      ]
    },
    {
      "metadata": {
        "id": "6I9_5CHg_jJo",
        "colab_type": "code",
        "outputId": "a0df3e8b-9883-4248-e153-3de7e6fed63b",
        "colab": {
          "base_uri": "https://localhost:8080/",
          "height": 235
        }
      },
      "cell_type": "code",
      "source": [
        "dt2=dt.groupby([dt['CIE'],dt['IV'],dt['VF']])[['QTY']].sum()\n",
        "dt2"
      ],
      "execution_count": 0,
      "outputs": [
        {
          "output_type": "execute_result",
          "data": {
            "text/html": [
              "<div>\n",
              "<style scoped>\n",
              "    .dataframe tbody tr th:only-of-type {\n",
              "        vertical-align: middle;\n",
              "    }\n",
              "\n",
              "    .dataframe tbody tr th {\n",
              "        vertical-align: top;\n",
              "    }\n",
              "\n",
              "    .dataframe thead th {\n",
              "        text-align: right;\n",
              "    }\n",
              "</style>\n",
              "<table border=\"1\" class=\"dataframe\">\n",
              "  <thead>\n",
              "    <tr style=\"text-align: right;\">\n",
              "      <th></th>\n",
              "      <th></th>\n",
              "      <th></th>\n",
              "      <th>QTY</th>\n",
              "    </tr>\n",
              "    <tr>\n",
              "      <th>CIE</th>\n",
              "      <th>IV</th>\n",
              "      <th>VF</th>\n",
              "      <th></th>\n",
              "    </tr>\n",
              "  </thead>\n",
              "  <tbody>\n",
              "    <tr>\n",
              "      <th rowspan=\"2\" valign=\"top\">AAABB</th>\n",
              "      <th>00</th>\n",
              "      <th>1</th>\n",
              "      <td>100</td>\n",
              "    </tr>\n",
              "    <tr>\n",
              "      <th>01</th>\n",
              "      <th>1</th>\n",
              "      <td>200</td>\n",
              "    </tr>\n",
              "    <tr>\n",
              "      <th rowspan=\"3\" valign=\"top\">BBBCC</th>\n",
              "      <th>00</th>\n",
              "      <th>1</th>\n",
              "      <td>300</td>\n",
              "    </tr>\n",
              "    <tr>\n",
              "      <th>01</th>\n",
              "      <th>2</th>\n",
              "      <td>100</td>\n",
              "    </tr>\n",
              "    <tr>\n",
              "      <th>03</th>\n",
              "      <th>1</th>\n",
              "      <td>200</td>\n",
              "    </tr>\n",
              "  </tbody>\n",
              "</table>\n",
              "</div>"
            ],
            "text/plain": [
              "             QTY\n",
              "CIE   IV VF     \n",
              "AAABB 00 1   100\n",
              "      01 1   200\n",
              "BBBCC 00 1   300\n",
              "      01 2   100\n",
              "      03 1   200"
            ]
          },
          "metadata": {
            "tags": []
          },
          "execution_count": 9
        }
      ]
    },
    {
      "metadata": {
        "id": "WJmUCHLGFbnT",
        "colab_type": "code",
        "outputId": "80f2b3c6-ae83-4289-ee7f-61e1dca74588",
        "colab": {
          "base_uri": "https://localhost:8080/",
          "height": 136
        }
      },
      "cell_type": "code",
      "source": [
        "dt.groupby([dt['CIE'],dt['IV'],dt['VF']])[['QTY']].size()"
      ],
      "execution_count": 0,
      "outputs": [
        {
          "output_type": "execute_result",
          "data": {
            "text/plain": [
              "CIE    IV  VF\n",
              "AAABB  00  1     1\n",
              "       01  1     1\n",
              "BBBCC  00  1     1\n",
              "       01  2     1\n",
              "       03  1     1\n",
              "dtype: int64"
            ]
          },
          "metadata": {
            "tags": []
          },
          "execution_count": 10
        }
      ]
    },
    {
      "metadata": {
        "id": "1DrFnhekThY6",
        "colab_type": "code",
        "outputId": "2f3feaa2-6f32-41c0-97c8-ee3cb0e49833",
        "colab": {
          "base_uri": "https://localhost:8080/",
          "height": 34
        }
      },
      "cell_type": "code",
      "source": [
        "dt2.index.names\n",
        "type(dt2.index)"
      ],
      "execution_count": 0,
      "outputs": [
        {
          "output_type": "execute_result",
          "data": {
            "text/plain": [
              "pandas.core.indexes.multi.MultiIndex"
            ]
          },
          "metadata": {
            "tags": []
          },
          "execution_count": 11
        }
      ]
    },
    {
      "metadata": {
        "id": "_8X7aI2tUCWJ",
        "colab_type": "code",
        "outputId": "e80dcc59-260f-49fd-ff64-55434b3f8768",
        "colab": {
          "base_uri": "https://localhost:8080/",
          "height": 51
        }
      },
      "cell_type": "code",
      "source": [
        "print(dt2.index.get_level_values(0))\n",
        "print(dt2.index.get_level_values(1))"
      ],
      "execution_count": 0,
      "outputs": [
        {
          "output_type": "stream",
          "text": [
            "Index(['AAABB', 'AAABB', 'BBBCC', 'BBBCC', 'BBBCC'], dtype='object', name='CIE')\n",
            "Index(['00', '01', '00', '01', '03'], dtype='object', name='IV')\n"
          ],
          "name": "stdout"
        }
      ]
    },
    {
      "metadata": {
        "id": "gwy7I_GFFSyf",
        "colab_type": "code",
        "colab": {}
      },
      "cell_type": "code",
      "source": [
        "df = pd.DataFrame({'A' : list('wwwwxxxx'), \n",
        "                   'B':list('yyzzyyzz'), \n",
        "                   'C':np.random.rand(8), \n",
        "                   'D':np.random.rand(8)})"
      ],
      "execution_count": 0,
      "outputs": []
    },
    {
      "metadata": {
        "id": "x3HjP1tV6DIa",
        "colab_type": "code",
        "colab": {
          "base_uri": "https://localhost:8080/",
          "height": 294
        },
        "outputId": "e98d7a45-f00a-4405-a86b-334f237791c3"
      },
      "cell_type": "code",
      "source": [
        "df"
      ],
      "execution_count": 5,
      "outputs": [
        {
          "output_type": "execute_result",
          "data": {
            "text/html": [
              "<div>\n",
              "<style scoped>\n",
              "    .dataframe tbody tr th:only-of-type {\n",
              "        vertical-align: middle;\n",
              "    }\n",
              "\n",
              "    .dataframe tbody tr th {\n",
              "        vertical-align: top;\n",
              "    }\n",
              "\n",
              "    .dataframe thead th {\n",
              "        text-align: right;\n",
              "    }\n",
              "</style>\n",
              "<table border=\"1\" class=\"dataframe\">\n",
              "  <thead>\n",
              "    <tr style=\"text-align: right;\">\n",
              "      <th></th>\n",
              "      <th>A</th>\n",
              "      <th>B</th>\n",
              "      <th>C</th>\n",
              "      <th>D</th>\n",
              "    </tr>\n",
              "  </thead>\n",
              "  <tbody>\n",
              "    <tr>\n",
              "      <th>0</th>\n",
              "      <td>w</td>\n",
              "      <td>y</td>\n",
              "      <td>0.019031</td>\n",
              "      <td>0.503879</td>\n",
              "    </tr>\n",
              "    <tr>\n",
              "      <th>1</th>\n",
              "      <td>w</td>\n",
              "      <td>y</td>\n",
              "      <td>0.178068</td>\n",
              "      <td>0.932910</td>\n",
              "    </tr>\n",
              "    <tr>\n",
              "      <th>2</th>\n",
              "      <td>w</td>\n",
              "      <td>z</td>\n",
              "      <td>0.512452</td>\n",
              "      <td>0.185177</td>\n",
              "    </tr>\n",
              "    <tr>\n",
              "      <th>3</th>\n",
              "      <td>w</td>\n",
              "      <td>z</td>\n",
              "      <td>0.479785</td>\n",
              "      <td>0.765480</td>\n",
              "    </tr>\n",
              "    <tr>\n",
              "      <th>4</th>\n",
              "      <td>x</td>\n",
              "      <td>y</td>\n",
              "      <td>0.980736</td>\n",
              "      <td>0.236647</td>\n",
              "    </tr>\n",
              "    <tr>\n",
              "      <th>5</th>\n",
              "      <td>x</td>\n",
              "      <td>y</td>\n",
              "      <td>0.907515</td>\n",
              "      <td>0.570620</td>\n",
              "    </tr>\n",
              "    <tr>\n",
              "      <th>6</th>\n",
              "      <td>x</td>\n",
              "      <td>z</td>\n",
              "      <td>0.797565</td>\n",
              "      <td>0.028970</td>\n",
              "    </tr>\n",
              "    <tr>\n",
              "      <th>7</th>\n",
              "      <td>x</td>\n",
              "      <td>z</td>\n",
              "      <td>0.940594</td>\n",
              "      <td>0.141098</td>\n",
              "    </tr>\n",
              "  </tbody>\n",
              "</table>\n",
              "</div>"
            ],
            "text/plain": [
              "   A  B         C         D\n",
              "0  w  y  0.019031  0.503879\n",
              "1  w  y  0.178068  0.932910\n",
              "2  w  z  0.512452  0.185177\n",
              "3  w  z  0.479785  0.765480\n",
              "4  x  y  0.980736  0.236647\n",
              "5  x  y  0.907515  0.570620\n",
              "6  x  z  0.797565  0.028970\n",
              "7  x  z  0.940594  0.141098"
            ]
          },
          "metadata": {
            "tags": []
          },
          "execution_count": 5
        }
      ]
    },
    {
      "metadata": {
        "id": "264Ft8Ch57_2",
        "colab_type": "code",
        "colab": {
          "base_uri": "https://localhost:8080/",
          "height": 233
        },
        "outputId": "ca8d5b44-7395-4f1d-fb76-ed9725a82323"
      },
      "cell_type": "code",
      "source": [
        "df.groupby(['A', 'B']).agg({'C':['mean', 'median'], 'D':'max'})"
      ],
      "execution_count": 4,
      "outputs": [
        {
          "output_type": "execute_result",
          "data": {
            "text/html": [
              "<div>\n",
              "<style scoped>\n",
              "    .dataframe tbody tr th:only-of-type {\n",
              "        vertical-align: middle;\n",
              "    }\n",
              "\n",
              "    .dataframe tbody tr th {\n",
              "        vertical-align: top;\n",
              "    }\n",
              "\n",
              "    .dataframe thead tr th {\n",
              "        text-align: left;\n",
              "    }\n",
              "\n",
              "    .dataframe thead tr:last-of-type th {\n",
              "        text-align: right;\n",
              "    }\n",
              "</style>\n",
              "<table border=\"1\" class=\"dataframe\">\n",
              "  <thead>\n",
              "    <tr>\n",
              "      <th></th>\n",
              "      <th></th>\n",
              "      <th colspan=\"2\" halign=\"left\">C</th>\n",
              "      <th>D</th>\n",
              "    </tr>\n",
              "    <tr>\n",
              "      <th></th>\n",
              "      <th></th>\n",
              "      <th>mean</th>\n",
              "      <th>median</th>\n",
              "      <th>max</th>\n",
              "    </tr>\n",
              "    <tr>\n",
              "      <th>A</th>\n",
              "      <th>B</th>\n",
              "      <th></th>\n",
              "      <th></th>\n",
              "      <th></th>\n",
              "    </tr>\n",
              "  </thead>\n",
              "  <tbody>\n",
              "    <tr>\n",
              "      <th rowspan=\"2\" valign=\"top\">w</th>\n",
              "      <th>y</th>\n",
              "      <td>0.098550</td>\n",
              "      <td>0.098550</td>\n",
              "      <td>0.932910</td>\n",
              "    </tr>\n",
              "    <tr>\n",
              "      <th>z</th>\n",
              "      <td>0.496118</td>\n",
              "      <td>0.496118</td>\n",
              "      <td>0.765480</td>\n",
              "    </tr>\n",
              "    <tr>\n",
              "      <th rowspan=\"2\" valign=\"top\">x</th>\n",
              "      <th>y</th>\n",
              "      <td>0.944125</td>\n",
              "      <td>0.944125</td>\n",
              "      <td>0.570620</td>\n",
              "    </tr>\n",
              "    <tr>\n",
              "      <th>z</th>\n",
              "      <td>0.869080</td>\n",
              "      <td>0.869080</td>\n",
              "      <td>0.141098</td>\n",
              "    </tr>\n",
              "  </tbody>\n",
              "</table>\n",
              "</div>"
            ],
            "text/plain": [
              "            C                   D\n",
              "         mean    median       max\n",
              "A B                              \n",
              "w y  0.098550  0.098550  0.932910\n",
              "  z  0.496118  0.496118  0.765480\n",
              "x y  0.944125  0.944125  0.570620\n",
              "  z  0.869080  0.869080  0.141098"
            ]
          },
          "metadata": {
            "tags": []
          },
          "execution_count": 4
        }
      ]
    },
    {
      "metadata": {
        "id": "o2YPYawh6JAr",
        "colab_type": "code",
        "colab": {
          "base_uri": "https://localhost:8080/",
          "height": 287
        },
        "outputId": "71902077-11ba-43a7-8c83-4c16f9d70821"
      },
      "cell_type": "code",
      "source": [
        "df.groupby(['A', 'B']).agg({'C':{'C_mean': 'mean', 'C_median': 'median'}, \n",
        "                            'D':{'D_max': 'max'}})"
      ],
      "execution_count": 6,
      "outputs": [
        {
          "output_type": "stream",
          "text": [
            "/usr/local/lib/python3.6/dist-packages/pandas/core/groupby.py:4291: FutureWarning: using a dict with renaming is deprecated and will be removed in a future version\n",
            "  return super(DataFrameGroupBy, self).aggregate(arg, *args, **kwargs)\n"
          ],
          "name": "stderr"
        },
        {
          "output_type": "execute_result",
          "data": {
            "text/html": [
              "<div>\n",
              "<style scoped>\n",
              "    .dataframe tbody tr th:only-of-type {\n",
              "        vertical-align: middle;\n",
              "    }\n",
              "\n",
              "    .dataframe tbody tr th {\n",
              "        vertical-align: top;\n",
              "    }\n",
              "\n",
              "    .dataframe thead tr th {\n",
              "        text-align: left;\n",
              "    }\n",
              "\n",
              "    .dataframe thead tr:last-of-type th {\n",
              "        text-align: right;\n",
              "    }\n",
              "</style>\n",
              "<table border=\"1\" class=\"dataframe\">\n",
              "  <thead>\n",
              "    <tr>\n",
              "      <th></th>\n",
              "      <th></th>\n",
              "      <th colspan=\"2\" halign=\"left\">C</th>\n",
              "      <th>D</th>\n",
              "    </tr>\n",
              "    <tr>\n",
              "      <th></th>\n",
              "      <th></th>\n",
              "      <th>C_mean</th>\n",
              "      <th>C_median</th>\n",
              "      <th>D_max</th>\n",
              "    </tr>\n",
              "    <tr>\n",
              "      <th>A</th>\n",
              "      <th>B</th>\n",
              "      <th></th>\n",
              "      <th></th>\n",
              "      <th></th>\n",
              "    </tr>\n",
              "  </thead>\n",
              "  <tbody>\n",
              "    <tr>\n",
              "      <th rowspan=\"2\" valign=\"top\">w</th>\n",
              "      <th>y</th>\n",
              "      <td>0.098550</td>\n",
              "      <td>0.098550</td>\n",
              "      <td>0.932910</td>\n",
              "    </tr>\n",
              "    <tr>\n",
              "      <th>z</th>\n",
              "      <td>0.496118</td>\n",
              "      <td>0.496118</td>\n",
              "      <td>0.765480</td>\n",
              "    </tr>\n",
              "    <tr>\n",
              "      <th rowspan=\"2\" valign=\"top\">x</th>\n",
              "      <th>y</th>\n",
              "      <td>0.944125</td>\n",
              "      <td>0.944125</td>\n",
              "      <td>0.570620</td>\n",
              "    </tr>\n",
              "    <tr>\n",
              "      <th>z</th>\n",
              "      <td>0.869080</td>\n",
              "      <td>0.869080</td>\n",
              "      <td>0.141098</td>\n",
              "    </tr>\n",
              "  </tbody>\n",
              "</table>\n",
              "</div>"
            ],
            "text/plain": [
              "            C                   D\n",
              "       C_mean  C_median     D_max\n",
              "A B                              \n",
              "w y  0.098550  0.098550  0.932910\n",
              "  z  0.496118  0.496118  0.765480\n",
              "x y  0.944125  0.944125  0.570620\n",
              "  z  0.869080  0.869080  0.141098"
            ]
          },
          "metadata": {
            "tags": []
          },
          "execution_count": 6
        }
      ]
    },
    {
      "metadata": {
        "id": "YSmpoG3Y7Dew",
        "colab_type": "code",
        "colab": {}
      },
      "cell_type": "code",
      "source": [
        "df = pd.DataFrame({\"User\": [\"user1\", \"user2\", \"user2\", \"user3\", \"user2\", \"user1\", \"user3\"],\n",
        "                  \"Amount\": [10.0, 5.0, 8.0, 10.5, 7.5, 8.0, 9],\n",
        "                  'Score': [9, 1, 8, 7, 7, 6, 9]})"
      ],
      "execution_count": 0,
      "outputs": []
    },
    {
      "metadata": {
        "id": "OlGLVTvp7F_z",
        "colab_type": "code",
        "colab": {
          "base_uri": "https://localhost:8080/",
          "height": 263
        },
        "outputId": "ae60e79c-ebd1-440d-903f-4d5777674cb0"
      },
      "cell_type": "code",
      "source": [
        "df"
      ],
      "execution_count": 8,
      "outputs": [
        {
          "output_type": "execute_result",
          "data": {
            "text/html": [
              "<div>\n",
              "<style scoped>\n",
              "    .dataframe tbody tr th:only-of-type {\n",
              "        vertical-align: middle;\n",
              "    }\n",
              "\n",
              "    .dataframe tbody tr th {\n",
              "        vertical-align: top;\n",
              "    }\n",
              "\n",
              "    .dataframe thead th {\n",
              "        text-align: right;\n",
              "    }\n",
              "</style>\n",
              "<table border=\"1\" class=\"dataframe\">\n",
              "  <thead>\n",
              "    <tr style=\"text-align: right;\">\n",
              "      <th></th>\n",
              "      <th>Amount</th>\n",
              "      <th>Score</th>\n",
              "      <th>User</th>\n",
              "    </tr>\n",
              "  </thead>\n",
              "  <tbody>\n",
              "    <tr>\n",
              "      <th>0</th>\n",
              "      <td>10.0</td>\n",
              "      <td>9</td>\n",
              "      <td>user1</td>\n",
              "    </tr>\n",
              "    <tr>\n",
              "      <th>1</th>\n",
              "      <td>5.0</td>\n",
              "      <td>1</td>\n",
              "      <td>user2</td>\n",
              "    </tr>\n",
              "    <tr>\n",
              "      <th>2</th>\n",
              "      <td>8.0</td>\n",
              "      <td>8</td>\n",
              "      <td>user2</td>\n",
              "    </tr>\n",
              "    <tr>\n",
              "      <th>3</th>\n",
              "      <td>10.5</td>\n",
              "      <td>7</td>\n",
              "      <td>user3</td>\n",
              "    </tr>\n",
              "    <tr>\n",
              "      <th>4</th>\n",
              "      <td>7.5</td>\n",
              "      <td>7</td>\n",
              "      <td>user2</td>\n",
              "    </tr>\n",
              "    <tr>\n",
              "      <th>5</th>\n",
              "      <td>8.0</td>\n",
              "      <td>6</td>\n",
              "      <td>user1</td>\n",
              "    </tr>\n",
              "    <tr>\n",
              "      <th>6</th>\n",
              "      <td>9.0</td>\n",
              "      <td>9</td>\n",
              "      <td>user3</td>\n",
              "    </tr>\n",
              "  </tbody>\n",
              "</table>\n",
              "</div>"
            ],
            "text/plain": [
              "   Amount  Score   User\n",
              "0    10.0      9  user1\n",
              "1     5.0      1  user2\n",
              "2     8.0      8  user2\n",
              "3    10.5      7  user3\n",
              "4     7.5      7  user2\n",
              "5     8.0      6  user1\n",
              "6     9.0      9  user3"
            ]
          },
          "metadata": {
            "tags": []
          },
          "execution_count": 8
        }
      ]
    },
    {
      "metadata": {
        "id": "X4rgqzjr8cjC",
        "colab_type": "code",
        "colab": {}
      },
      "cell_type": "code",
      "source": [
        "def my_agg(x):\n",
        "    names = {\n",
        "        'Amount mean': x['Amount'].mean(),\n",
        "        'Amount std':  x['Amount'].std(),\n",
        "        'Amount range': x['Amount'].max() - x['Amount'].min(),\n",
        "        'Score Max':  x['Score'].max(),\n",
        "        'Score Sum': x['Score'].sum(),\n",
        "        'Amount Score Sum': (x['Amount'] * x['Score']).sum()}\n",
        "\n",
        "    return pd.Series(names, index=['Amount range', 'Amount std', 'Amount mean',\n",
        "                                   'Score Sum', 'Score Max', 'Amount Score Sum'])"
      ],
      "execution_count": 0,
      "outputs": []
    },
    {
      "metadata": {
        "id": "TsYxjz1y8mPT",
        "colab_type": "code",
        "colab": {
          "base_uri": "https://localhost:8080/",
          "height": 171
        },
        "outputId": "979ae993-1ef5-4ffc-f800-fe8c09eaff21"
      },
      "cell_type": "code",
      "source": [
        "df.groupby('User').apply(my_agg)"
      ],
      "execution_count": 10,
      "outputs": [
        {
          "output_type": "execute_result",
          "data": {
            "text/html": [
              "<div>\n",
              "<style scoped>\n",
              "    .dataframe tbody tr th:only-of-type {\n",
              "        vertical-align: middle;\n",
              "    }\n",
              "\n",
              "    .dataframe tbody tr th {\n",
              "        vertical-align: top;\n",
              "    }\n",
              "\n",
              "    .dataframe thead th {\n",
              "        text-align: right;\n",
              "    }\n",
              "</style>\n",
              "<table border=\"1\" class=\"dataframe\">\n",
              "  <thead>\n",
              "    <tr style=\"text-align: right;\">\n",
              "      <th></th>\n",
              "      <th>Amount range</th>\n",
              "      <th>Amount std</th>\n",
              "      <th>Amount mean</th>\n",
              "      <th>Score Sum</th>\n",
              "      <th>Score Max</th>\n",
              "      <th>Amount Score Sum</th>\n",
              "    </tr>\n",
              "    <tr>\n",
              "      <th>User</th>\n",
              "      <th></th>\n",
              "      <th></th>\n",
              "      <th></th>\n",
              "      <th></th>\n",
              "      <th></th>\n",
              "      <th></th>\n",
              "    </tr>\n",
              "  </thead>\n",
              "  <tbody>\n",
              "    <tr>\n",
              "      <th>user1</th>\n",
              "      <td>2.0</td>\n",
              "      <td>1.414214</td>\n",
              "      <td>9.000000</td>\n",
              "      <td>15.0</td>\n",
              "      <td>9.0</td>\n",
              "      <td>138.0</td>\n",
              "    </tr>\n",
              "    <tr>\n",
              "      <th>user2</th>\n",
              "      <td>3.0</td>\n",
              "      <td>1.607275</td>\n",
              "      <td>6.833333</td>\n",
              "      <td>16.0</td>\n",
              "      <td>8.0</td>\n",
              "      <td>121.5</td>\n",
              "    </tr>\n",
              "    <tr>\n",
              "      <th>user3</th>\n",
              "      <td>1.5</td>\n",
              "      <td>1.060660</td>\n",
              "      <td>9.750000</td>\n",
              "      <td>16.0</td>\n",
              "      <td>9.0</td>\n",
              "      <td>154.5</td>\n",
              "    </tr>\n",
              "  </tbody>\n",
              "</table>\n",
              "</div>"
            ],
            "text/plain": [
              "       Amount range  Amount std  Amount mean  Score Sum  Score Max  \\\n",
              "User                                                                 \n",
              "user1           2.0    1.414214     9.000000       15.0        9.0   \n",
              "user2           3.0    1.607275     6.833333       16.0        8.0   \n",
              "user3           1.5    1.060660     9.750000       16.0        9.0   \n",
              "\n",
              "       Amount Score Sum  \n",
              "User                     \n",
              "user1             138.0  \n",
              "user2             121.5  \n",
              "user3             154.5  "
            ]
          },
          "metadata": {
            "tags": []
          },
          "execution_count": 10
        }
      ]
    }
  ]
}