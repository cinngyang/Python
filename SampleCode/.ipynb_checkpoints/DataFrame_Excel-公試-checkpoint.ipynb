{
 "cells": [
  {
   "cell_type": "markdown",
   "metadata": {},
   "source": [
    "# Python - Excel\n",
    "+ [用Python讀寫Excel文件的方式比較](https://www.itread01.com/content/1535047103.html)\n",
    "+ XlsxWriter,只能Create 新Excel 不支援讀取與修改\n",
    "    + [doxls writer doc](https://xlsxwriter.readthedocs.io/index.html)\n",
    "+ openpyxl (不支援讀取Excel內含公式的儲存格的運算結果！)\n",
    "    + [當大蟒繩遇上 Excel](https://medium.com/pyradise/%E7%95%B6%E5%A4%A7%E8%9F%92%E8%9B%87%E8%AA%9E%E8%A8%80%E9%81%87%E4%B8%8A%E8%80%81%E7%89%8C%E8%A9%A6%E7%AE%97%E8%A1%A8%E8%BB%9F%E9%AB%94-fc7947792000)\n",
    "+ xlwings(擁有專屬於Microsoft Excel的擴充套件！,Python 可以當VBA使用！)\n",
    "    + (xlwin.org)[https://www.xlwings.org/]\n",
    "+ xlrd/xlwt/(不支援 2010 後)\n",
    "+ Microsoft Excel API ,致命的缺點：慢到死  \n",
    "+ [Pandas styling](https://pandas.pydata.org/pandas-docs/stable/user_guide/style.html)"
   ]
  },
  {
   "cell_type": "code",
   "execution_count": 76,
   "metadata": {},
   "outputs": [
    {
     "data": {
      "text/plain": [
       "'0.22.0'"
      ]
     },
     "execution_count": 76,
     "metadata": {},
     "output_type": "execute_result"
    }
   ],
   "source": [
    "import pandas as pd\n",
    "import numpy as np\n",
    "import xlsxwriter \n",
    "from datetime import datetime\n",
    "from xlsxwriter.utility import xl_rowcol_to_cell\n",
    "pd.__version__"
   ]
  },
  {
   "cell_type": "code",
   "execution_count": 77,
   "metadata": {},
   "outputs": [],
   "source": [
    "now=datetime.now()\n",
    "FcDay=[pd.date_range('2019-3-1','2019-3-10',freq='1d')]\n",
    "FcDay2=[pd.date_range('2019-3-1','2019-3-10',freq='2d')]\n",
    "dus_ts=pd.Series(data=np.random.randn(10),index=FcDay,name='S1')\n",
    "dus_ts2=pd.Series(data=np.random.randn(5),index=FcDay2,name='S2')"
   ]
  },
  {
   "cell_type": "code",
   "execution_count": 78,
   "metadata": {},
   "outputs": [],
   "source": [
    "# 日期自動 Mapping\n",
    "df=pd.concat([dus_ts, dus_ts2], axis=1)"
   ]
  },
  {
   "cell_type": "code",
   "execution_count": 79,
   "metadata": {},
   "outputs": [],
   "source": [
    "#補 0\n",
    "df=df.fillna(0)"
   ]
  },
  {
   "cell_type": "code",
   "execution_count": 80,
   "metadata": {},
   "outputs": [],
   "source": [
    "df['Gap']=df['S1']-df['S2']"
   ]
  },
  {
   "cell_type": "code",
   "execution_count": 81,
   "metadata": {},
   "outputs": [],
   "source": [
    "# 搭配 EXCEL 公試\n",
    "df=df.T"
   ]
  },
  {
   "cell_type": "code",
   "execution_count": 82,
   "metadata": {},
   "outputs": [
    {
     "data": {
      "text/html": [
       "<div>\n",
       "<style scoped>\n",
       "    .dataframe tbody tr th:only-of-type {\n",
       "        vertical-align: middle;\n",
       "    }\n",
       "\n",
       "    .dataframe tbody tr th {\n",
       "        vertical-align: top;\n",
       "    }\n",
       "\n",
       "    .dataframe thead tr th {\n",
       "        text-align: left;\n",
       "    }\n",
       "</style>\n",
       "<table border=\"1\" class=\"dataframe\">\n",
       "  <thead>\n",
       "    <tr>\n",
       "      <th></th>\n",
       "      <th>index</th>\n",
       "      <th>2019-03-01 00:00:00</th>\n",
       "      <th>2019-03-02 00:00:00</th>\n",
       "      <th>2019-03-03 00:00:00</th>\n",
       "      <th>2019-03-04 00:00:00</th>\n",
       "      <th>2019-03-05 00:00:00</th>\n",
       "      <th>2019-03-06 00:00:00</th>\n",
       "      <th>2019-03-07 00:00:00</th>\n",
       "      <th>2019-03-08 00:00:00</th>\n",
       "      <th>2019-03-09 00:00:00</th>\n",
       "      <th>2019-03-10 00:00:00</th>\n",
       "    </tr>\n",
       "  </thead>\n",
       "  <tbody>\n",
       "    <tr>\n",
       "      <th>0</th>\n",
       "      <td>S1</td>\n",
       "      <td>-0.807564</td>\n",
       "      <td>-1.046053</td>\n",
       "      <td>0.209256</td>\n",
       "      <td>0.209652</td>\n",
       "      <td>0.963964</td>\n",
       "      <td>-0.962992</td>\n",
       "      <td>1.815049</td>\n",
       "      <td>-0.163351</td>\n",
       "      <td>-1.198712</td>\n",
       "      <td>-0.416093</td>\n",
       "    </tr>\n",
       "    <tr>\n",
       "      <th>1</th>\n",
       "      <td>S2</td>\n",
       "      <td>1.493636</td>\n",
       "      <td>0.000000</td>\n",
       "      <td>1.125072</td>\n",
       "      <td>0.000000</td>\n",
       "      <td>-0.931850</td>\n",
       "      <td>0.000000</td>\n",
       "      <td>-0.856522</td>\n",
       "      <td>0.000000</td>\n",
       "      <td>-1.796272</td>\n",
       "      <td>0.000000</td>\n",
       "    </tr>\n",
       "    <tr>\n",
       "      <th>2</th>\n",
       "      <td>Gap</td>\n",
       "      <td>-2.301200</td>\n",
       "      <td>-1.046053</td>\n",
       "      <td>-0.915816</td>\n",
       "      <td>0.209652</td>\n",
       "      <td>1.895814</td>\n",
       "      <td>-0.962992</td>\n",
       "      <td>2.671571</td>\n",
       "      <td>-0.163351</td>\n",
       "      <td>0.597560</td>\n",
       "      <td>-0.416093</td>\n",
       "    </tr>\n",
       "  </tbody>\n",
       "</table>\n",
       "</div>"
      ],
      "text/plain": [
       "  index 2019-03-01 00:00:00 2019-03-02 00:00:00 2019-03-03 00:00:00  \\\n",
       "0    S1           -0.807564           -1.046053            0.209256   \n",
       "1    S2            1.493636            0.000000            1.125072   \n",
       "2   Gap           -2.301200           -1.046053           -0.915816   \n",
       "\n",
       "  2019-03-04 00:00:00 2019-03-05 00:00:00 2019-03-06 00:00:00  \\\n",
       "0            0.209652            0.963964           -0.962992   \n",
       "1            0.000000           -0.931850            0.000000   \n",
       "2            0.209652            1.895814           -0.962992   \n",
       "\n",
       "  2019-03-07 00:00:00 2019-03-08 00:00:00 2019-03-09 00:00:00  \\\n",
       "0            1.815049           -0.163351           -1.198712   \n",
       "1           -0.856522            0.000000           -1.796272   \n",
       "2            2.671571           -0.163351            0.597560   \n",
       "\n",
       "  2019-03-10 00:00:00  \n",
       "0           -0.416093  \n",
       "1            0.000000  \n",
       "2           -0.416093  "
      ]
     },
     "execution_count": 82,
     "metadata": {},
     "output_type": "execute_result"
    }
   ],
   "source": [
    "df.reset_index(level=0, inplace=True)\n",
    "df"
   ]
  },
  {
   "cell_type": "code",
   "execution_count": 145,
   "metadata": {},
   "outputs": [],
   "source": [
    "# 土法煉鋼 By Columns寫\n",
    "workbook = xlsxwriter.Workbook('Excel_01.xlsx')\n",
    "worksheet = workbook.add_worksheet()\n",
    "date_format = workbook.add_format({'num_format': 'yy/mm/dd','align': 'left','bg_color':'green'})\n",
    "\n",
    "\n",
    "# Header\n",
    "for col_num, value in enumerate(df.columns.values):\n",
    "    worksheet.write(0, col_num + 1, value[0],date_format)\n",
    "   # print(0, col_num + 1,value[0])\n",
    "\n",
    "#RawData , row=df.shape[0]\n",
    "for i in range(0,df.shape[1]):\n",
    "    for row, value in enumerate(df.iloc[:,i]):\n",
    "        #style=cell_F[df.columns[i]]\n",
    "        #worksheet.write(row+1,i+1, value,style)\n",
    "        worksheet.write(row+1,i+1, value)\n",
    "\n",
    "\n",
    "#RawData , row=df.shape[0]\n",
    "for i in range(df.shape[0],int(df.shape[0])+1):\n",
    "    for columns, value in enumerate(df.columns.values):\n",
    "        val=\"=\"+xl_rowcol_to_cell(i, columns + 1)+\"-\"+xl_rowcol_to_cell(i-1, columns + 1)\n",
    "        worksheet.write(xl_rowcol_to_cell(i+1, columns + 1),val)\n",
    "        \n",
    "worksheet.write_array_formula('A1:A1', '{=SUM(B1:C1*B2:C2)}')\n",
    "workbook.close()"
   ]
  }
 ],
 "metadata": {
  "kernelspec": {
   "display_name": "Python 3",
   "language": "python",
   "name": "python3"
  },
  "language_info": {
   "codemirror_mode": {
    "name": "ipython",
    "version": 3
   },
   "file_extension": ".py",
   "mimetype": "text/x-python",
   "name": "python",
   "nbconvert_exporter": "python",
   "pygments_lexer": "ipython3",
   "version": "3.5.4"
  }
 },
 "nbformat": 4,
 "nbformat_minor": 2
}
