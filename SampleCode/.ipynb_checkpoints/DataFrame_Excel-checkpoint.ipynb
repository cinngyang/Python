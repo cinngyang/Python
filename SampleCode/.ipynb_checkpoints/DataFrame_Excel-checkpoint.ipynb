{
 "cells": [
  {
   "cell_type": "markdown",
   "metadata": {},
   "source": [
    "# Python - Excel\n",
    "+ [用Python讀寫Excel文件的方式比較](https://www.itread01.com/content/1535047103.html)\n",
    "+ XlsxWriter,只能Create 新Excel 不支援讀取與修改\n",
    "    + [doxls writer doc](https://xlsxwriter.readthedocs.io/index.html)\n",
    "+ openpyxl (不支援讀取Excel內含公式的儲存格的運算結果！)\n",
    "    + [當大蟒繩遇上 Excel](https://medium.com/pyradise/%E7%95%B6%E5%A4%A7%E8%9F%92%E8%9B%87%E8%AA%9E%E8%A8%80%E9%81%87%E4%B8%8A%E8%80%81%E7%89%8C%E8%A9%A6%E7%AE%97%E8%A1%A8%E8%BB%9F%E9%AB%94-fc7947792000)\n",
    "+ xlwings(擁有專屬於Microsoft Excel的擴充套件！,Python 可以當VBA使用！)\n",
    "    + (xlwin.org)[https://www.xlwings.org/]\n",
    "+ xlrd/xlwt/(不支援 2010 後)\n",
    "+ Microsoft Excel API ,致命的缺點：慢到死  \n",
    "+ [Pandas styling](https://pandas.pydata.org/pandas-docs/stable/user_guide/style.html)"
   ]
  },
  {
   "cell_type": "code",
   "execution_count": 1,
   "metadata": {},
   "outputs": [
    {
     "data": {
      "text/plain": [
       "'0.22.0'"
      ]
     },
     "execution_count": 1,
     "metadata": {},
     "output_type": "execute_result"
    }
   ],
   "source": [
    "import pandas as pd\n",
    "import numpy as np\n",
    "import xlsxwriter \n",
    "pd.__version__"
   ]
  },
  {
   "cell_type": "code",
   "execution_count": 2,
   "metadata": {},
   "outputs": [
    {
     "data": {
      "text/html": [
       "<div>\n",
       "<style scoped>\n",
       "    .dataframe tbody tr th:only-of-type {\n",
       "        vertical-align: middle;\n",
       "    }\n",
       "\n",
       "    .dataframe tbody tr th {\n",
       "        vertical-align: top;\n",
       "    }\n",
       "\n",
       "    .dataframe thead th {\n",
       "        text-align: right;\n",
       "    }\n",
       "</style>\n",
       "<table border=\"1\" class=\"dataframe\">\n",
       "  <thead>\n",
       "    <tr style=\"text-align: right;\">\n",
       "      <th></th>\n",
       "      <th>A</th>\n",
       "      <th>B</th>\n",
       "      <th>C</th>\n",
       "      <th>D</th>\n",
       "      <th>E</th>\n",
       "    </tr>\n",
       "  </thead>\n",
       "  <tbody>\n",
       "    <tr>\n",
       "      <th>0</th>\n",
       "      <td>1.000000</td>\n",
       "      <td>1.329212</td>\n",
       "      <td>-0.770033</td>\n",
       "      <td>-0.316280</td>\n",
       "      <td>-0.990810</td>\n",
       "    </tr>\n",
       "    <tr>\n",
       "      <th>1</th>\n",
       "      <td>3334.222222</td>\n",
       "      <td>-1.070816</td>\n",
       "      <td>-1.438713</td>\n",
       "      <td>0.564417</td>\n",
       "      <td>0.295722</td>\n",
       "    </tr>\n",
       "    <tr>\n",
       "      <th>2</th>\n",
       "      <td>6667.444444</td>\n",
       "      <td>-1.626404</td>\n",
       "      <td>0.219565</td>\n",
       "      <td>0.678805</td>\n",
       "      <td>1.889273</td>\n",
       "    </tr>\n",
       "    <tr>\n",
       "      <th>3</th>\n",
       "      <td>10000.666667</td>\n",
       "      <td>0.961538</td>\n",
       "      <td>0.104011</td>\n",
       "      <td>-0.481165</td>\n",
       "      <td>0.850229</td>\n",
       "    </tr>\n",
       "    <tr>\n",
       "      <th>4</th>\n",
       "      <td>13333.888889</td>\n",
       "      <td>1.453425</td>\n",
       "      <td>1.057737</td>\n",
       "      <td>0.165562</td>\n",
       "      <td>0.515018</td>\n",
       "    </tr>\n",
       "    <tr>\n",
       "      <th>5</th>\n",
       "      <td>16667.111111</td>\n",
       "      <td>-1.336936</td>\n",
       "      <td>0.562861</td>\n",
       "      <td>1.392855</td>\n",
       "      <td>-0.063328</td>\n",
       "    </tr>\n",
       "    <tr>\n",
       "      <th>6</th>\n",
       "      <td>20000.333333</td>\n",
       "      <td>0.121668</td>\n",
       "      <td>1.207603</td>\n",
       "      <td>-0.002040</td>\n",
       "      <td>1.627796</td>\n",
       "    </tr>\n",
       "    <tr>\n",
       "      <th>7</th>\n",
       "      <td>23333.555556</td>\n",
       "      <td>0.354493</td>\n",
       "      <td>1.037528</td>\n",
       "      <td>-0.385684</td>\n",
       "      <td>0.519818</td>\n",
       "    </tr>\n",
       "    <tr>\n",
       "      <th>8</th>\n",
       "      <td>26666.777778</td>\n",
       "      <td>1.686583</td>\n",
       "      <td>-1.325963</td>\n",
       "      <td>1.428984</td>\n",
       "      <td>-2.089354</td>\n",
       "    </tr>\n",
       "    <tr>\n",
       "      <th>9</th>\n",
       "      <td>30000.000000</td>\n",
       "      <td>-0.129820</td>\n",
       "      <td>0.631523</td>\n",
       "      <td>-0.586538</td>\n",
       "      <td>0.290720</td>\n",
       "    </tr>\n",
       "  </tbody>\n",
       "</table>\n",
       "</div>"
      ],
      "text/plain": [
       "              A         B         C         D         E\n",
       "0      1.000000  1.329212 -0.770033 -0.316280 -0.990810\n",
       "1   3334.222222 -1.070816 -1.438713  0.564417  0.295722\n",
       "2   6667.444444 -1.626404  0.219565  0.678805  1.889273\n",
       "3  10000.666667  0.961538  0.104011 -0.481165  0.850229\n",
       "4  13333.888889  1.453425  1.057737  0.165562  0.515018\n",
       "5  16667.111111 -1.336936  0.562861  1.392855 -0.063328\n",
       "6  20000.333333  0.121668  1.207603 -0.002040  1.627796\n",
       "7  23333.555556  0.354493  1.037528 -0.385684  0.519818\n",
       "8  26666.777778  1.686583 -1.325963  1.428984 -2.089354\n",
       "9  30000.000000 -0.129820  0.631523 -0.586538  0.290720"
      ]
     },
     "execution_count": 2,
     "metadata": {},
     "output_type": "execute_result"
    }
   ],
   "source": [
    "np.random.seed(24)\n",
    "df = pd.DataFrame({'A': np.linspace(1, 30000, 10)})\n",
    "df = pd.concat([df, pd.DataFrame(np.random.randn(10, 4), columns=list('BCDE'))],\n",
    "               axis=1)\n",
    "#df.iloc[0, 2] = np.nan\n",
    "df"
   ]
  },
  {
   "cell_type": "markdown",
   "metadata": {},
   "source": [
    "+ [set_num_format](https://xlsxwriter.readthedocs.io/format.html?highlight=Format%20object.)"
   ]
  },
  {
   "cell_type": "code",
   "execution_count": 54,
   "metadata": {},
   "outputs": [],
   "source": [
    "#基本\n",
    "workbook = xlsxwriter.Workbook('Expenses01.xlsx')\n",
    "worksheet = workbook.add_worksheet()\n",
    "cell_format = workbook.add_format({'bold': True, 'italic': True,'bg_color':'green','num_format':0x03})\n",
    "cell_format03 = workbook.add_format()\n",
    "cell_format03.set_num_format(0x03)\n",
    "worksheet.write_row('A1', df['A'],cell_format)\n",
    "workbook.close()"
   ]
  },
  {
   "cell_type": "code",
   "execution_count": 97,
   "metadata": {},
   "outputs": [],
   "source": [
    "# 土法煉鋼\n",
    "workbook = xlsxwriter.Workbook('Expenses02.xlsx')\n",
    "worksheet = workbook.add_worksheet()\n",
    "cell_Header = workbook.add_format({'bold': True, 'italic': True,'bg_color':'green'})\n",
    "cell_format = workbook.add_format({'bold': True,'num_format':0x03})\n",
    "# Header\n",
    "for col_num, value in enumerate(df.columns.values):\n",
    "    worksheet.write(0, col_num + 1, value, cell_Header)\n",
    "\n",
    "#RawData , row=df.shape[0]\n",
    "for i in range(0,df.shape[0]):\n",
    "    for col_num, value in enumerate(df.iloc[i]):\n",
    "        worksheet.write(1+i,col_num + 1, value,cell_format)\n",
    "workbook.close()"
   ]
  },
  {
   "cell_type": "code",
   "execution_count": 82,
   "metadata": {},
   "outputs": [
    {
     "data": {
      "text/plain": [
       "10"
      ]
     },
     "execution_count": 82,
     "metadata": {},
     "output_type": "execute_result"
    }
   ],
   "source": [
    "# 土法煉鋼 By Raw寫\n",
    "workbook = xlsxwriter.Workbook('Expenses02.xlsx')\n",
    "worksheet = workbook.add_worksheet()\n",
    "cell_Header = workbook.add_format({'bold': True, 'italic': True,'bg_color':'green'})\n",
    "cell_format = workbook.add_format({'bold': True,'num_format':0x03})\n",
    "cell_format_Pertange = workbook.add_format({'bold': True,'num_format':0x0a})\n",
    "# Header\n",
    "for col_num, value in enumerate(df.columns.values):\n",
    "    worksheet.write(0, col_num + 1, value, cell_Header)\n",
    "\n",
    "#RawData , row=df.shape[0]\n",
    "for i in range(0,df.shape[0]):\n",
    "    for col_num, value in enumerate(df.iloc[i]):\n",
    "        worksheet.write(1+i,col_num + 1, value,cell_format)\n",
    "workbook.close()"
   ]
  },
  {
   "cell_type": "code",
   "execution_count": 3,
   "metadata": {},
   "outputs": [],
   "source": [
    "# 土法煉鋼 By Columns寫\n",
    "workbook = xlsxwriter.Workbook('Expenses04.xlsx')\n",
    "worksheet = workbook.add_worksheet()\n",
    "cell_Header = workbook.add_format({'bold': True, 'italic': True,'bg_color':'green',})\n",
    "cell_Header.set_align('center')\n",
    "cell_format = workbook.add_format({'bold': True,'num_format':0x03})\n",
    "cell_format_1 = workbook.add_format({'bold': True,'num_format':0x28}) \n",
    "cell_format_2 = workbook.add_format({'bold': True,'num_format':0x26})\n",
    "cell_format_Pertange = workbook.add_format({'bold': True,'num_format':0x0a})\n",
    "cell_F={'A':cell_format,'B':cell_format_Pertange,'C':cell_format_1,'D':cell_format_2,'E':cell_format_1}\n",
    "\n",
    "# Header\n",
    "for col_num, value in enumerate(df.columns.values):\n",
    "    worksheet.write(0, col_num + 1, value, cell_Header)\n",
    "\n",
    "#RawData , row=df.shape[0]\n",
    "for i in range(0,df.shape[1]):\n",
    "    for row, value in enumerate(df.iloc[:,i]):\n",
    "        style=cell_F[df.columns[i]]\n",
    "        worksheet.write(row+1,i+1, value,style)\n",
    "workbook.close()"
   ]
  }
 ],
 "metadata": {
  "kernelspec": {
   "display_name": "Python 3",
   "language": "python",
   "name": "python3"
  },
  "language_info": {
   "codemirror_mode": {
    "name": "ipython",
    "version": 3
   },
   "file_extension": ".py",
   "mimetype": "text/x-python",
   "name": "python",
   "nbconvert_exporter": "python",
   "pygments_lexer": "ipython3",
   "version": "3.5.4"
  }
 },
 "nbformat": 4,
 "nbformat_minor": 2
}
