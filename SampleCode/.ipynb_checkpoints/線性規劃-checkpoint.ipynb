{
 "cells": [
  {
   "cell_type": "markdown",
   "metadata": {},
   "source": [
    "+ [線性規劃求解](https://www.youtube.com/watch?v=hv9euf7myg4)\n",
    "+ [線性規劃-使用 Python](https://sites.google.com/site/richchihlee/portal/python/python-lp)\n",
    "+ pulp \n",
    "+ from scipy import optimize as op\n",
    "+ [线性规划各种问题的Python调包方法](https://www.jianshu.com/p/9be417cbfebb)\n"
   ]
  },
  {
   "cell_type": "markdown",
   "metadata": {},
   "source": [
    "某成衣廠可生產長褲與夾克，每件長褲售價 $50，每件夾克售價 $40；每件長褲成分為 1 份棉與 2 份化纖，每件夾克成分為 1 .5份棉與 1 份化纖；棉總共有 750 份，化纖總共有 1000 份，如下表所示，若成衣廠追求獲利最大，則應生產長褲與夾克各若干？還剩棉與化纖各若干？"
   ]
  },
  {
   "cell_type": "markdown",
   "metadata": {},
   "source": [
    "Pants="
   ]
  },
  {
   "cell_type": "code",
   "execution_count": 7,
   "metadata": {},
   "outputs": [],
   "source": [
    "from pulp import *"
   ]
  },
  {
   "cell_type": "code",
   "execution_count": 8,
   "metadata": {},
   "outputs": [],
   "source": [
    "# 變數\n",
    "pants = LpVariable(\"Pants\", lowBound=0, cat='Integer')\n",
    "jacket = LpVariable(\"Jacket\", lowBound=0, cat='Integer')"
   ]
  },
  {
   "cell_type": "code",
   "execution_count": 9,
   "metadata": {},
   "outputs": [],
   "source": [
    "prob = LpProblem(\"Textile\", LpMaximize)"
   ]
  },
  {
   "cell_type": "code",
   "execution_count": 10,
   "metadata": {},
   "outputs": [],
   "source": [
    "# 目標\n",
    "prob += 50 * pants + 40 * jacket"
   ]
  },
  {
   "cell_type": "code",
   "execution_count": 11,
   "metadata": {},
   "outputs": [],
   "source": [
    "# 限制\n",
    "prob += pants + 1.5 * jacket <= 750\n",
    "prob += 2 * pants + jacket <= 1000"
   ]
  },
  {
   "cell_type": "code",
   "execution_count": 12,
   "metadata": {},
   "outputs": [
    {
     "data": {
      "text/plain": [
       "1"
      ]
     },
     "execution_count": 12,
     "metadata": {},
     "output_type": "execute_result"
    }
   ],
   "source": [
    "# 解算\n",
    "prob.writeLP(\"Textile.lp\")\n",
    "prob.solve()"
   ]
  },
  {
   "cell_type": "code",
   "execution_count": 34,
   "metadata": {},
   "outputs": [
    {
     "name": "stdout",
     "output_type": "stream",
     "text": [
      "Pants=375.000000\tJacket=250.0\t=t28750.0\n"
     ]
    }
   ],
   "source": [
    "if prob.status == 1:\n",
    "    # 解答物件\n",
    "\n",
    "    Pants = Jacket = None\n",
    "    for v in prob.variables():\n",
    "        if v.name == 'Pants':\n",
    "            Pants = v\n",
    "        elif v.name == 'Jacket':\n",
    "            Jacket = v\n",
    "    print(\"Pants={0:f}\\tJacket={1}\\t=t{2}\".format(Pants.varValue, Jacket.varValue,value(prob.objective)))\n",
    "         "
   ]
  },
  {
   "cell_type": "code",
   "execution_count": 35,
   "metadata": {},
   "outputs": [],
   "source": [
    "#殘餘資源\n",
    "cotton = 750 - (Pants.varValue + 1.5 * Jacket.varValue)\n",
    "polyester = 1000 - (2 * Pants.varValue + Jacket.varValue)"
   ]
  },
  {
   "cell_type": "code",
   "execution_count": 40,
   "metadata": {},
   "outputs": [
    {
     "name": "stdout",
     "output_type": "stream",
     "text": [
      "Cotton=0.00\tPolyester=0.00\n"
     ]
    }
   ],
   "source": [
    "print(\"Cotton={:2.2f}\\tPolyester={:2.2f}\".format(cotton, polyester))"
   ]
  }
 ],
 "metadata": {
  "kernelspec": {
   "display_name": "Python 3",
   "language": "python",
   "name": "python3"
  },
  "language_info": {
   "codemirror_mode": {
    "name": "ipython",
    "version": 3
   },
   "file_extension": ".py",
   "mimetype": "text/x-python",
   "name": "python",
   "nbconvert_exporter": "python",
   "pygments_lexer": "ipython3",
   "version": "3.5.4"
  }
 },
 "nbformat": 4,
 "nbformat_minor": 2
}
