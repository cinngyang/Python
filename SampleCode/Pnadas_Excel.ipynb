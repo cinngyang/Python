{
 "cells": [
  {
   "cell_type": "markdown",
   "metadata": {},
   "source": [
    "+[xlsxwriter](https://xlsxwriter.readthedocs.io/index.html)"
   ]
  },
  {
   "cell_type": "code",
   "execution_count": 23,
   "metadata": {},
   "outputs": [],
   "source": [
    "import pandas as pd\n",
    "import numpy as np\n",
    "import ConnectDB as cn\n",
    "from datetime import datetime\n",
    "import xlsxwriter \n",
    "from xlsxwriter.utility import xl_rowcol_to_cell,xl_cell_to_rowcol"
   ]
  },
  {
   "cell_type": "code",
   "execution_count": 24,
   "metadata": {},
   "outputs": [],
   "source": [
    "#Time Index\n",
    "Fcst_Day=pd.date_range('2019/03/01','2019/03/10',freq='D')\n",
    "BLSP_Day=pd.date_range('2019/03/01','2019/03/10',freq='2D')"
   ]
  },
  {
   "cell_type": "code",
   "execution_count": 25,
   "metadata": {},
   "outputs": [
    {
     "data": {
      "text/plain": [
       "DatetimeIndex(['2019-03-01', '2019-03-02', '2019-03-03', '2019-03-04',\n",
       "               '2019-03-05', '2019-03-06', '2019-03-07', '2019-03-08',\n",
       "               '2019-03-09', '2019-03-10'],\n",
       "              dtype='datetime64[ns]', freq='D')"
      ]
     },
     "execution_count": 25,
     "metadata": {},
     "output_type": "execute_result"
    }
   ],
   "source": [
    "Fcst_Day"
   ]
  },
  {
   "cell_type": "code",
   "execution_count": 26,
   "metadata": {},
   "outputs": [
    {
     "data": {
      "text/plain": [
       "DatetimeIndex(['2019-03-01', '2019-03-03', '2019-03-05', '2019-03-07',\n",
       "               '2019-03-09'],\n",
       "              dtype='datetime64[ns]', freq='2D')"
      ]
     },
     "execution_count": 26,
     "metadata": {},
     "output_type": "execute_result"
    }
   ],
   "source": [
    "BLSP_Day"
   ]
  },
  {
   "cell_type": "code",
   "execution_count": 27,
   "metadata": {},
   "outputs": [],
   "source": [
    "FcQty=pd.DataFrame(np.random.rand(10),index=Fcst_Day,columns=['FcQty']).reset_index()\n",
    "BLQty=pd.DataFrame(np.random.rand(5),index=BLSP_Day,columns=['BLQty']).reset_index()"
   ]
  },
  {
   "cell_type": "code",
   "execution_count": 28,
   "metadata": {},
   "outputs": [
    {
     "data": {
      "text/html": [
       "<div>\n",
       "<style scoped>\n",
       "    .dataframe tbody tr th:only-of-type {\n",
       "        vertical-align: middle;\n",
       "    }\n",
       "\n",
       "    .dataframe tbody tr th {\n",
       "        vertical-align: top;\n",
       "    }\n",
       "\n",
       "    .dataframe thead th {\n",
       "        text-align: right;\n",
       "    }\n",
       "</style>\n",
       "<table border=\"1\" class=\"dataframe\">\n",
       "  <thead>\n",
       "    <tr style=\"text-align: right;\">\n",
       "      <th></th>\n",
       "      <th>index</th>\n",
       "      <th>FcQty</th>\n",
       "    </tr>\n",
       "  </thead>\n",
       "  <tbody>\n",
       "    <tr>\n",
       "      <th>0</th>\n",
       "      <td>2019-03-01</td>\n",
       "      <td>0.449466</td>\n",
       "    </tr>\n",
       "    <tr>\n",
       "      <th>1</th>\n",
       "      <td>2019-03-02</td>\n",
       "      <td>0.097231</td>\n",
       "    </tr>\n",
       "    <tr>\n",
       "      <th>2</th>\n",
       "      <td>2019-03-03</td>\n",
       "      <td>0.116070</td>\n",
       "    </tr>\n",
       "    <tr>\n",
       "      <th>3</th>\n",
       "      <td>2019-03-04</td>\n",
       "      <td>0.897400</td>\n",
       "    </tr>\n",
       "    <tr>\n",
       "      <th>4</th>\n",
       "      <td>2019-03-05</td>\n",
       "      <td>0.987979</td>\n",
       "    </tr>\n",
       "    <tr>\n",
       "      <th>5</th>\n",
       "      <td>2019-03-06</td>\n",
       "      <td>0.851414</td>\n",
       "    </tr>\n",
       "    <tr>\n",
       "      <th>6</th>\n",
       "      <td>2019-03-07</td>\n",
       "      <td>0.229453</td>\n",
       "    </tr>\n",
       "    <tr>\n",
       "      <th>7</th>\n",
       "      <td>2019-03-08</td>\n",
       "      <td>0.708699</td>\n",
       "    </tr>\n",
       "    <tr>\n",
       "      <th>8</th>\n",
       "      <td>2019-03-09</td>\n",
       "      <td>0.515176</td>\n",
       "    </tr>\n",
       "    <tr>\n",
       "      <th>9</th>\n",
       "      <td>2019-03-10</td>\n",
       "      <td>0.014910</td>\n",
       "    </tr>\n",
       "  </tbody>\n",
       "</table>\n",
       "</div>"
      ],
      "text/plain": [
       "       index     FcQty\n",
       "0 2019-03-01  0.449466\n",
       "1 2019-03-02  0.097231\n",
       "2 2019-03-03  0.116070\n",
       "3 2019-03-04  0.897400\n",
       "4 2019-03-05  0.987979\n",
       "5 2019-03-06  0.851414\n",
       "6 2019-03-07  0.229453\n",
       "7 2019-03-08  0.708699\n",
       "8 2019-03-09  0.515176\n",
       "9 2019-03-10  0.014910"
      ]
     },
     "execution_count": 28,
     "metadata": {},
     "output_type": "execute_result"
    }
   ],
   "source": [
    "FcQty"
   ]
  },
  {
   "cell_type": "code",
   "execution_count": 29,
   "metadata": {},
   "outputs": [],
   "source": [
    "FcQty=FcQty.rename(columns={'index':'Day'})\n",
    "BLQty=BLQty.rename(columns={'index':'Day'})"
   ]
  },
  {
   "cell_type": "code",
   "execution_count": 30,
   "metadata": {},
   "outputs": [],
   "source": [
    "dfMain=pd.merge(FcQty,BLQty,how='outer',left_on='Day', right_on='Day')"
   ]
  },
  {
   "cell_type": "code",
   "execution_count": 31,
   "metadata": {},
   "outputs": [
    {
     "data": {
      "text/html": [
       "<div>\n",
       "<style scoped>\n",
       "    .dataframe tbody tr th:only-of-type {\n",
       "        vertical-align: middle;\n",
       "    }\n",
       "\n",
       "    .dataframe tbody tr th {\n",
       "        vertical-align: top;\n",
       "    }\n",
       "\n",
       "    .dataframe thead th {\n",
       "        text-align: right;\n",
       "    }\n",
       "</style>\n",
       "<table border=\"1\" class=\"dataframe\">\n",
       "  <thead>\n",
       "    <tr style=\"text-align: right;\">\n",
       "      <th></th>\n",
       "      <th>Day</th>\n",
       "      <th>FcQty</th>\n",
       "      <th>BLQty</th>\n",
       "    </tr>\n",
       "  </thead>\n",
       "  <tbody>\n",
       "    <tr>\n",
       "      <th>0</th>\n",
       "      <td>2019-03-01</td>\n",
       "      <td>0.449466</td>\n",
       "      <td>0.880221</td>\n",
       "    </tr>\n",
       "    <tr>\n",
       "      <th>1</th>\n",
       "      <td>2019-03-02</td>\n",
       "      <td>0.097231</td>\n",
       "      <td>NaN</td>\n",
       "    </tr>\n",
       "    <tr>\n",
       "      <th>2</th>\n",
       "      <td>2019-03-03</td>\n",
       "      <td>0.116070</td>\n",
       "      <td>0.238112</td>\n",
       "    </tr>\n",
       "    <tr>\n",
       "      <th>3</th>\n",
       "      <td>2019-03-04</td>\n",
       "      <td>0.897400</td>\n",
       "      <td>NaN</td>\n",
       "    </tr>\n",
       "    <tr>\n",
       "      <th>4</th>\n",
       "      <td>2019-03-05</td>\n",
       "      <td>0.987979</td>\n",
       "      <td>0.153174</td>\n",
       "    </tr>\n",
       "    <tr>\n",
       "      <th>5</th>\n",
       "      <td>2019-03-06</td>\n",
       "      <td>0.851414</td>\n",
       "      <td>NaN</td>\n",
       "    </tr>\n",
       "    <tr>\n",
       "      <th>6</th>\n",
       "      <td>2019-03-07</td>\n",
       "      <td>0.229453</td>\n",
       "      <td>0.413905</td>\n",
       "    </tr>\n",
       "    <tr>\n",
       "      <th>7</th>\n",
       "      <td>2019-03-08</td>\n",
       "      <td>0.708699</td>\n",
       "      <td>NaN</td>\n",
       "    </tr>\n",
       "    <tr>\n",
       "      <th>8</th>\n",
       "      <td>2019-03-09</td>\n",
       "      <td>0.515176</td>\n",
       "      <td>0.911314</td>\n",
       "    </tr>\n",
       "    <tr>\n",
       "      <th>9</th>\n",
       "      <td>2019-03-10</td>\n",
       "      <td>0.014910</td>\n",
       "      <td>NaN</td>\n",
       "    </tr>\n",
       "  </tbody>\n",
       "</table>\n",
       "</div>"
      ],
      "text/plain": [
       "         Day     FcQty     BLQty\n",
       "0 2019-03-01  0.449466  0.880221\n",
       "1 2019-03-02  0.097231       NaN\n",
       "2 2019-03-03  0.116070  0.238112\n",
       "3 2019-03-04  0.897400       NaN\n",
       "4 2019-03-05  0.987979  0.153174\n",
       "5 2019-03-06  0.851414       NaN\n",
       "6 2019-03-07  0.229453  0.413905\n",
       "7 2019-03-08  0.708699       NaN\n",
       "8 2019-03-09  0.515176  0.911314\n",
       "9 2019-03-10  0.014910       NaN"
      ]
     },
     "execution_count": 31,
     "metadata": {},
     "output_type": "execute_result"
    }
   ],
   "source": [
    "dfMain"
   ]
  },
  {
   "cell_type": "code",
   "execution_count": 32,
   "metadata": {},
   "outputs": [],
   "source": [
    "def dataInterval(data1):\n",
    "    #d1 =datetime.strptime(data1, '%Y-%m-%d')\n",
    "    d1=data1.strftime('%Y/%m/%d')\n",
    "    return d1    "
   ]
  },
  {
   "cell_type": "code",
   "execution_count": 33,
   "metadata": {},
   "outputs": [],
   "source": [
    "#dfMain.loc[:,'dfMain']\n",
    "dfMain['Day'] = dfMain['Day'].apply(dataInterval)  "
   ]
  },
  {
   "cell_type": "code",
   "execution_count": 34,
   "metadata": {},
   "outputs": [
    {
     "data": {
      "text/html": [
       "<div>\n",
       "<style scoped>\n",
       "    .dataframe tbody tr th:only-of-type {\n",
       "        vertical-align: middle;\n",
       "    }\n",
       "\n",
       "    .dataframe tbody tr th {\n",
       "        vertical-align: top;\n",
       "    }\n",
       "\n",
       "    .dataframe thead th {\n",
       "        text-align: right;\n",
       "    }\n",
       "</style>\n",
       "<table border=\"1\" class=\"dataframe\">\n",
       "  <thead>\n",
       "    <tr style=\"text-align: right;\">\n",
       "      <th></th>\n",
       "      <th>FcQty</th>\n",
       "      <th>BLQty</th>\n",
       "    </tr>\n",
       "    <tr>\n",
       "      <th>Day</th>\n",
       "      <th></th>\n",
       "      <th></th>\n",
       "    </tr>\n",
       "  </thead>\n",
       "  <tbody>\n",
       "    <tr>\n",
       "      <th>2019/03/01</th>\n",
       "      <td>0.449466</td>\n",
       "      <td>0.880221</td>\n",
       "    </tr>\n",
       "    <tr>\n",
       "      <th>2019/03/02</th>\n",
       "      <td>0.097231</td>\n",
       "      <td>NaN</td>\n",
       "    </tr>\n",
       "    <tr>\n",
       "      <th>2019/03/03</th>\n",
       "      <td>0.116070</td>\n",
       "      <td>0.238112</td>\n",
       "    </tr>\n",
       "  </tbody>\n",
       "</table>\n",
       "</div>"
      ],
      "text/plain": [
       "               FcQty     BLQty\n",
       "Day                           \n",
       "2019/03/01  0.449466  0.880221\n",
       "2019/03/02  0.097231       NaN\n",
       "2019/03/03  0.116070  0.238112"
      ]
     },
     "execution_count": 34,
     "metadata": {},
     "output_type": "execute_result"
    }
   ],
   "source": [
    "dfMain=dfMain.set_index('Day')\n",
    "dfMain.head(3)"
   ]
  },
  {
   "cell_type": "code",
   "execution_count": 35,
   "metadata": {},
   "outputs": [
    {
     "data": {
      "text/html": [
       "<div>\n",
       "<style scoped>\n",
       "    .dataframe tbody tr th:only-of-type {\n",
       "        vertical-align: middle;\n",
       "    }\n",
       "\n",
       "    .dataframe tbody tr th {\n",
       "        vertical-align: top;\n",
       "    }\n",
       "\n",
       "    .dataframe thead th {\n",
       "        text-align: right;\n",
       "    }\n",
       "</style>\n",
       "<table border=\"1\" class=\"dataframe\">\n",
       "  <thead>\n",
       "    <tr style=\"text-align: right;\">\n",
       "      <th></th>\n",
       "      <th>FcQty</th>\n",
       "      <th>BLQty</th>\n",
       "    </tr>\n",
       "    <tr>\n",
       "      <th>Day</th>\n",
       "      <th></th>\n",
       "      <th></th>\n",
       "    </tr>\n",
       "  </thead>\n",
       "  <tbody>\n",
       "    <tr>\n",
       "      <th>2019/03/01</th>\n",
       "      <td>0.449466</td>\n",
       "      <td>0.880221</td>\n",
       "    </tr>\n",
       "    <tr>\n",
       "      <th>2019/03/02</th>\n",
       "      <td>0.097231</td>\n",
       "      <td>0.000000</td>\n",
       "    </tr>\n",
       "    <tr>\n",
       "      <th>2019/03/03</th>\n",
       "      <td>0.116070</td>\n",
       "      <td>0.238112</td>\n",
       "    </tr>\n",
       "    <tr>\n",
       "      <th>2019/03/04</th>\n",
       "      <td>0.897400</td>\n",
       "      <td>0.000000</td>\n",
       "    </tr>\n",
       "    <tr>\n",
       "      <th>2019/03/05</th>\n",
       "      <td>0.987979</td>\n",
       "      <td>0.153174</td>\n",
       "    </tr>\n",
       "    <tr>\n",
       "      <th>2019/03/06</th>\n",
       "      <td>0.851414</td>\n",
       "      <td>0.000000</td>\n",
       "    </tr>\n",
       "    <tr>\n",
       "      <th>2019/03/07</th>\n",
       "      <td>0.229453</td>\n",
       "      <td>0.413905</td>\n",
       "    </tr>\n",
       "    <tr>\n",
       "      <th>2019/03/08</th>\n",
       "      <td>0.708699</td>\n",
       "      <td>0.000000</td>\n",
       "    </tr>\n",
       "    <tr>\n",
       "      <th>2019/03/09</th>\n",
       "      <td>0.515176</td>\n",
       "      <td>0.911314</td>\n",
       "    </tr>\n",
       "    <tr>\n",
       "      <th>2019/03/10</th>\n",
       "      <td>0.014910</td>\n",
       "      <td>0.000000</td>\n",
       "    </tr>\n",
       "  </tbody>\n",
       "</table>\n",
       "</div>"
      ],
      "text/plain": [
       "               FcQty     BLQty\n",
       "Day                           \n",
       "2019/03/01  0.449466  0.880221\n",
       "2019/03/02  0.097231  0.000000\n",
       "2019/03/03  0.116070  0.238112\n",
       "2019/03/04  0.897400  0.000000\n",
       "2019/03/05  0.987979  0.153174\n",
       "2019/03/06  0.851414  0.000000\n",
       "2019/03/07  0.229453  0.413905\n",
       "2019/03/08  0.708699  0.000000\n",
       "2019/03/09  0.515176  0.911314\n",
       "2019/03/10  0.014910  0.000000"
      ]
     },
     "execution_count": 35,
     "metadata": {},
     "output_type": "execute_result"
    }
   ],
   "source": [
    "dfMain=dfMain.fillna(0)\n",
    "dfMain"
   ]
  },
  {
   "cell_type": "code",
   "execution_count": 36,
   "metadata": {},
   "outputs": [],
   "source": [
    "dfMain['Gap']=dfMain['FcQty']-dfMain['BLQty']"
   ]
  },
  {
   "cell_type": "code",
   "execution_count": 37,
   "metadata": {},
   "outputs": [],
   "source": [
    "#轉置\n",
    "dfMain=dfMain.T"
   ]
  },
  {
   "cell_type": "code",
   "execution_count": 38,
   "metadata": {},
   "outputs": [],
   "source": [
    "dfMain=dfMain.reset_index()"
   ]
  },
  {
   "cell_type": "code",
   "execution_count": 39,
   "metadata": {},
   "outputs": [
    {
     "data": {
      "text/html": [
       "<div>\n",
       "<style scoped>\n",
       "    .dataframe tbody tr th:only-of-type {\n",
       "        vertical-align: middle;\n",
       "    }\n",
       "\n",
       "    .dataframe tbody tr th {\n",
       "        vertical-align: top;\n",
       "    }\n",
       "\n",
       "    .dataframe thead th {\n",
       "        text-align: right;\n",
       "    }\n",
       "</style>\n",
       "<table border=\"1\" class=\"dataframe\">\n",
       "  <thead>\n",
       "    <tr style=\"text-align: right;\">\n",
       "      <th>Day</th>\n",
       "      <th>index</th>\n",
       "      <th>2019/03/01</th>\n",
       "      <th>2019/03/02</th>\n",
       "      <th>2019/03/03</th>\n",
       "      <th>2019/03/04</th>\n",
       "      <th>2019/03/05</th>\n",
       "      <th>2019/03/06</th>\n",
       "      <th>2019/03/07</th>\n",
       "      <th>2019/03/08</th>\n",
       "      <th>2019/03/09</th>\n",
       "      <th>2019/03/10</th>\n",
       "    </tr>\n",
       "  </thead>\n",
       "  <tbody>\n",
       "    <tr>\n",
       "      <th>0</th>\n",
       "      <td>FcQty</td>\n",
       "      <td>0.449466</td>\n",
       "      <td>0.097231</td>\n",
       "      <td>0.116070</td>\n",
       "      <td>0.8974</td>\n",
       "      <td>0.987979</td>\n",
       "      <td>0.851414</td>\n",
       "      <td>0.229453</td>\n",
       "      <td>0.708699</td>\n",
       "      <td>0.515176</td>\n",
       "      <td>0.01491</td>\n",
       "    </tr>\n",
       "    <tr>\n",
       "      <th>1</th>\n",
       "      <td>BLQty</td>\n",
       "      <td>0.880221</td>\n",
       "      <td>0.000000</td>\n",
       "      <td>0.238112</td>\n",
       "      <td>0.0000</td>\n",
       "      <td>0.153174</td>\n",
       "      <td>0.000000</td>\n",
       "      <td>0.413905</td>\n",
       "      <td>0.000000</td>\n",
       "      <td>0.911314</td>\n",
       "      <td>0.00000</td>\n",
       "    </tr>\n",
       "    <tr>\n",
       "      <th>2</th>\n",
       "      <td>Gap</td>\n",
       "      <td>-0.430755</td>\n",
       "      <td>0.097231</td>\n",
       "      <td>-0.122042</td>\n",
       "      <td>0.8974</td>\n",
       "      <td>0.834805</td>\n",
       "      <td>0.851414</td>\n",
       "      <td>-0.184452</td>\n",
       "      <td>0.708699</td>\n",
       "      <td>-0.396139</td>\n",
       "      <td>0.01491</td>\n",
       "    </tr>\n",
       "  </tbody>\n",
       "</table>\n",
       "</div>"
      ],
      "text/plain": [
       "Day  index  2019/03/01  2019/03/02  2019/03/03  2019/03/04  2019/03/05  \\\n",
       "0    FcQty    0.449466    0.097231    0.116070      0.8974    0.987979   \n",
       "1    BLQty    0.880221    0.000000    0.238112      0.0000    0.153174   \n",
       "2      Gap   -0.430755    0.097231   -0.122042      0.8974    0.834805   \n",
       "\n",
       "Day  2019/03/06  2019/03/07  2019/03/08  2019/03/09  2019/03/10  \n",
       "0      0.851414    0.229453    0.708699    0.515176     0.01491  \n",
       "1      0.000000    0.413905    0.000000    0.911314     0.00000  \n",
       "2      0.851414   -0.184452    0.708699   -0.396139     0.01491  "
      ]
     },
     "execution_count": 39,
     "metadata": {},
     "output_type": "execute_result"
    }
   ],
   "source": [
    "dfMain"
   ]
  },
  {
   "cell_type": "code",
   "execution_count": 40,
   "metadata": {},
   "outputs": [],
   "source": [
    "#Excel 存檔\n",
    "EndDate=datetime.now()\n",
    "EndDate=EndDate.strftime('%Y/%m/%d')\n",
    "FileName='FCST_Gap'+EndDate.replace('/','')+'.xlsx'\n",
    "workbook = xlsxwriter.Workbook(FileName)"
   ]
  },
  {
   "cell_type": "code",
   "execution_count": 41,
   "metadata": {},
   "outputs": [],
   "source": [
    "# 儲存格格式\n",
    "cell_Time=workbook.add_format({'bg_color':'#C61031','font_name':'Calibri','bold': True,\n",
    "                               'font_color':'#FFFFFF','num_format': 'yy/mm/dd'})\n",
    "cell_format_Number = workbook.add_format({'num_format':'(#,##0.00);[RED](#,##0.00)'})"
   ]
  },
  {
   "cell_type": "code",
   "execution_count": 42,
   "metadata": {},
   "outputs": [],
   "source": [
    "# 新增 Sheet\n",
    "Sheet1 = workbook.add_worksheet('ModelGroupSummary')\n",
    "#新增表頭\n",
    "for col_num, value in enumerate(dfMain.columns.values):\n",
    "    Sheet1.write(0, col_num + 1, value, cell_Time)\n",
    "    #print(0, col_num + 1,value,)"
   ]
  },
  {
   "cell_type": "markdown",
   "metadata": {},
   "source": [
    "+ dfMain.shape[0] 幾筆資料\n",
    "+ dfMain.iloc[row,:] 一筆資料所有欄位"
   ]
  },
  {
   "cell_type": "code",
   "execution_count": 44,
   "metadata": {},
   "outputs": [
    {
     "name": "stdout",
     "output_type": "stream",
     "text": [
      "1 1 L4 FcQty\n",
      "2 1 B2 0.4494664941953789\n",
      "3 1 C2 0.09723110407135316\n",
      "4 1 D2 0.11606958444673654\n",
      "5 1 E2 0.8973999377314037\n",
      "6 1 F2 0.9879785189708049\n",
      "7 1 G2 0.8514139984305261\n",
      "8 1 H2 0.2294532619851355\n",
      "9 1 I2 0.7086994857478841\n",
      "10 1 J2 0.5151757515002819\n",
      "11 1 K2 0.014910024826723767\n",
      "1 2 L2 BLQty\n",
      "2 2 B3 0.8802211616516774\n",
      "3 2 C3 0.0\n",
      "4 2 D3 0.23811198636590902\n",
      "5 2 E3 0.0\n",
      "6 2 F3 0.15317401495974325\n",
      "7 2 G3 0.0\n",
      "8 2 H3 0.41390485050548254\n",
      "9 2 I3 0.0\n",
      "10 2 J3 0.9113143770564557\n",
      "11 2 K3 0.0\n",
      "1 3 L3 Gap\n",
      "2 3 B4 -0.43075466745629853\n",
      "C4 =C3-C2\n",
      "3 3 C4 0.09723110407135316\n",
      "D4 =D3-D2\n",
      "4 3 D4 -0.12204240191917248\n",
      "E4 =E3-E2\n",
      "5 3 E4 0.8973999377314037\n",
      "F4 =F3-F2\n",
      "6 3 F4 0.8348045040110617\n",
      "G4 =G3-G2\n",
      "7 3 G4 0.8514139984305261\n",
      "H4 =H3-H2\n",
      "8 3 H4 -0.18445158852034704\n",
      "I4 =I3-I2\n",
      "9 3 I4 0.7086994857478841\n",
      "J4 =J3-J2\n",
      "10 3 J4 -0.39613862555617374\n",
      "K4 =K3-K2\n",
      "11 3 K4 0.014910024826723767\n",
      "L4 =L3-L2\n"
     ]
    }
   ],
   "source": [
    "#Table 資料\n",
    "for row in range(0,dfMain.shape[0]):\n",
    "    for col, value in enumerate(dfMain.iloc[row,:]):\n",
    "        print(col+1,row+1,cName,value)\n",
    "        #取得儲存格名稱\n",
    "        cName=xl_rowcol_to_cell(row+1,col+1) \n",
    "        #取得儲存格座標\n",
    "        r1,c1=xl_cell_to_rowcol(cName)   \n",
    "        cRow_1=xl_rowcol_to_cell(r1-1,c1)  \n",
    "        cRow_2=xl_rowcol_to_cell(r1-2,c1)       \n",
    "        # 第 3 列 Gap 寫入公式\n",
    "        if (row+1)==3:\n",
    "            if (cName)=='B4':               \n",
    "                Sheet1.write(cName,value)\n",
    "            else:\n",
    "                cal='='+cRow_1+'-'+cRow_2\n",
    "                Sheet1.write(cName,cal,cell_format_Number)\n",
    "                print(cName,cal)       \n",
    "        else:\n",
    "            Sheet1.write(cName,value)\n",
    "#公式函數 \n",
    "Sheet1.write('A2','=SUM(C2:L2)')          \n",
    "workbook.close()        "
   ]
  }
 ],
 "metadata": {
  "kernelspec": {
   "display_name": "tensorflow",
   "language": "python",
   "name": "tensorflow"
  },
  "language_info": {
   "codemirror_mode": {
    "name": "ipython",
    "version": 3
   },
   "file_extension": ".py",
   "mimetype": "text/x-python",
   "name": "python",
   "nbconvert_exporter": "python",
   "pygments_lexer": "ipython3",
   "version": "3.5.4"
  }
 },
 "nbformat": 4,
 "nbformat_minor": 2
}
