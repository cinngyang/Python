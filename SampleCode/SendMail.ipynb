{
 "cells": [
  {
   "cell_type": "markdown",
   "metadata": {},
   "source": [
    "Send Mail / attachFile\n",
    "+ [SMTP发送邮件](https://www.kancloud.cn/thinkphp/python-guide/39541)\n",
    "+ [支援html、圖片、附件)](https://codertw.com/%E5%89%8D%E7%AB%AF%E9%96%8B%E7%99%BC/52992/)\n",
    "+ [发送python电子邮件时添加excel文件附件](https://codeday.me/bug/20180920/256238.html)"
   ]
  },
  {
   "cell_type": "code",
   "execution_count": 35,
   "metadata": {},
   "outputs": [],
   "source": [
    "import smtplib\n",
    "from os.path import basename\n",
    "from email.mime.application import MIMEApplication\n",
    "from email.mime.multipart import MIMEMultipart\n",
    "from email.utils import COMMASPACE, formatdate\n",
    "from email.mime.text import MIMEText\n",
    "from email.mime.base import MIMEBase\n",
    "from email.header import Header\n",
    "#from email.encoders import encode_base64\n",
    "from email import encoders\n",
    "gmail_user = 'cinng.yang@gmail.com'\n",
    "gmail_password = 'XXXXXXX' # your gmail password"
   ]
  },
  {
   "cell_type": "code",
   "execution_count": 29,
   "metadata": {},
   "outputs": [
    {
     "name": "stdout",
     "output_type": "stream",
     "text": [
      "Email sent!\n"
     ]
    }
   ],
   "source": [
    "# 基礎\n",
    "msg = MIMEText('content')\n",
    "msg['Subject'] = Header('來自SMTP的问候……', 'utf-8').encode()\n",
    "msg['From'] = gmail_user\n",
    "msg['To'] = 'cinng.yang@gmail.com'\n",
    "\n",
    "server = smtplib.SMTP_SSL('smtp.gmail.com', 465)\n",
    "server.ehlo()\n",
    "server.login(gmail_user, gmail_password)\n",
    "server.send_message(msg)\n",
    "server.quit()\n",
    "print('Email sent!')"
   ]
  },
  {
   "cell_type": "code",
   "execution_count": 30,
   "metadata": {},
   "outputs": [
    {
     "name": "stdout",
     "output_type": "stream",
     "text": [
      "Email sent!\n"
     ]
    }
   ],
   "source": [
    "# HTML\n",
    "msg = MIMEText('<html><body><h1>Hello</h1>' +\n",
    "    '<p>send by <a href=\"http://www.python.org\">Python</a>...</p>' +\n",
    "    '</body></html>', 'html', 'utf-8')\n",
    "msg['Subject'] = 'Test-HTML'\n",
    "msg['From'] = gmail_user\n",
    "msg['To'] = 'cinng.yang@gmail.com'\n",
    "\n",
    "server = smtplib.SMTP_SSL('smtp.gmail.com', 465)\n",
    "server.ehlo()\n",
    "server.login(gmail_user, gmail_password)\n",
    "server.send_message(msg)\n",
    "server.quit()\n",
    "print('Email sent!')"
   ]
  },
  {
   "cell_type": "code",
   "execution_count": 39,
   "metadata": {},
   "outputs": [
    {
     "name": "stdout",
     "output_type": "stream",
     "text": [
      "Email sent!\n"
     ]
    }
   ],
   "source": [
    "#Attach File\n",
    "msg = MIMEMultipart()\n",
    "msg['From'] = gmail_user\n",
    "msg['To'] = 'cinng.yang@gmail.com'\n",
    "msg['Subject'] = 'Test-attach'\n",
    "\n",
    "# 邮件正文是MIMEText:\n",
    "msg.attach(MIMEText('send with file...', 'plain', 'utf-8'))\n",
    "\n",
    "# 添加附件就是加上一个MIMEBase，从本地读取一个图片:\n",
    "with open('Expenses04.xlsx', 'rb') as f:\n",
    "    # 设置附件的MIME和文件名，这里是png类型:\n",
    "    mime = MIMEBase('text', 'xlsx', filename='Expenses04.xlsx')\n",
    "    \n",
    "    # 加上必要的头信息:\n",
    "    mime.add_header('Content-Disposition', 'attachment', filename='Expenses04.xlsx')\n",
    "    mime.add_header('Content-ID', '<0>')\n",
    "    mime.add_header('X-Attachment-Id', '0')\n",
    "    # 把附件的内容读进来:\n",
    "    mime.set_payload(f.read())\n",
    "    # 用Base64编码:\n",
    "    encoders.encode_base64(mime)\n",
    "    # 添加到MIMEMultipart:\n",
    "    msg.attach(mime)\n",
    "\n",
    "server = smtplib.SMTP_SSL('smtp.gmail.com', 465)\n",
    "server.ehlo()\n",
    "server.login(gmail_user, gmail_password)\n",
    "server.send_message(msg)\n",
    "server.quit()\n",
    "print('Email sent!')"
   ]
  },
  {
   "cell_type": "code",
   "execution_count": 40,
   "metadata": {},
   "outputs": [
    {
     "name": "stdout",
     "output_type": "stream",
     "text": [
      "Email sent!\n"
     ]
    }
   ],
   "source": [
    "#把圖片崁入Mail\n",
    "#Attach File\n",
    "msg = MIMEMultipart()\n",
    "msg['From'] = gmail_user\n",
    "msg['To'] = 'cinng.yang@gmail.com'\n",
    "msg['Subject'] = 'Test-attach'\n",
    "\n",
    "# 邮件正文是MIMEText:\n",
    "msg.attach(MIMEText('<html><body><h1>Hello</h1>'+\n",
    "    '<p><img src=\"cid:0\"></p>' +\n",
    "    '</body></html>', 'html', 'utf-8'))\n",
    "\n",
    "# 添加附件就是加上一个MIMEBase，从本地读取一个图片:\n",
    "with open('C:/Data/GitHub/Python/SampleFile/Go.jpg', 'rb') as f:\n",
    "    # 设置附件的MIME和文件名，这里是png类型:\n",
    "    mime = MIMEBase('image', 'jpg', filename='Go.jpg')\n",
    "    \n",
    "    # 加上必要的头信息:\n",
    "    mime.add_header('Content-Disposition', 'attachment', filename='Go.jpg')\n",
    "    mime.add_header('Content-ID', '<0>')\n",
    "    mime.add_header('X-Attachment-Id', '0')\n",
    "    # 把附件的内容读进来:\n",
    "    mime.set_payload(f.read())\n",
    "    # 用Base64编码:\n",
    "    encoders.encode_base64(mime)\n",
    "    # 添加到MIMEMultipart:\n",
    "    msg.attach(mime)\n",
    "\n",
    "server = smtplib.SMTP_SSL('smtp.gmail.com', 465)\n",
    "server.ehlo()\n",
    "server.login(gmail_user, gmail_password)\n",
    "server.send_message(msg)\n",
    "server.quit()\n",
    "print('Email sent!')"
   ]
  },
  {
   "cell_type": "code",
   "execution_count": null,
   "metadata": {},
   "outputs": [],
   "source": []
  }
 ],
 "metadata": {
  "kernelspec": {
   "display_name": "Python 3",
   "language": "python",
   "name": "python3"
  },
  "language_info": {
   "codemirror_mode": {
    "name": "ipython",
    "version": 3
   },
   "file_extension": ".py",
   "mimetype": "text/x-python",
   "name": "python",
   "nbconvert_exporter": "python",
   "pygments_lexer": "ipython3",
   "version": "3.5.4"
  }
 },
 "nbformat": 4,
 "nbformat_minor": 2
}
