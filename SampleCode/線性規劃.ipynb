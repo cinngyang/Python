{
 "cells": [
  {
   "cell_type": "markdown",
   "metadata": {},
   "source": [
    "+ [線性規劃求解](https://www.youtube.com/watch?v=hv9euf7myg4)\n",
    "+ [線性規劃-使用 Python](https://sites.google.com/site/richchihlee/portal/python/python-lp)\n",
    "+ pulp \n",
    "+ from scipy import optimize as op\n",
    "+ [线性规划各种问题的Python调包方法](https://www.jianshu.com/p/9be417cbfebb)\n"
   ]
  }
 ],
 "metadata": {
  "kernelspec": {
   "display_name": "Python 3",
   "language": "python",
   "name": "python3"
  },
  "language_info": {
   "codemirror_mode": {
    "name": "ipython",
    "version": 3
   },
   "file_extension": ".py",
   "mimetype": "text/x-python",
   "name": "python",
   "nbconvert_exporter": "python",
   "pygments_lexer": "ipython3",
   "version": "3.5.4"
  }
 },
 "nbformat": 4,
 "nbformat_minor": 2
}
