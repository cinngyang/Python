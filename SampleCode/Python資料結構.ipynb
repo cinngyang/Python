{
  "nbformat": 4,
  "nbformat_minor": 0,
  "metadata": {
    "colab": {
      "name": "Python資料結構.ipynb",
      "version": "0.3.2",
      "provenance": [],
      "collapsed_sections": [],
      "toc_visible": true,
      "include_colab_link": true
    },
    "kernelspec": {
      "name": "python3",
      "display_name": "Python 3"
    }
  },
  "cells": [
    {
      "cell_type": "markdown",
      "metadata": {
        "id": "view-in-github",
        "colab_type": "text"
      },
      "source": [
        "<a href=\"https://colab.research.google.com/github/cinngyang/Python/blob/master/SampleCode/Python%E8%B3%87%E6%96%99%E7%B5%90%E6%A7%8B.ipynb\" target=\"_parent\"><img src=\"https://colab.research.google.com/assets/colab-badge.svg\" alt=\"Open In Colab\"/></a>"
      ]
    },
    {
      "metadata": {
        "id": "S3fkxPirReiu",
        "colab_type": "text"
      },
      "cell_type": "markdown",
      "source": [
        "# 基本結構"
      ]
    },
    {
      "metadata": {
        "id": "49scJX1pRpDk",
        "colab_type": "text"
      },
      "cell_type": "markdown",
      "source": [
        "+ 三元表達式 val= true_expr if condition else false-expr\n",
        "+ tuple , tub=4,5,(2,3,5) , 長度不可變 , bisert 模組\n",
        "+ List , lis=[1,112,345 ] , in , not   , 結合用 extend\n",
        "+ dict , dic={key:value} 結合用 update\n",
        "+ Set , 集合 , 透過 set 函數或中括號 set()\n",
        "+ Function\n",
        "  + enumerate\n",
        "  + sorted / Reversed\n",
        "  + zip / unzip , 不對稱 , 最短 , zip 序列元數配對\n",
        "+ comprehension \n",
        "  + expr for val in collection if condition\n",
        "  + key-expr : val-expr for val in collection\n",
        "  \n"
      ]
    },
    {
      "metadata": {
        "id": "lW98QwnYSgaU",
        "colab_type": "text"
      },
      "cell_type": "markdown",
      "source": [
        "# tub and list\n",
        "+ 逗號分隔, 長度不可變更"
      ]
    },
    {
      "metadata": {
        "id": "C5cd9MrePCyj",
        "colab_type": "code",
        "colab": {}
      },
      "cell_type": "code",
      "source": [
        "tub=2,3,5,'xyz',(8,9,10)\n",
        "tub[3]\n",
        "lis=[1,112,345 ]\n",
        "lis.append(3)"
      ],
      "execution_count": 0,
      "outputs": []
    },
    {
      "metadata": {
        "id": "7iJ4EVqEHG_y",
        "colab_type": "code",
        "outputId": "3e2a71e1-f96d-4d4a-9c2b-1e25093ec682",
        "colab": {
          "base_uri": "https://localhost:8080/",
          "height": 35
        }
      },
      "cell_type": "code",
      "source": [
        "lis_1=['a','b','c','d']\n",
        "list_a=['e','f','g']\n",
        "lis_2=[5,8,9,10,11,24,15]\n",
        "lis_1.extend(list_a)\n",
        "lis_1"
      ],
      "execution_count": 2,
      "outputs": [
        {
          "output_type": "execute_result",
          "data": {
            "text/plain": [
              "['a', 'b', 'c', 'd', 'e', 'f', 'g']"
            ]
          },
          "metadata": {
            "tags": []
          },
          "execution_count": 2
        }
      ]
    },
    {
      "metadata": {
        "id": "5E6Mu4NNHfaT",
        "colab_type": "code",
        "outputId": "c2b5b8d9-61f8-4e38-e761-37fddb352dc7",
        "colab": {
          "base_uri": "https://localhost:8080/",
          "height": 35
        }
      },
      "cell_type": "code",
      "source": [
        "dic={}\n",
        "for i,(key,val) in enumerate(zip(lis_1,lis_2)):\n",
        "  dic[key]=val\n",
        "dic"
      ],
      "execution_count": 3,
      "outputs": [
        {
          "output_type": "execute_result",
          "data": {
            "text/plain": [
              "{'a': 5, 'b': 8, 'c': 9, 'd': 10, 'e': 11, 'f': 24, 'g': 15}"
            ]
          },
          "metadata": {
            "tags": []
          },
          "execution_count": 3
        }
      ]
    },
    {
      "metadata": {
        "id": "be1vcYHXL-fX",
        "colab_type": "code",
        "outputId": "d83dc834-5153-48ce-e672-2b33b735f2c9",
        "colab": {
          "base_uri": "https://localhost:8080/",
          "height": 35
        }
      },
      "cell_type": "code",
      "source": [
        "pic=zip(lis_1,lis_2)\n",
        "pic=list(pic)\n",
        "fir,las=zip(*pic)\n",
        "fir"
      ],
      "execution_count": 4,
      "outputs": [
        {
          "output_type": "execute_result",
          "data": {
            "text/plain": [
              "('a', 'b', 'c', 'd', 'e', 'f', 'g')"
            ]
          },
          "metadata": {
            "tags": []
          },
          "execution_count": 4
        }
      ]
    },
    {
      "metadata": {
        "id": "5dQRgW-IM8Xb",
        "colab_type": "code",
        "colab": {}
      },
      "cell_type": "code",
      "source": [
        ""
      ],
      "execution_count": 0,
      "outputs": []
    },
    {
      "metadata": {
        "id": "rluWMtekN49x",
        "colab_type": "text"
      },
      "cell_type": "markdown",
      "source": [
        "# dict\n",
        "+ 巢狀 dict"
      ]
    },
    {
      "metadata": {
        "id": "cqmXE9lNSxsx",
        "colab_type": "text"
      },
      "cell_type": "markdown",
      "source": [
        "# Function\n",
        "+ 位置參數 & 關鍵字\n",
        "+ Lambda "
      ]
    },
    {
      "metadata": {
        "id": "Ex8URu_9S0oZ",
        "colab_type": "code",
        "colab": {}
      },
      "cell_type": "code",
      "source": [
        "def my_func(x,y,z=1.5):\n",
        "  if z > 1 :\n",
        "    return z * (x+y)\n",
        "  else :\n",
        "    return z/(x+y)"
      ],
      "execution_count": 0,
      "outputs": []
    },
    {
      "metadata": {
        "id": "3DHdcLF2WJ0Y",
        "colab_type": "code",
        "colab": {}
      },
      "cell_type": "code",
      "source": [
        "def short_func(x):\n",
        "  return x*2\n",
        "\n",
        "eqiv_anon=lambda x:x*2"
      ],
      "execution_count": 0,
      "outputs": []
    },
    {
      "metadata": {
        "id": "1-YrcTGAXpft",
        "colab_type": "code",
        "colab": {}
      },
      "cell_type": "code",
      "source": [
        ""
      ],
      "execution_count": 0,
      "outputs": []
    },
    {
      "metadata": {
        "id": "9-rWJWhmT54b",
        "colab_type": "text"
      },
      "cell_type": "markdown",
      "source": [
        "# Set\n",
        "+ a.update(b) 聯集\n",
        "+ a.union(b) a l b\n",
        "+ a.symetric_difference(b)   "
      ]
    },
    {
      "metadata": {
        "id": "s7PJhyH3T6DH",
        "colab_type": "text"
      },
      "cell_type": "markdown",
      "source": [
        "# NumPy\n",
        "+ array[dim] , array[raw,column] , array[dim][column]  \n",
        "+ arr3d[0,:1,:1]\n",
        "+ 布林索引\n",
        "+ narray 同質多維度陣列,未指定通常為 float \n",
        "+ shape & dtype(資料型態) & ndim\n",
        "+ 建立特殊矩陣 zeros & ones & empty & identity\n",
        "+ 建立可利用 np.aray(list)\n",
        "+ narray 計算不使用 for 迴圈,(向量化), 兩各陣列比較(>,<,=)回傳布林陣列\n",
        "+ "
      ]
    },
    {
      "metadata": {
        "id": "L_DqZsZwPIJl",
        "colab_type": "code",
        "colab": {}
      },
      "cell_type": "code",
      "source": [
        "import numpy as np"
      ],
      "execution_count": 0,
      "outputs": []
    },
    {
      "metadata": {
        "id": "iag_Lh8gd6SJ",
        "colab_type": "code",
        "outputId": "0a830d7c-07cf-42c8-fab4-8c54f18cf008",
        "colab": {
          "base_uri": "https://localhost:8080/",
          "height": 230
        }
      },
      "cell_type": "code",
      "source": [
        "# 布林索引\n",
        "names=np.array(['Bob','Joe','Will','Bob','Will','Joe','Joe'])\n",
        "data=np.random.randn(7,4)\n",
        "print('names.shape={0}'.format(names.shape))\n",
        "print('data.shape={0}'.format(data.shape))\n",
        "print(\"names=='Bob'\",names=='Bob')\n",
        "print(data)\n",
        "data[names=='Bob']"
      ],
      "execution_count": 8,
      "outputs": [
        {
          "output_type": "stream",
          "text": [
            "names.shape=(7,)\n",
            "data.shape=(7, 4)\n",
            "names=='Bob' [ True False False  True False False False]\n",
            "[[ 0.43166374  0.47274403  0.89556221  0.36720436]\n",
            " [ 0.5646024  -1.54909441 -1.43911049  0.65671743]\n",
            " [-0.33610698 -0.25869782 -1.02355327  0.61197521]\n",
            " [ 0.04804604 -1.60084154  3.24492346 -0.85285539]\n",
            " [ 0.80826505  0.01591996 -0.32408463  0.74357134]\n",
            " [ 2.74346985  0.45990001 -0.95156137 -1.36543539]\n",
            " [-1.20594548 -0.01195983 -0.10593772  0.20026469]]\n"
          ],
          "name": "stdout"
        },
        {
          "output_type": "execute_result",
          "data": {
            "text/plain": [
              "array([[ 0.43166374,  0.47274403,  0.89556221,  0.36720436],\n",
              "       [ 0.04804604, -1.60084154,  3.24492346, -0.85285539]])"
            ]
          },
          "metadata": {
            "tags": []
          },
          "execution_count": 8
        }
      ]
    },
    {
      "metadata": {
        "id": "sl4uSBJHUn72",
        "colab_type": "code",
        "outputId": "71cb519d-bef0-45b6-8846-a2bcec78d7c2",
        "colab": {
          "base_uri": "https://localhost:8080/",
          "height": 177
        }
      },
      "cell_type": "code",
      "source": [
        "arr3d=np.array([[[1,2,3],[4,5,6]],[[7,8,9],[10,11,12]]])\n",
        "print(\"ndim={0}\".format(arr3d.ndim))\n",
        "print(\"aray shape={0}\".format(arr3d.shape))\n",
        "print(arr3d)\n",
        "print(\"arr3d[0]={0}\".format(arr3d[0]))"
      ],
      "execution_count": 9,
      "outputs": [
        {
          "output_type": "stream",
          "text": [
            "ndim=3\n",
            "aray shape=(2, 2, 3)\n",
            "[[[ 1  2  3]\n",
            "  [ 4  5  6]]\n",
            "\n",
            " [[ 7  8  9]\n",
            "  [10 11 12]]]\n",
            "arr3d[0]=[[1 2 3]\n",
            " [4 5 6]]\n"
          ],
          "name": "stdout"
        }
      ]
    },
    {
      "metadata": {
        "id": "Mhm1QVscY-nq",
        "colab_type": "code",
        "outputId": "95858759-739a-47b2-d42b-79026d406f05",
        "colab": {
          "base_uri": "https://localhost:8080/",
          "height": 35
        }
      },
      "cell_type": "code",
      "source": [
        "print(\"arr3d={0}\".format(arr3d[0,:1,:2]))"
      ],
      "execution_count": 10,
      "outputs": [
        {
          "output_type": "stream",
          "text": [
            "arr3d=[[1 2]]\n"
          ],
          "name": "stdout"
        }
      ]
    },
    {
      "metadata": {
        "id": "Xi0pz3eEPJ8s",
        "colab_type": "code",
        "outputId": "94d560ed-0191-49e5-9720-3e53f16141df",
        "colab": {
          "base_uri": "https://localhost:8080/",
          "height": 52
        }
      },
      "cell_type": "code",
      "source": [
        "arr1=np.array([[1,2,3,],[4,5,6]])\n",
        "arr2=np.array([[0,4,1],[4,5,7]])\n",
        "arr2 > arr1"
      ],
      "execution_count": 11,
      "outputs": [
        {
          "output_type": "execute_result",
          "data": {
            "text/plain": [
              "array([[False,  True, False],\n",
              "       [False, False,  True]])"
            ]
          },
          "metadata": {
            "tags": []
          },
          "execution_count": 11
        }
      ]
    },
    {
      "metadata": {
        "id": "smTfx2CCT6Gz",
        "colab_type": "text"
      },
      "cell_type": "markdown",
      "source": [
        "# Pandas - Series\n",
        "+ 資料結構 series & DataFrame\n",
        "+ Series 結構 data & Index , 建立 list 或 dict , 操作向 narray \n",
        "+ index 屬性 values , index , index 有 name 屬性\n",
        "+ 以 dict 建立 index 為自動 join 缺值補 NaN \n",
        "+ Series 布林運算"
      ]
    },
    {
      "metadata": {
        "id": "GkBiH8YF2OJL",
        "colab_type": "code",
        "outputId": "8d68041a-3775-4e0b-82d4-b619a60574c1",
        "colab": {
          "base_uri": "https://localhost:8080/",
          "height": 35
        }
      },
      "cell_type": "code",
      "source": [
        "import pandas as pd\n",
        "obj=pd.Series([4,7,-5,3])\n",
        "print('obj.index={0}',obj.index)\n",
        "obj=pd.Series([4,7,-5,3],index=['d','b','a','c'])\n",
        "stata={'ohio':3500,'Texas':71000,'Oregon':16000,'Utah':5000}\n",
        "states=['Calofornia','ohio','Oregon','Texax']\n",
        "obj3=pd.Series(stata)\n",
        "obj4=pd.Series(stata,states)"
      ],
      "execution_count": 12,
      "outputs": [
        {
          "output_type": "stream",
          "text": [
            "obj.index={0} RangeIndex(start=0, stop=4, step=1)\n"
          ],
          "name": "stdout"
        }
      ]
    },
    {
      "metadata": {
        "id": "JE8etmCo3cH_",
        "colab_type": "code",
        "outputId": "7ce68005-d146-4dc3-e129-7719aeb620e9",
        "colab": {
          "base_uri": "https://localhost:8080/",
          "height": 212
        }
      },
      "cell_type": "code",
      "source": [
        "print('obj.value={0}',obj.values)\n",
        "print('obj.index={0}',obj.index)\n",
        "print('obj3.value={0}',obj3.values)\n",
        "print('obj3.index={0}',obj3.index)   \n",
        "print('states=',states)\n",
        "print('data & index 有差異{0},obj4= {1}'.format('\\n',obj4))"
      ],
      "execution_count": 13,
      "outputs": [
        {
          "output_type": "stream",
          "text": [
            "obj.value={0} [ 4  7 -5  3]\n",
            "obj.index={0} Index(['d', 'b', 'a', 'c'], dtype='object')\n",
            "obj3.value={0} [16000 71000  5000  3500]\n",
            "obj3.index={0} Index(['Oregon', 'Texas', 'Utah', 'ohio'], dtype='object')\n",
            "states= ['Calofornia', 'ohio', 'Oregon', 'Texax']\n",
            "data & index 有差異\n",
            ",obj4= Calofornia        NaN\n",
            "ohio           3500.0\n",
            "Oregon        16000.0\n",
            "Texax             NaN\n",
            "dtype: float64\n"
          ],
          "name": "stdout"
        }
      ]
    },
    {
      "metadata": {
        "id": "IUzFWGin9L45",
        "colab_type": "code",
        "outputId": "320eceda-9f0e-4108-cdce-62c2fac14e0d",
        "colab": {
          "base_uri": "https://localhost:8080/",
          "height": 124
        }
      },
      "cell_type": "code",
      "source": [
        "obj4.name='population'\n",
        "obj4.index.name='state'\n",
        "obj4"
      ],
      "execution_count": 14,
      "outputs": [
        {
          "output_type": "execute_result",
          "data": {
            "text/plain": [
              "state\n",
              "Calofornia        NaN\n",
              "ohio           3500.0\n",
              "Oregon        16000.0\n",
              "Texax             NaN\n",
              "Name: population, dtype: float64"
            ]
          },
          "metadata": {
            "tags": []
          },
          "execution_count": 14
        }
      ]
    },
    {
      "metadata": {
        "id": "c2NdE5rG9v1N",
        "colab_type": "text"
      },
      "cell_type": "markdown",
      "source": [
        "# # Pandas - DataFrame\n",
        "+ 每個欄位可以有不同的資料型態\n",
        "+ 有列跟欄的 Index\n",
        "+ 想像成 裝了很多 Series 物件的 dict , 每個 Series 使用同樣的 index\n",
        "+ 建立方式 seriers , dict \n",
        "+ 取用欄 frame.columns or frame['colName']\n",
        "+ 取用列 frame.loc['index'] (軸) frame.iloc[row,colunms] , iloc[-1]\n",
        "+ 使用 Series 指定給欄時, index 會自動齊(join),為匹配填 NaN\n",
        "+ 刪除欄 del frame['colName']\n",
        "+ 轉置 frame.T"
      ]
    },
    {
      "metadata": {
        "id": "Ua1F5XEL-VLD",
        "colab_type": "code",
        "outputId": "e82e6c65-66a0-4a8f-d32a-781d36cb0828",
        "colab": {
          "base_uri": "https://localhost:8080/",
          "height": 230
        }
      },
      "cell_type": "code",
      "source": [
        "data={'state':['ohio','ohio','ohio','Nevada','Nevada','Nevada'],\n",
        "      'year':[2000,2001,2002,2000,2001,2002],\n",
        "      'pop':[1.5,1.7,3.6,2.4,2.9,3.2]}\n",
        "frame=pd.DataFrame(data)\n",
        "frame"
      ],
      "execution_count": 15,
      "outputs": [
        {
          "output_type": "execute_result",
          "data": {
            "text/html": [
              "<div>\n",
              "<style scoped>\n",
              "    .dataframe tbody tr th:only-of-type {\n",
              "        vertical-align: middle;\n",
              "    }\n",
              "\n",
              "    .dataframe tbody tr th {\n",
              "        vertical-align: top;\n",
              "    }\n",
              "\n",
              "    .dataframe thead th {\n",
              "        text-align: right;\n",
              "    }\n",
              "</style>\n",
              "<table border=\"1\" class=\"dataframe\">\n",
              "  <thead>\n",
              "    <tr style=\"text-align: right;\">\n",
              "      <th></th>\n",
              "      <th>pop</th>\n",
              "      <th>state</th>\n",
              "      <th>year</th>\n",
              "    </tr>\n",
              "  </thead>\n",
              "  <tbody>\n",
              "    <tr>\n",
              "      <th>0</th>\n",
              "      <td>1.5</td>\n",
              "      <td>ohio</td>\n",
              "      <td>2000</td>\n",
              "    </tr>\n",
              "    <tr>\n",
              "      <th>1</th>\n",
              "      <td>1.7</td>\n",
              "      <td>ohio</td>\n",
              "      <td>2001</td>\n",
              "    </tr>\n",
              "    <tr>\n",
              "      <th>2</th>\n",
              "      <td>3.6</td>\n",
              "      <td>ohio</td>\n",
              "      <td>2002</td>\n",
              "    </tr>\n",
              "    <tr>\n",
              "      <th>3</th>\n",
              "      <td>2.4</td>\n",
              "      <td>Nevada</td>\n",
              "      <td>2000</td>\n",
              "    </tr>\n",
              "    <tr>\n",
              "      <th>4</th>\n",
              "      <td>2.9</td>\n",
              "      <td>Nevada</td>\n",
              "      <td>2001</td>\n",
              "    </tr>\n",
              "    <tr>\n",
              "      <th>5</th>\n",
              "      <td>3.2</td>\n",
              "      <td>Nevada</td>\n",
              "      <td>2002</td>\n",
              "    </tr>\n",
              "  </tbody>\n",
              "</table>\n",
              "</div>"
            ],
            "text/plain": [
              "   pop   state  year\n",
              "0  1.5    ohio  2000\n",
              "1  1.7    ohio  2001\n",
              "2  3.6    ohio  2002\n",
              "3  2.4  Nevada  2000\n",
              "4  2.9  Nevada  2001\n",
              "5  3.2  Nevada  2002"
            ]
          },
          "metadata": {
            "tags": []
          },
          "execution_count": 15
        }
      ]
    },
    {
      "metadata": {
        "id": "a-WOdwtdKU4a",
        "colab_type": "code",
        "outputId": "bcb3f26e-5827-4fc4-efc8-4b7febb260e9",
        "colab": {
          "base_uri": "https://localhost:8080/",
          "height": 141
        }
      },
      "cell_type": "code",
      "source": [
        "frame2=pd.DataFrame(data,columns=['year','state','pop','debt'],index=['one','two','three','four','five','six'])\n",
        "frame2.year"
      ],
      "execution_count": 16,
      "outputs": [
        {
          "output_type": "execute_result",
          "data": {
            "text/plain": [
              "one      2000\n",
              "two      2001\n",
              "three    2002\n",
              "four     2000\n",
              "five     2001\n",
              "six      2002\n",
              "Name: year, dtype: int64"
            ]
          },
          "metadata": {
            "tags": []
          },
          "execution_count": 16
        }
      ]
    },
    {
      "metadata": {
        "id": "Y_Tv_L85OMhU",
        "colab_type": "text"
      },
      "cell_type": "markdown",
      "source": [
        "# 巢狀 dict 建立 Data Frame \n",
        "+ 外層 Key -> columns Index , 內層 Key row Index\n"
      ]
    },
    {
      "metadata": {
        "id": "hwg8IIIfM9_j",
        "colab_type": "code",
        "outputId": "b5c66e1b-bc43-46ca-a1ff-ca5dfd479be0",
        "colab": {
          "base_uri": "https://localhost:8080/",
          "height": 139
        }
      },
      "cell_type": "code",
      "source": [
        "pop={'Nevada':{2001:2.4,2002:2.9},\n",
        "     'ohio':{2000:1.5,2001:1.7,2002:3.6}}\n",
        "frame3=pd.DataFrame(pop)\n",
        "frame3"
      ],
      "execution_count": 17,
      "outputs": [
        {
          "output_type": "execute_result",
          "data": {
            "text/html": [
              "<div>\n",
              "<style scoped>\n",
              "    .dataframe tbody tr th:only-of-type {\n",
              "        vertical-align: middle;\n",
              "    }\n",
              "\n",
              "    .dataframe tbody tr th {\n",
              "        vertical-align: top;\n",
              "    }\n",
              "\n",
              "    .dataframe thead th {\n",
              "        text-align: right;\n",
              "    }\n",
              "</style>\n",
              "<table border=\"1\" class=\"dataframe\">\n",
              "  <thead>\n",
              "    <tr style=\"text-align: right;\">\n",
              "      <th></th>\n",
              "      <th>Nevada</th>\n",
              "      <th>ohio</th>\n",
              "    </tr>\n",
              "  </thead>\n",
              "  <tbody>\n",
              "    <tr>\n",
              "      <th>2000</th>\n",
              "      <td>NaN</td>\n",
              "      <td>1.5</td>\n",
              "    </tr>\n",
              "    <tr>\n",
              "      <th>2001</th>\n",
              "      <td>2.4</td>\n",
              "      <td>1.7</td>\n",
              "    </tr>\n",
              "    <tr>\n",
              "      <th>2002</th>\n",
              "      <td>2.9</td>\n",
              "      <td>3.6</td>\n",
              "    </tr>\n",
              "  </tbody>\n",
              "</table>\n",
              "</div>"
            ],
            "text/plain": [
              "      Nevada  ohio\n",
              "2000     NaN   1.5\n",
              "2001     2.4   1.7\n",
              "2002     2.9   3.6"
            ]
          },
          "metadata": {
            "tags": []
          },
          "execution_count": 17
        }
      ]
    },
    {
      "metadata": {
        "id": "bUW5bLofPrl3",
        "colab_type": "code",
        "outputId": "9b74bac2-b8ef-4803-b022-0142ad0097e3",
        "colab": {
          "base_uri": "https://localhost:8080/",
          "height": 109
        }
      },
      "cell_type": "code",
      "source": [
        "frame3.T"
      ],
      "execution_count": 18,
      "outputs": [
        {
          "output_type": "execute_result",
          "data": {
            "text/html": [
              "<div>\n",
              "<style scoped>\n",
              "    .dataframe tbody tr th:only-of-type {\n",
              "        vertical-align: middle;\n",
              "    }\n",
              "\n",
              "    .dataframe tbody tr th {\n",
              "        vertical-align: top;\n",
              "    }\n",
              "\n",
              "    .dataframe thead th {\n",
              "        text-align: right;\n",
              "    }\n",
              "</style>\n",
              "<table border=\"1\" class=\"dataframe\">\n",
              "  <thead>\n",
              "    <tr style=\"text-align: right;\">\n",
              "      <th></th>\n",
              "      <th>2000</th>\n",
              "      <th>2001</th>\n",
              "      <th>2002</th>\n",
              "    </tr>\n",
              "  </thead>\n",
              "  <tbody>\n",
              "    <tr>\n",
              "      <th>Nevada</th>\n",
              "      <td>NaN</td>\n",
              "      <td>2.4</td>\n",
              "      <td>2.9</td>\n",
              "    </tr>\n",
              "    <tr>\n",
              "      <th>ohio</th>\n",
              "      <td>1.5</td>\n",
              "      <td>1.7</td>\n",
              "      <td>3.6</td>\n",
              "    </tr>\n",
              "  </tbody>\n",
              "</table>\n",
              "</div>"
            ],
            "text/plain": [
              "        2000  2001  2002\n",
              "Nevada   NaN   2.4   2.9\n",
              "ohio     1.5   1.7   3.6"
            ]
          },
          "metadata": {
            "tags": []
          },
          "execution_count": 18
        }
      ]
    },
    {
      "metadata": {
        "id": "aSvoQH7CRB_j",
        "colab_type": "text"
      },
      "cell_type": "markdown",
      "source": [
        "# DataFrame - Index 物件\n",
        "+ Pandas Inde 和 Set 不同, 他可以以重複標籤\n",
        "+ index 屬性方法 P151 , append . defference , inrersection\n",
        "+ 重作Row 索引 frame.reIndex(['inx1','inx2',...]) , columns 利用 frame.reIndex(columns=['inx1','inx2',...])  , method 可做計算補值\n",
        "+ 搭配 loc 重作索引\n",
        "+ 指定軸刪除 row 資料 frame.drop(['row idx','row idx']) \n",
        "+ 指定軸刪除 columns 資料 frame.drop(['col idx','col idx'] , axis='columns') \n",
        "+ 索引選擇與過濾\n",
        "+ frame.loc[row,colunms , frame.iloc[-1:2] , 整數索引避免誤判\n",
        "+ 算術運算 配對 index 沒有重複等同 outer join]\n",
        "+ 算術運算 index null 填值 df.add(df2,fill_val=0)\n",
        "+ DataFrame 與 Series 做運算 , 會每 row , col 運算 廣播(broadcast)\n",
        "+ frame.sub(series,axis='idex') 對欄做運算"
      ]
    },
    {
      "metadata": {
        "id": "Uyv_CFncPyxh",
        "colab_type": "code",
        "outputId": "a8443af7-cbcf-4f85-b688-9fa857214fd6",
        "colab": {
          "base_uri": "https://localhost:8080/",
          "height": 52
        }
      },
      "cell_type": "code",
      "source": [
        "obj=pd.Series(range(3),index=['a','b','c'])\n",
        "index=obj.index\n",
        "print('index[1:]=',index[1:])\n",
        "'b' in  index"
      ],
      "execution_count": 19,
      "outputs": [
        {
          "output_type": "stream",
          "text": [
            "index[1:]= Index(['b', 'c'], dtype='object')\n"
          ],
          "name": "stdout"
        },
        {
          "output_type": "execute_result",
          "data": {
            "text/plain": [
              "True"
            ]
          },
          "metadata": {
            "tags": []
          },
          "execution_count": 19
        }
      ]
    },
    {
      "metadata": {
        "id": "qdUQx-ixWR-M",
        "colab_type": "code",
        "outputId": "9c5350d4-0f75-4cca-87e4-b91390c06408",
        "colab": {
          "base_uri": "https://localhost:8080/",
          "height": 198
        }
      },
      "cell_type": "code",
      "source": [
        "data=pd.DataFrame(np.arange(16).reshape(4,4),\n",
        "                  index=['ohio','Colorado','Utah','New York'],\n",
        "                  columns=['one','two','three','four'])\n",
        "print(data)\n",
        "data.drop(['Colorado','ohio'])"
      ],
      "execution_count": 20,
      "outputs": [
        {
          "output_type": "stream",
          "text": [
            "          one  two  three  four\n",
            "ohio        0    1      2     3\n",
            "Colorado    4    5      6     7\n",
            "Utah        8    9     10    11\n",
            "New York   12   13     14    15\n"
          ],
          "name": "stdout"
        },
        {
          "output_type": "execute_result",
          "data": {
            "text/html": [
              "<div>\n",
              "<style scoped>\n",
              "    .dataframe tbody tr th:only-of-type {\n",
              "        vertical-align: middle;\n",
              "    }\n",
              "\n",
              "    .dataframe tbody tr th {\n",
              "        vertical-align: top;\n",
              "    }\n",
              "\n",
              "    .dataframe thead th {\n",
              "        text-align: right;\n",
              "    }\n",
              "</style>\n",
              "<table border=\"1\" class=\"dataframe\">\n",
              "  <thead>\n",
              "    <tr style=\"text-align: right;\">\n",
              "      <th></th>\n",
              "      <th>one</th>\n",
              "      <th>two</th>\n",
              "      <th>three</th>\n",
              "      <th>four</th>\n",
              "    </tr>\n",
              "  </thead>\n",
              "  <tbody>\n",
              "    <tr>\n",
              "      <th>Utah</th>\n",
              "      <td>8</td>\n",
              "      <td>9</td>\n",
              "      <td>10</td>\n",
              "      <td>11</td>\n",
              "    </tr>\n",
              "    <tr>\n",
              "      <th>New York</th>\n",
              "      <td>12</td>\n",
              "      <td>13</td>\n",
              "      <td>14</td>\n",
              "      <td>15</td>\n",
              "    </tr>\n",
              "  </tbody>\n",
              "</table>\n",
              "</div>"
            ],
            "text/plain": [
              "          one  two  three  four\n",
              "Utah        8    9     10    11\n",
              "New York   12   13     14    15"
            ]
          },
          "metadata": {
            "tags": []
          },
          "execution_count": 20
        }
      ]
    },
    {
      "metadata": {
        "id": "zacBdaCPfcrm",
        "colab_type": "text"
      },
      "cell_type": "markdown",
      "source": [
        "# DataFrame 運算\n",
        "+ numpy 的全域函數可使用 np.abs(frame)\n",
        "+ apply  , frame.apply(f) 逐欄運算 , apply(f,axis='columns') 逐列運算\n",
        "+ applymp 對原素運算\n",
        "+ frame.sort_index(axis=1,ascending=False)\n",
        "+ frame.sort_value(by='column') , "
      ]
    },
    {
      "metadata": {
        "id": "yC_IuBEYLz2M",
        "colab_type": "code",
        "outputId": "93716b71-820b-4d09-ecc0-34ac34ad4ddc",
        "colab": {
          "base_uri": "https://localhost:8080/",
          "height": 319
        }
      },
      "cell_type": "code",
      "source": [
        "frame=pd.DataFrame(np.arange(12.).reshape(4,3),columns=list('bde'),index=['Utah','Ohio','Texas','Oregon'])\n",
        "series=frame.iloc[0] # row \n",
        "print('frame','\\r\\n',frame)\n",
        "print('series','\\r\\n',series)\n",
        "print('frame-series','\\r\\n',frame-series)"
      ],
      "execution_count": 21,
      "outputs": [
        {
          "output_type": "stream",
          "text": [
            "frame \r\n",
            "           b     d     e\n",
            "Utah    0.0   1.0   2.0\n",
            "Ohio    3.0   4.0   5.0\n",
            "Texas   6.0   7.0   8.0\n",
            "Oregon  9.0  10.0  11.0\n",
            "series \r\n",
            " b    0.0\n",
            "d    1.0\n",
            "e    2.0\n",
            "Name: Utah, dtype: float64\n",
            "frame-series \n",
            "           b    d    e\n",
            "Utah    0.0  0.0  0.0\n",
            "Ohio    3.0  3.0  3.0\n",
            "Texas   6.0  6.0  6.0\n",
            "Oregon  9.0  9.0  9.0\n"
          ],
          "name": "stdout"
        }
      ]
    },
    {
      "metadata": {
        "id": "dS5BE2L8Pl6d",
        "colab_type": "code",
        "outputId": "008d14b4-f40a-44d1-fd25-a20ca6db4333",
        "colab": {
          "base_uri": "https://localhost:8080/",
          "height": 195
        }
      },
      "cell_type": "code",
      "source": [
        "f=lambda x:x.max()-x.min()\n",
        "print('frame','\\r\\n',frame)\n",
        "frame.apply(f) # 每一欄算一次 "
      ],
      "execution_count": 22,
      "outputs": [
        {
          "output_type": "stream",
          "text": [
            "frame \r\n",
            "           b     d     e\n",
            "Utah    0.0   1.0   2.0\n",
            "Ohio    3.0   4.0   5.0\n",
            "Texas   6.0   7.0   8.0\n",
            "Oregon  9.0  10.0  11.0\n"
          ],
          "name": "stdout"
        },
        {
          "output_type": "execute_result",
          "data": {
            "text/plain": [
              "b    9.0\n",
              "d    9.0\n",
              "e    9.0\n",
              "dtype: float64"
            ]
          },
          "metadata": {
            "tags": []
          },
          "execution_count": 22
        }
      ]
    },
    {
      "metadata": {
        "id": "vn3hDNqIQgvN",
        "colab_type": "code",
        "outputId": "236063f5-ff69-4920-d2eb-832e4b304d41",
        "colab": {
          "base_uri": "https://localhost:8080/",
          "height": 106
        }
      },
      "cell_type": "code",
      "source": [
        "frame.apply(f,axis='columns') #逐列呼叫"
      ],
      "execution_count": 23,
      "outputs": [
        {
          "output_type": "execute_result",
          "data": {
            "text/plain": [
              "Utah      2.0\n",
              "Ohio      2.0\n",
              "Texas     2.0\n",
              "Oregon    2.0\n",
              "dtype: float64"
            ]
          },
          "metadata": {
            "tags": []
          },
          "execution_count": 23
        }
      ]
    },
    {
      "metadata": {
        "id": "4cG3JAD4RxPS",
        "colab_type": "code",
        "outputId": "4b1412f8-7b61-45b9-bcf9-3ac870293ed7",
        "colab": {
          "base_uri": "https://localhost:8080/",
          "height": 170
        }
      },
      "cell_type": "code",
      "source": [
        "def f(x):\n",
        "  return pd.Series([x.min(),x.max()],index=['min','max'])\n",
        "frame"
      ],
      "execution_count": 24,
      "outputs": [
        {
          "output_type": "execute_result",
          "data": {
            "text/html": [
              "<div>\n",
              "<style scoped>\n",
              "    .dataframe tbody tr th:only-of-type {\n",
              "        vertical-align: middle;\n",
              "    }\n",
              "\n",
              "    .dataframe tbody tr th {\n",
              "        vertical-align: top;\n",
              "    }\n",
              "\n",
              "    .dataframe thead th {\n",
              "        text-align: right;\n",
              "    }\n",
              "</style>\n",
              "<table border=\"1\" class=\"dataframe\">\n",
              "  <thead>\n",
              "    <tr style=\"text-align: right;\">\n",
              "      <th></th>\n",
              "      <th>b</th>\n",
              "      <th>d</th>\n",
              "      <th>e</th>\n",
              "    </tr>\n",
              "  </thead>\n",
              "  <tbody>\n",
              "    <tr>\n",
              "      <th>Utah</th>\n",
              "      <td>0.0</td>\n",
              "      <td>1.0</td>\n",
              "      <td>2.0</td>\n",
              "    </tr>\n",
              "    <tr>\n",
              "      <th>Ohio</th>\n",
              "      <td>3.0</td>\n",
              "      <td>4.0</td>\n",
              "      <td>5.0</td>\n",
              "    </tr>\n",
              "    <tr>\n",
              "      <th>Texas</th>\n",
              "      <td>6.0</td>\n",
              "      <td>7.0</td>\n",
              "      <td>8.0</td>\n",
              "    </tr>\n",
              "    <tr>\n",
              "      <th>Oregon</th>\n",
              "      <td>9.0</td>\n",
              "      <td>10.0</td>\n",
              "      <td>11.0</td>\n",
              "    </tr>\n",
              "  </tbody>\n",
              "</table>\n",
              "</div>"
            ],
            "text/plain": [
              "          b     d     e\n",
              "Utah    0.0   1.0   2.0\n",
              "Ohio    3.0   4.0   5.0\n",
              "Texas   6.0   7.0   8.0\n",
              "Oregon  9.0  10.0  11.0"
            ]
          },
          "metadata": {
            "tags": []
          },
          "execution_count": 24
        }
      ]
    },
    {
      "metadata": {
        "id": "y7LojM9LSqz4",
        "colab_type": "code",
        "outputId": "50095730-0a91-4ca8-aabd-b860aace5ae5",
        "colab": {
          "base_uri": "https://localhost:8080/",
          "height": 109
        }
      },
      "cell_type": "code",
      "source": [
        "frame.apply(f)"
      ],
      "execution_count": 25,
      "outputs": [
        {
          "output_type": "execute_result",
          "data": {
            "text/html": [
              "<div>\n",
              "<style scoped>\n",
              "    .dataframe tbody tr th:only-of-type {\n",
              "        vertical-align: middle;\n",
              "    }\n",
              "\n",
              "    .dataframe tbody tr th {\n",
              "        vertical-align: top;\n",
              "    }\n",
              "\n",
              "    .dataframe thead th {\n",
              "        text-align: right;\n",
              "    }\n",
              "</style>\n",
              "<table border=\"1\" class=\"dataframe\">\n",
              "  <thead>\n",
              "    <tr style=\"text-align: right;\">\n",
              "      <th></th>\n",
              "      <th>b</th>\n",
              "      <th>d</th>\n",
              "      <th>e</th>\n",
              "    </tr>\n",
              "  </thead>\n",
              "  <tbody>\n",
              "    <tr>\n",
              "      <th>min</th>\n",
              "      <td>0.0</td>\n",
              "      <td>1.0</td>\n",
              "      <td>2.0</td>\n",
              "    </tr>\n",
              "    <tr>\n",
              "      <th>max</th>\n",
              "      <td>9.0</td>\n",
              "      <td>10.0</td>\n",
              "      <td>11.0</td>\n",
              "    </tr>\n",
              "  </tbody>\n",
              "</table>\n",
              "</div>"
            ],
            "text/plain": [
              "       b     d     e\n",
              "min  0.0   1.0   2.0\n",
              "max  9.0  10.0  11.0"
            ]
          },
          "metadata": {
            "tags": []
          },
          "execution_count": 25
        }
      ]
    },
    {
      "metadata": {
        "id": "yzrsnFTtskWD",
        "colab_type": "text"
      },
      "cell_type": "markdown",
      "source": [
        "# DataFrame - 切片\n",
        "+ frame.loc[frame.columns=='Value']\n",
        "+ frame.iloc[raw:col]"
      ]
    }
  ]
}