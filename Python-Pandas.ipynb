{
  "nbformat": 4,
  "nbformat_minor": 0,
  "metadata": {
    "colab": {
      "name": "Python-Pandas.ipynb",
      "version": "0.3.2",
      "provenance": [],
      "include_colab_link": true
    },
    "kernelspec": {
      "display_name": "Python 3",
      "language": "python",
      "name": "python3"
    }
  },
  "cells": [
    {
      "cell_type": "markdown",
      "metadata": {
        "id": "view-in-github",
        "colab_type": "text"
      },
      "source": [
        "[View in Colaboratory](https://colab.research.google.com/github/cinngyang/Python/blob/master/Python-Pandas.ipynb)"
      ]
    },
    {
      "metadata": {
        "id": "MSPgkLRS-XpQ",
        "colab_type": "text"
      },
      "cell_type": "markdown",
      "source": [
        "read_csv  delimiter=\"\\t\"  "
      ]
    },
    {
      "metadata": {
        "id": "xZeyBHxE-lbG",
        "colab_type": "text"
      },
      "cell_type": "markdown",
      "source": [
        "+ Pandas 資料格式包含 Series / Array / Dictionary /DataFrame\n",
        "+ DataFrame \n",
        "> 基本資訊 .shape .describe()  .head()  .tail()  .columns  .index  .info()<br>\n",
        "   資料選擇與篩選 : pd.loc /pd.iloc(Selection By Position) <br>tips[(tips['time'] == 'Dinner') & (tips['tip'] > 5.00)]<br>\n",
        "   處理空值 dropna() fillna() <br>\n",
        "\n",
        "\n",
        "### Reference\n",
        "[Pandas 基礎教學](https://oranwind.org/python-pandas-ji-chu-jiao-xue/)<br>\n",
        "[Data Frame 常用屬性與方法](https://ithelp.ithome.com.tw/articles/10185922)<br>\n",
        "[Python data analysis toolkit](http://pandas.pydata.org/pandas-docs/stable/)<br>\n",
        "[Comparison with SQL](http://pandas.pydata.org/pandas-docs/stable/comparison_with_sql.html)<br>"
      ]
    },
    {
      "metadata": {
        "id": "Drl-7Z-K-XpW",
        "colab_type": "code",
        "colab": {}
      },
      "cell_type": "code",
      "source": [
        "import pandas as pd\n",
        "from statistics import mean,median,mode,variance\n",
        "\n",
        "df1=pd.DataFrame({\"HPI\":[80,90,70,60],\"Int_rate\":[2,1,2,3],\n",
        "                  \"IND_GDP\":[50,45,45,67]},index=[2000,2002,2003,2004])\n",
        "df2=pd.DataFrame({\"HPI\":[80,90,70,60],\"Int_rate\":[2,1,2,3],\n",
        "                  \"IND_GDP\":[50,45,45,67]},index=[2005,2006,2007,2008])"
      ],
      "execution_count": 0,
      "outputs": []
    },
    {
      "metadata": {
        "id": "ukdAb8pk-Xpa",
        "colab_type": "code",
        "colab": {
          "base_uri": "https://localhost:8080/",
          "height": 80
        },
        "outputId": "94b7fa65-5ebd-443b-8c3f-036e018e1b27"
      },
      "cell_type": "code",
      "source": [
        "# Select & Where\n",
        "df2[(df2['HPI'] == 80) & (df2['IND_GDP'] >= 50)]\n",
        "\n"
      ],
      "execution_count": 6,
      "outputs": [
        {
          "output_type": "execute_result",
          "data": {
            "text/html": [
              "<div>\n",
              "<style scoped>\n",
              "    .dataframe tbody tr th:only-of-type {\n",
              "        vertical-align: middle;\n",
              "    }\n",
              "\n",
              "    .dataframe tbody tr th {\n",
              "        vertical-align: top;\n",
              "    }\n",
              "\n",
              "    .dataframe thead th {\n",
              "        text-align: right;\n",
              "    }\n",
              "</style>\n",
              "<table border=\"1\" class=\"dataframe\">\n",
              "  <thead>\n",
              "    <tr style=\"text-align: right;\">\n",
              "      <th></th>\n",
              "      <th>HPI</th>\n",
              "      <th>IND_GDP</th>\n",
              "      <th>Int_rate</th>\n",
              "    </tr>\n",
              "  </thead>\n",
              "  <tbody>\n",
              "    <tr>\n",
              "      <th>2005</th>\n",
              "      <td>80</td>\n",
              "      <td>50</td>\n",
              "      <td>2</td>\n",
              "    </tr>\n",
              "  </tbody>\n",
              "</table>\n",
              "</div>"
            ],
            "text/plain": [
              "      HPI  IND_GDP  Int_rate\n",
              "2005   80       50         2"
            ]
          },
          "metadata": {
            "tags": []
          },
          "execution_count": 6
        }
      ]
    },
    {
      "metadata": {
        "id": "aKeUER_r-Xpd",
        "colab_type": "text"
      },
      "cell_type": "markdown",
      "source": [
        "merge\n",
        "concatenate 聯集\n",
        "set index \n",
        "re index \n",
        "columns diff\n",
        "join"
      ]
    },
    {
      "metadata": {
        "id": "HUueNaRa-Xpd",
        "colab_type": "code",
        "colab": {
          "base_uri": "https://localhost:8080/",
          "height": 173
        },
        "outputId": "0d409b23-ca1d-48f6-b2cd-7ed925435500"
      },
      "cell_type": "code",
      "source": [
        "# merge\n",
        "mr=pd.merge(df1,df2) \n",
        "mr"
      ],
      "execution_count": 7,
      "outputs": [
        {
          "output_type": "execute_result",
          "data": {
            "text/html": [
              "<div>\n",
              "<style scoped>\n",
              "    .dataframe tbody tr th:only-of-type {\n",
              "        vertical-align: middle;\n",
              "    }\n",
              "\n",
              "    .dataframe tbody tr th {\n",
              "        vertical-align: top;\n",
              "    }\n",
              "\n",
              "    .dataframe thead th {\n",
              "        text-align: right;\n",
              "    }\n",
              "</style>\n",
              "<table border=\"1\" class=\"dataframe\">\n",
              "  <thead>\n",
              "    <tr style=\"text-align: right;\">\n",
              "      <th></th>\n",
              "      <th>HPI</th>\n",
              "      <th>IND_GDP</th>\n",
              "      <th>Int_rate</th>\n",
              "    </tr>\n",
              "  </thead>\n",
              "  <tbody>\n",
              "    <tr>\n",
              "      <th>0</th>\n",
              "      <td>80</td>\n",
              "      <td>50</td>\n",
              "      <td>2</td>\n",
              "    </tr>\n",
              "    <tr>\n",
              "      <th>1</th>\n",
              "      <td>90</td>\n",
              "      <td>45</td>\n",
              "      <td>1</td>\n",
              "    </tr>\n",
              "    <tr>\n",
              "      <th>2</th>\n",
              "      <td>70</td>\n",
              "      <td>45</td>\n",
              "      <td>2</td>\n",
              "    </tr>\n",
              "    <tr>\n",
              "      <th>3</th>\n",
              "      <td>60</td>\n",
              "      <td>67</td>\n",
              "      <td>3</td>\n",
              "    </tr>\n",
              "  </tbody>\n",
              "</table>\n",
              "</div>"
            ],
            "text/plain": [
              "   HPI  IND_GDP  Int_rate\n",
              "0   80       50         2\n",
              "1   90       45         1\n",
              "2   70       45         2\n",
              "3   60       67         3"
            ]
          },
          "metadata": {
            "tags": []
          },
          "execution_count": 7
        }
      ]
    },
    {
      "metadata": {
        "id": "to29nJQu-Xpf",
        "colab_type": "code",
        "colab": {},
        "outputId": "d86a0cdb-11b5-4adf-8c71-f7c285db70c5"
      },
      "cell_type": "code",
      "source": [
        "con=pd.concat([df1,df2])\n",
        "con"
      ],
      "execution_count": 0,
      "outputs": [
        {
          "output_type": "execute_result",
          "data": {
            "text/html": [
              "<div>\n",
              "<style scoped>\n",
              "    .dataframe tbody tr th:only-of-type {\n",
              "        vertical-align: middle;\n",
              "    }\n",
              "\n",
              "    .dataframe tbody tr th {\n",
              "        vertical-align: top;\n",
              "    }\n",
              "\n",
              "    .dataframe thead th {\n",
              "        text-align: right;\n",
              "    }\n",
              "</style>\n",
              "<table border=\"1\" class=\"dataframe\">\n",
              "  <thead>\n",
              "    <tr style=\"text-align: right;\">\n",
              "      <th></th>\n",
              "      <th>HPI</th>\n",
              "      <th>IND_GDP</th>\n",
              "      <th>Int_rate</th>\n",
              "    </tr>\n",
              "  </thead>\n",
              "  <tbody>\n",
              "    <tr>\n",
              "      <th>2000</th>\n",
              "      <td>80</td>\n",
              "      <td>50</td>\n",
              "      <td>2</td>\n",
              "    </tr>\n",
              "    <tr>\n",
              "      <th>2002</th>\n",
              "      <td>90</td>\n",
              "      <td>45</td>\n",
              "      <td>1</td>\n",
              "    </tr>\n",
              "    <tr>\n",
              "      <th>2003</th>\n",
              "      <td>70</td>\n",
              "      <td>45</td>\n",
              "      <td>2</td>\n",
              "    </tr>\n",
              "    <tr>\n",
              "      <th>2004</th>\n",
              "      <td>60</td>\n",
              "      <td>67</td>\n",
              "      <td>3</td>\n",
              "    </tr>\n",
              "    <tr>\n",
              "      <th>2005</th>\n",
              "      <td>80</td>\n",
              "      <td>50</td>\n",
              "      <td>2</td>\n",
              "    </tr>\n",
              "    <tr>\n",
              "      <th>2006</th>\n",
              "      <td>90</td>\n",
              "      <td>45</td>\n",
              "      <td>1</td>\n",
              "    </tr>\n",
              "    <tr>\n",
              "      <th>2007</th>\n",
              "      <td>70</td>\n",
              "      <td>45</td>\n",
              "      <td>2</td>\n",
              "    </tr>\n",
              "    <tr>\n",
              "      <th>2008</th>\n",
              "      <td>60</td>\n",
              "      <td>67</td>\n",
              "      <td>3</td>\n",
              "    </tr>\n",
              "  </tbody>\n",
              "</table>\n",
              "</div>"
            ],
            "text/plain": [
              "      HPI  IND_GDP  Int_rate\n",
              "2000   80       50         2\n",
              "2002   90       45         1\n",
              "2003   70       45         2\n",
              "2004   60       67         3\n",
              "2005   80       50         2\n",
              "2006   90       45         1\n",
              "2007   70       45         2\n",
              "2008   60       67         3"
            ]
          },
          "metadata": {
            "tags": []
          },
          "execution_count": 126
        }
      ]
    },
    {
      "metadata": {
        "id": "kOrLw11f-Xpi",
        "colab_type": "code",
        "colab": {},
        "outputId": "76bc87e2-151c-4a29-a763-ac59ac8849e7"
      },
      "cell_type": "code",
      "source": [
        "dif=con.reindex(columns=['HPI','IND_GDP']) #兩欄相減\n",
        "print(dif)\n",
        "dif=dif.diff(axis=1) \n",
        "print(dif)\n",
        "dif.plot(kind='bar')"
      ],
      "execution_count": 0,
      "outputs": [
        {
          "output_type": "stream",
          "text": [
            "      HPI  IND_GDP\n",
            "2000   80       50\n",
            "2002   90       45\n",
            "2003   70       45\n",
            "2004   60       67\n",
            "2005   80       50\n",
            "2006   90       45\n",
            "2007   70       45\n",
            "2008   60       67\n",
            "      HPI  IND_GDP\n",
            "2000  NaN    -30.0\n",
            "2002  NaN    -45.0\n",
            "2003  NaN    -25.0\n",
            "2004  NaN      7.0\n",
            "2005  NaN    -30.0\n",
            "2006  NaN    -45.0\n",
            "2007  NaN    -25.0\n",
            "2008  NaN      7.0\n"
          ],
          "name": "stdout"
        },
        {
          "output_type": "execute_result",
          "data": {
            "text/plain": [
              "<matplotlib.axes._subplots.AxesSubplot at 0x23d781af128>"
            ]
          },
          "metadata": {
            "tags": []
          },
          "execution_count": 127
        },
        {
          "output_type": "display_data",
          "data": {
            "image/png": "[encoded data removed]",
            "text/plain": [
              "<Figure size 432x288 with 1 Axes>"
            ]
          },
          "metadata": {
            "tags": []
          }
        }
      ]
    },
    {
      "metadata": {
        "id": "jTDYHKrL-Xpl",
        "colab_type": "code",
        "colab": {},
        "outputId": "c63e06d0-0c22-4834-8eba-ce2ff60803db"
      },
      "cell_type": "code",
      "source": [
        "df1=pd.DataFrame({\"HPI\":[80,90,70,60],\"Int_rate\":[2,1,2,3],\n",
        "                  \"IND_GDP\":[50,45,45,67]},index=[2000,2002,2003,2004])\n",
        "df2=pd.DataFrame({\"Low_TieHDI\":[80,90,70,60],\"Low_Int_rate\":[2,1,2,3],\n",
        "                  \"Low_IND_GDP\":[50,45,45,67]},index=[2000,2001,2003,2004])\n",
        "join=df1.join(df2) #join\n",
        "join"
      ],
      "execution_count": 0,
      "outputs": [
        {
          "output_type": "execute_result",
          "data": {
            "text/html": [
              "<div>\n",
              "<style scoped>\n",
              "    .dataframe tbody tr th:only-of-type {\n",
              "        vertical-align: middle;\n",
              "    }\n",
              "\n",
              "    .dataframe tbody tr th {\n",
              "        vertical-align: top;\n",
              "    }\n",
              "\n",
              "    .dataframe thead th {\n",
              "        text-align: right;\n",
              "    }\n",
              "</style>\n",
              "<table border=\"1\" class=\"dataframe\">\n",
              "  <thead>\n",
              "    <tr style=\"text-align: right;\">\n",
              "      <th></th>\n",
              "      <th>HPI</th>\n",
              "      <th>IND_GDP</th>\n",
              "      <th>Int_rate</th>\n",
              "      <th>Low_IND_GDP</th>\n",
              "      <th>Low_Int_rate</th>\n",
              "      <th>Low_TieHDI</th>\n",
              "    </tr>\n",
              "  </thead>\n",
              "  <tbody>\n",
              "    <tr>\n",
              "      <th>2000</th>\n",
              "      <td>80</td>\n",
              "      <td>50</td>\n",
              "      <td>2</td>\n",
              "      <td>50.0</td>\n",
              "      <td>2.0</td>\n",
              "      <td>80.0</td>\n",
              "    </tr>\n",
              "    <tr>\n",
              "      <th>2002</th>\n",
              "      <td>90</td>\n",
              "      <td>45</td>\n",
              "      <td>1</td>\n",
              "      <td>NaN</td>\n",
              "      <td>NaN</td>\n",
              "      <td>NaN</td>\n",
              "    </tr>\n",
              "    <tr>\n",
              "      <th>2003</th>\n",
              "      <td>70</td>\n",
              "      <td>45</td>\n",
              "      <td>2</td>\n",
              "      <td>45.0</td>\n",
              "      <td>2.0</td>\n",
              "      <td>70.0</td>\n",
              "    </tr>\n",
              "    <tr>\n",
              "      <th>2004</th>\n",
              "      <td>60</td>\n",
              "      <td>67</td>\n",
              "      <td>3</td>\n",
              "      <td>67.0</td>\n",
              "      <td>3.0</td>\n",
              "      <td>60.0</td>\n",
              "    </tr>\n",
              "  </tbody>\n",
              "</table>\n",
              "</div>"
            ],
            "text/plain": [
              "      HPI  IND_GDP  Int_rate  Low_IND_GDP  Low_Int_rate  Low_TieHDI\n",
              "2000   80       50         2         50.0           2.0        80.0\n",
              "2002   90       45         1          NaN           NaN         NaN\n",
              "2003   70       45         2         45.0           2.0        70.0\n",
              "2004   60       67         3         67.0           3.0        60.0"
            ]
          },
          "metadata": {
            "tags": []
          },
          "execution_count": 128
        }
      ]
    },
    {
      "metadata": {
        "id": "9vQ7mnRd-Xpn",
        "colab_type": "code",
        "colab": {},
        "outputId": "1973222b-b1d8-4f60-ba26-d2f11c72d058"
      },
      "cell_type": "code",
      "source": [
        "df1=pd.DataFrame({\"Day\":[1,2,3,4],\"Bound_Rate\":[20,45,60,10],\"Visitor\":[100,200,150,200]})\n",
        "print(df1)\n",
        "df1=df1.set_index(\"Day\",inplace=True)\n",
        "#df1=df1.rename(columns={\"Visitor\":\"User\"}) spyter OK but jupyter NG\n",
        "print(df1)"
      ],
      "execution_count": 0,
      "outputs": [
        {
          "output_type": "stream",
          "text": [
            "   Bound_Rate  Day  Visitor\n",
            "0          20    1      100\n",
            "1          45    2      200\n",
            "2          60    3      150\n",
            "3          10    4      200\n",
            "None\n"
          ],
          "name": "stdout"
        }
      ]
    },
    {
      "metadata": {
        "id": "OuHVZJHf-Xpq",
        "colab_type": "code",
        "colab": {},
        "outputId": "437f056e-dfa9-45c1-a8a8-447fe0397942"
      },
      "cell_type": "code",
      "source": [
        "import matplotlib.pyplot as mpt\n",
        "df1.plot()"
      ],
      "execution_count": 0,
      "outputs": [
        {
          "output_type": "execute_result",
          "data": {
            "text/plain": [
              "<matplotlib.axes._subplots.AxesSubplot at 0x23d75f567b8>"
            ]
          },
          "metadata": {
            "tags": []
          },
          "execution_count": 81
        },
        {
          "output_type": "display_data",
          "data": {
            "image/png": "[encoded data removed]",
            "text/plain": [
              "<Figure size 432x288 with 1 Axes>"
            ]
          },
          "metadata": {
            "tags": []
          }
        }
      ]
    },
    {
      "metadata": {
        "id": "IeCnPSZ4-Xpt",
        "colab_type": "code",
        "colab": {}
      },
      "cell_type": "code",
      "source": [
        "iris=pd.read_csv(\"C:/Users/Patrick/PythonSample/iris.csv\")"
      ],
      "execution_count": 0,
      "outputs": []
    },
    {
      "metadata": {
        "id": "YtxnzOPD-Xpu",
        "colab_type": "code",
        "colab": {},
        "outputId": "9b0986de-9358-4f7e-ca10-6335331931d0"
      },
      "cell_type": "code",
      "source": [
        "print(type(iris)) #資料格式"
      ],
      "execution_count": 0,
      "outputs": [
        {
          "output_type": "stream",
          "text": [
            "<class 'pandas.core.frame.DataFrame'>\n"
          ],
          "name": "stdout"
        }
      ]
    },
    {
      "metadata": {
        "id": "Ydi0tJ9m-Xpw",
        "colab_type": "code",
        "colab": {}
      },
      "cell_type": "code",
      "source": [
        "url = \"https://storage.googleapis.com/2017_ithome_ironman/data/iris.csv\" # 在雲端上儲存了一份 csv 檔案\n",
        "#url2= \"https://github.com/cinngyang/Python/blob/master/iris.data\" 有問題\n",
        "#iris=pd.read_csv(url)"
      ],
      "execution_count": 0,
      "outputs": []
    },
    {
      "metadata": {
        "id": "IHskZVY7-Xpy",
        "colab_type": "code",
        "colab": {},
        "outputId": "7b8034b5-fe34-44f7-c28c-2879b5ac6e2b"
      },
      "cell_type": "code",
      "source": [
        "iris1=iris.iloc[0:2,:] #取 Raw\n",
        "iris2=iris.iloc[3:5,:]\n",
        "print(iris1.info)\n",
        "print(iris2.info)\n",
        "merge=pd.merge(iris1,iris2, on='NO')\n",
        "print(merge.info)"
      ],
      "execution_count": 0,
      "outputs": [
        {
          "output_type": "stream",
          "text": [
            "<bound method DataFrame.info of    NO  Sepal.Length  Sepal.Width  Petal.Length  Petal.Width Species\n",
            "0   1           5.1          3.5           1.4          0.2  setosa\n",
            "1   2           4.9          3.0           1.4          0.2  setosa>\n",
            "<bound method DataFrame.info of    NO  Sepal.Length  Sepal.Width  Petal.Length  Petal.Width Species\n",
            "3   4           4.6          3.1           1.5          0.2  setosa\n",
            "4   5           5.0          3.6           1.4          0.2  setosa>\n",
            "<bound method DataFrame.info of Empty DataFrame\n",
            "Columns: [NO, Sepal.Length_x, Sepal.Width_x, Petal.Length_x, Petal.Width_x, Species_x, Sepal.Length_y, Sepal.Width_y, Petal.Length_y, Petal.Width_y, Species_y]\n",
            "Index: []>\n"
          ],
          "name": "stdout"
        }
      ]
    },
    {
      "metadata": {
        "id": "XBVNAzg7-Xp2",
        "colab_type": "code",
        "colab": {},
        "outputId": "c8374b9c-3566-4eeb-d93a-67439686f4d6"
      },
      "cell_type": "code",
      "source": [
        "len(merge)"
      ],
      "execution_count": 0,
      "outputs": [
        {
          "output_type": "execute_result",
          "data": {
            "text/plain": [
              "0"
            ]
          },
          "metadata": {
            "tags": []
          },
          "execution_count": 60
        }
      ]
    }
  ]
}