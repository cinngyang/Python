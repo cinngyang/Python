{
  "nbformat": 4,
  "nbformat_minor": 0,
  "metadata": {
    "colab": {
      "name": "Time.ipynb",
      "version": "0.3.2",
      "provenance": [],
      "collapsed_sections": [],
      "include_colab_link": true
    },
    "kernelspec": {
      "name": "python3",
      "display_name": "Python 3"
    }
  },
  "cells": [
    {
      "cell_type": "markdown",
      "metadata": {
        "id": "view-in-github",
        "colab_type": "text"
      },
      "source": [
        "<a href=\"https://colab.research.google.com/github/cinngyang/Python/blob/master/Samplecode/Time.ipynb\" target=\"_parent\"><img src=\"https://colab.research.google.com/assets/colab-badge.svg\" alt=\"Open In Colab\"/></a>"
      ]
    },
    {
      "metadata": {
        "id": "pD6Bo_ssLByC",
        "colab_type": "text"
      },
      "cell_type": "markdown",
      "source": [
        "+ 轉換格式 : now.strftime('%Y-%m-%d')\n",
        "+ 字串轉時間  parse('2019/02/17')\n",
        "+ Pandas 偏好日期陣列\n",
        "+ pd.[::2] 每隔兩個元素選取\n",
        "+ 時間索引選取可指定區間 pd['2018-04':'2018-06'] \n",
        "+ 產生區間日期 resample \n",
        "+ pd.date_range('2018-1-1','2019-1-1',freq='4h') \n",
        "+ pd.date_range('2018-1-1','2019-1-1',freq='WOM-3FRI') 每月第3 個星期五,基本時間頻率表, \n",
        "+ period 類別 pd.period(2018,freq='A-DEC')"
      ]
    },
    {
      "metadata": {
        "id": "9_ch-v5QI1-S",
        "colab_type": "code",
        "colab": {}
      },
      "cell_type": "code",
      "source": [
        "from datetime import datetime\n",
        "from datetime import timedelta\n",
        "from dateutil.parser import parse \n",
        "from pandas.tseries.offsets import Day,MonthEnd\n",
        "import pandas as pd\n",
        "import numpy as np"
      ],
      "execution_count": 0,
      "outputs": []
    },
    {
      "metadata": {
        "id": "HCSAN2PeKkYl",
        "colab_type": "code",
        "colab": {}
      },
      "cell_type": "code",
      "source": [
        "another_year = timedelta(weeks=40, days=84, hours=23, minutes=50, seconds=600)  # adds up to 365 days"
      ],
      "execution_count": 0,
      "outputs": []
    },
    {
      "metadata": {
        "id": "irk6_75cJrrz",
        "colab_type": "code",
        "colab": {
          "base_uri": "https://localhost:8080/",
          "height": 35
        },
        "outputId": "bbdb4a11-c64f-4adc-ff84-7043c317e4a5"
      },
      "cell_type": "code",
      "source": [
        "now=datetime.now()\n",
        "print(now.strftime('%Y-%m-%d'))\n",
        "now+another_year\n",
        "todat=parse('2019/02/17')"
      ],
      "execution_count": 13,
      "outputs": [
        {
          "output_type": "stream",
          "text": [
            "2019-02-17\n"
          ],
          "name": "stdout"
        }
      ]
    },
    {
      "metadata": {
        "id": "v3Cwnx5mQp0k",
        "colab_type": "code",
        "colab": {
          "base_uri": "https://localhost:8080/",
          "height": 139
        },
        "outputId": "3155c171-f3aa-410f-ce7a-c42f4fd4cb16"
      },
      "cell_type": "code",
      "source": [
        "dates=[datetime(2019,2,2),datetime(2019,2,5),datetime(2019,2,7),datetime(2019,2,8),datetime(2019,2,10),datetime(2019,2,12)]\n",
        "ts=pd.Series(data=np.random.randn(6),index=dates)\n",
        "ts"
      ],
      "execution_count": 28,
      "outputs": [
        {
          "output_type": "execute_result",
          "data": {
            "text/plain": [
              "2019-02-02    0.658080\n",
              "2019-02-05   -0.111759\n",
              "2019-02-07    0.746253\n",
              "2019-02-08   -0.509079\n",
              "2019-02-10   -1.678820\n",
              "2019-02-12    0.465300\n",
              "dtype: float64"
            ]
          },
          "metadata": {
            "tags": []
          },
          "execution_count": 28
        }
      ]
    },
    {
      "metadata": {
        "id": "Prehza7iRNip",
        "colab_type": "code",
        "colab": {
          "base_uri": "https://localhost:8080/",
          "height": 139
        },
        "outputId": "79858e78-84a4-4ef5-a229-c1b8cc272016"
      },
      "cell_type": "code",
      "source": [
        "ts+ts[::2]"
      ],
      "execution_count": 29,
      "outputs": [
        {
          "output_type": "execute_result",
          "data": {
            "text/plain": [
              "2019-02-02    1.316159\n",
              "2019-02-05         NaN\n",
              "2019-02-07    1.492505\n",
              "2019-02-08         NaN\n",
              "2019-02-10   -3.357640\n",
              "2019-02-12         NaN\n",
              "dtype: float64"
            ]
          },
          "metadata": {
            "tags": []
          },
          "execution_count": 29
        }
      ]
    },
    {
      "metadata": {
        "id": "mo9UTBe5T-cz",
        "colab_type": "code",
        "colab": {
          "base_uri": "https://localhost:8080/",
          "height": 139
        },
        "outputId": "062c0108-7eb5-4c59-a37e-9160aed7b2fa"
      },
      "cell_type": "code",
      "source": [
        "dates=[datetime(2019,2,2),datetime(2019,2,5),datetime(2019,2,7),datetime(2019,2,2),datetime(2019,2,10),datetime(2019,2,12)]\n",
        "dus_ts=pd.Series(data=np.random.randn(6),index=dates)\n",
        "dus_ts"
      ],
      "execution_count": 33,
      "outputs": [
        {
          "output_type": "execute_result",
          "data": {
            "text/plain": [
              "2019-02-02   -0.117591\n",
              "2019-02-05   -0.257925\n",
              "2019-02-07   -0.443851\n",
              "2019-02-02    0.740940\n",
              "2019-02-10    0.815811\n",
              "2019-02-12    0.913828\n",
              "dtype: float64"
            ]
          },
          "metadata": {
            "tags": []
          },
          "execution_count": 33
        }
      ]
    },
    {
      "metadata": {
        "id": "wHnNfu9hUIah",
        "colab_type": "code",
        "colab": {
          "base_uri": "https://localhost:8080/",
          "height": 35
        },
        "outputId": "89f2542b-2263-4215-c2e7-af0e6b7bfe0a"
      },
      "cell_type": "code",
      "source": [
        "dus_ts['2019-2-2']\n",
        "resampler=ts.resample('D')\n",
        "resampler"
      ],
      "execution_count": 37,
      "outputs": [
        {
          "output_type": "execute_result",
          "data": {
            "text/plain": [
              "DatetimeIndexResampler [freq=<Day>, axis=0, closed=left, label=left, convention=start, base=0]"
            ]
          },
          "metadata": {
            "tags": []
          },
          "execution_count": 37
        }
      ]
    },
    {
      "metadata": {
        "id": "pi32W0Wq1r2Q",
        "colab_type": "code",
        "colab": {
          "base_uri": "https://localhost:8080/",
          "height": 225
        },
        "outputId": "9cb3d65a-a4ac-4639-8445-528ca99373bf"
      },
      "cell_type": "code",
      "source": [
        "pd.date_range('2018-1-1','2019-1-1',freq='12h')"
      ],
      "execution_count": 39,
      "outputs": [
        {
          "output_type": "execute_result",
          "data": {
            "text/plain": [
              "DatetimeIndex(['2018-01-01 00:00:00', '2018-01-01 12:00:00',\n",
              "               '2018-01-02 00:00:00', '2018-01-02 12:00:00',\n",
              "               '2018-01-03 00:00:00', '2018-01-03 12:00:00',\n",
              "               '2018-01-04 00:00:00', '2018-01-04 12:00:00',\n",
              "               '2018-01-05 00:00:00', '2018-01-05 12:00:00',\n",
              "               ...\n",
              "               '2018-12-27 12:00:00', '2018-12-28 00:00:00',\n",
              "               '2018-12-28 12:00:00', '2018-12-29 00:00:00',\n",
              "               '2018-12-29 12:00:00', '2018-12-30 00:00:00',\n",
              "               '2018-12-30 12:00:00', '2018-12-31 00:00:00',\n",
              "               '2018-12-31 12:00:00', '2019-01-01 00:00:00'],\n",
              "              dtype='datetime64[ns]', length=731, freq='12H')"
            ]
          },
          "metadata": {
            "tags": []
          },
          "execution_count": 39
        }
      ]
    },
    {
      "metadata": {
        "id": "mhMIGNa412Z2",
        "colab_type": "code",
        "colab": {
          "base_uri": "https://localhost:8080/",
          "height": 87
        },
        "outputId": "cb0a6a06-83e1-4323-929f-a10d80566028"
      },
      "cell_type": "code",
      "source": [
        "pd.date_range('2018-1-1','2019-1-1',freq='WOM-3FRI')"
      ],
      "execution_count": 40,
      "outputs": [
        {
          "output_type": "execute_result",
          "data": {
            "text/plain": [
              "DatetimeIndex(['2018-01-19', '2018-02-16', '2018-03-16', '2018-04-20',\n",
              "               '2018-05-18', '2018-06-15', '2018-07-20', '2018-08-17',\n",
              "               '2018-09-21', '2018-10-19', '2018-11-16', '2018-12-21'],\n",
              "              dtype='datetime64[ns]', freq='WOM-3FRI')"
            ]
          },
          "metadata": {
            "tags": []
          },
          "execution_count": 40
        }
      ]
    },
    {
      "metadata": {
        "id": "4-zxZJDi2qu9",
        "colab_type": "code",
        "colab": {
          "base_uri": "https://localhost:8080/",
          "height": 104
        },
        "outputId": "427c69f7-e605-4514-f56e-faaf5d762600"
      },
      "cell_type": "code",
      "source": [
        "ts=pd.Series(np.random.rand(4),index=pd.date_range('2019/1/1',periods=4,freq='M'))\n",
        "ts"
      ],
      "execution_count": 42,
      "outputs": [
        {
          "output_type": "execute_result",
          "data": {
            "text/plain": [
              "2019-01-31    0.593442\n",
              "2019-02-28    0.034092\n",
              "2019-03-31    0.168018\n",
              "2019-04-30    0.149965\n",
              "Freq: M, dtype: float64"
            ]
          },
          "metadata": {
            "tags": []
          },
          "execution_count": 42
        }
      ]
    },
    {
      "metadata": {
        "id": "h35ixypT3Ghx",
        "colab_type": "code",
        "colab": {
          "base_uri": "https://localhost:8080/",
          "height": 104
        },
        "outputId": "1261d090-56b9-4922-9b01-c39e8989babb"
      },
      "cell_type": "code",
      "source": [
        "ts/ts.shift(1)-1"
      ],
      "execution_count": 43,
      "outputs": [
        {
          "output_type": "execute_result",
          "data": {
            "text/plain": [
              "2019-01-31         NaN\n",
              "2019-02-28   -0.942552\n",
              "2019-03-31    3.928368\n",
              "2019-04-30   -0.107449\n",
              "Freq: M, dtype: float64"
            ]
          },
          "metadata": {
            "tags": []
          },
          "execution_count": 43
        }
      ]
    },
    {
      "metadata": {
        "id": "pPYuZoF63tb2",
        "colab_type": "code",
        "colab": {
          "base_uri": "https://localhost:8080/",
          "height": 104
        },
        "outputId": "04e71f4b-9f7e-4513-9e23-63d548e96a5f"
      },
      "cell_type": "code",
      "source": [
        "ts.shift(2,freq='M')"
      ],
      "execution_count": 44,
      "outputs": [
        {
          "output_type": "execute_result",
          "data": {
            "text/plain": [
              "2019-03-31    0.593442\n",
              "2019-04-30    0.034092\n",
              "2019-05-31    0.168018\n",
              "2019-06-30    0.149965\n",
              "Freq: M, dtype: float64"
            ]
          },
          "metadata": {
            "tags": []
          },
          "execution_count": 44
        }
      ]
    },
    {
      "metadata": {
        "id": "QKETTBng5FR3",
        "colab_type": "code",
        "colab": {}
      },
      "cell_type": "code",
      "source": [
        "p=pd.Period(2018,freq='A-DEC')S"
      ],
      "execution_count": 0,
      "outputs": []
    }
  ]
}