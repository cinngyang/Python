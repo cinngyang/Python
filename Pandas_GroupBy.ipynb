{
  "nbformat": 4,
  "nbformat_minor": 0,
  "metadata": {
    "colab": {
      "name": "Pandas-GroupBy.ipynb",
      "version": "0.3.2",
      "provenance": [],
      "collapsed_sections": [],
      "include_colab_link": true
    },
    "kernelspec": {
      "name": "python3",
      "display_name": "Python 3"
    }
  },
  "cells": [
    {
      "cell_type": "markdown",
      "metadata": {
        "id": "view-in-github",
        "colab_type": "text"
      },
      "source": [
        "<a href=\"https://colab.research.google.com/github/cinngyang/Python/blob/master/Pandas_GroupBy.ipynb\" target=\"_parent\"><img src=\"https://colab.research.google.com/assets/colab-badge.svg\" alt=\"Open In Colab\"/></a>"
      ]
    },
    {
      "metadata": {
        "id": "L_LQyXoJNv9a",
        "colab_type": "text"
      },
      "cell_type": "markdown",
      "source": [
        "+ [Simple demo of Pandas](https://www.somebits.com/~nelson/pandas-multiindex-slice-demo.html)<br>\n",
        "+ get_group()\n",
        "+ group1['data1','data2'].agg(['mean','sum'])\n",
        "+ \n",
        "+ dt2.index.names / type(dt2.index)\n",
        "+ dt2.index.get_level_values(0)\n",
        "+ dt2.index.set_names([\"col1\",\"col2\"],inplace=True)\n",
        "+ dt2.set_index(\"col\" , inplace=True)"
      ]
    },
    {
      "metadata": {
        "id": "WYgx00nn9k1B",
        "colab_type": "code",
        "colab": {}
      },
      "cell_type": "code",
      "source": [
        "import pandas as pd\n",
        "import numpy as np"
      ],
      "execution_count": 0,
      "outputs": []
    },
    {
      "metadata": {
        "id": "KJCDqwjr9xeo",
        "colab_type": "code",
        "outputId": "68b67d78-cfb4-45c1-9a2c-ca021acee86e",
        "colab": {
          "base_uri": "https://localhost:8080/",
          "height": 204
        }
      },
      "cell_type": "code",
      "source": [
        "dt=pd.DataFrame({'BIN':['AAABB001','AAABB011','BBBCC001','BBBCC012','BBBCC031'],'QTY':[100,200,300,100,200]})\n",
        "dt['CIE']=dt['BIN'].str[0:5]\n",
        "dt['IV']=dt['BIN'].str[5:7]\n",
        "dt['VF']=dt['BIN'].str[7:8]\n",
        "dt=dt[['BIN','CIE','IV','VF','QTY']]\n",
        "dt"
      ],
      "execution_count": 4,
      "outputs": [
        {
          "output_type": "execute_result",
          "data": {
            "text/html": [
              "<div>\n",
              "<style scoped>\n",
              "    .dataframe tbody tr th:only-of-type {\n",
              "        vertical-align: middle;\n",
              "    }\n",
              "\n",
              "    .dataframe tbody tr th {\n",
              "        vertical-align: top;\n",
              "    }\n",
              "\n",
              "    .dataframe thead th {\n",
              "        text-align: right;\n",
              "    }\n",
              "</style>\n",
              "<table border=\"1\" class=\"dataframe\">\n",
              "  <thead>\n",
              "    <tr style=\"text-align: right;\">\n",
              "      <th></th>\n",
              "      <th>BIN</th>\n",
              "      <th>CIE</th>\n",
              "      <th>IV</th>\n",
              "      <th>VF</th>\n",
              "      <th>QTY</th>\n",
              "    </tr>\n",
              "  </thead>\n",
              "  <tbody>\n",
              "    <tr>\n",
              "      <th>0</th>\n",
              "      <td>AAABB001</td>\n",
              "      <td>AAABB</td>\n",
              "      <td>00</td>\n",
              "      <td>1</td>\n",
              "      <td>100</td>\n",
              "    </tr>\n",
              "    <tr>\n",
              "      <th>1</th>\n",
              "      <td>AAABB011</td>\n",
              "      <td>AAABB</td>\n",
              "      <td>01</td>\n",
              "      <td>1</td>\n",
              "      <td>200</td>\n",
              "    </tr>\n",
              "    <tr>\n",
              "      <th>2</th>\n",
              "      <td>BBBCC001</td>\n",
              "      <td>BBBCC</td>\n",
              "      <td>00</td>\n",
              "      <td>1</td>\n",
              "      <td>300</td>\n",
              "    </tr>\n",
              "    <tr>\n",
              "      <th>3</th>\n",
              "      <td>BBBCC012</td>\n",
              "      <td>BBBCC</td>\n",
              "      <td>01</td>\n",
              "      <td>2</td>\n",
              "      <td>100</td>\n",
              "    </tr>\n",
              "    <tr>\n",
              "      <th>4</th>\n",
              "      <td>BBBCC031</td>\n",
              "      <td>BBBCC</td>\n",
              "      <td>03</td>\n",
              "      <td>1</td>\n",
              "      <td>200</td>\n",
              "    </tr>\n",
              "  </tbody>\n",
              "</table>\n",
              "</div>"
            ],
            "text/plain": [
              "        BIN    CIE  IV VF  QTY\n",
              "0  AAABB001  AAABB  00  1  100\n",
              "1  AAABB011  AAABB  01  1  200\n",
              "2  BBBCC001  BBBCC  00  1  300\n",
              "3  BBBCC012  BBBCC  01  2  100\n",
              "4  BBBCC031  BBBCC  03  1  200"
            ]
          },
          "metadata": {
            "tags": []
          },
          "execution_count": 4
        }
      ]
    },
    {
      "metadata": {
        "id": "HzCjJbk3AuQ5",
        "colab_type": "code",
        "outputId": "308cc1f1-7a03-4c71-9339-3bbf5d1acf39",
        "colab": {
          "base_uri": "https://localhost:8080/",
          "height": 34
        }
      },
      "cell_type": "code",
      "source": [
        "G1=dt['QTY'].groupby([dt['CIE'],dt['IV']])\n",
        "G1"
      ],
      "execution_count": 11,
      "outputs": [
        {
          "output_type": "execute_result",
          "data": {
            "text/plain": [
              "<pandas.core.groupby.SeriesGroupBy object at 0x7f5a249b7550>"
            ]
          },
          "metadata": {
            "tags": []
          },
          "execution_count": 11
        }
      ]
    },
    {
      "metadata": {
        "id": "6I9_5CHg_jJo",
        "colab_type": "code",
        "outputId": "9d61efbc-3f2d-40e5-d9ac-73ae420a86df",
        "colab": {
          "base_uri": "https://localhost:8080/",
          "height": 235
        }
      },
      "cell_type": "code",
      "source": [
        "dt2=dt.groupby([dt['CIE'],dt['IV'],dt['VF']])[['QTY']].sum()\n",
        "dt2"
      ],
      "execution_count": 15,
      "outputs": [
        {
          "output_type": "execute_result",
          "data": {
            "text/html": [
              "<div>\n",
              "<style scoped>\n",
              "    .dataframe tbody tr th:only-of-type {\n",
              "        vertical-align: middle;\n",
              "    }\n",
              "\n",
              "    .dataframe tbody tr th {\n",
              "        vertical-align: top;\n",
              "    }\n",
              "\n",
              "    .dataframe thead th {\n",
              "        text-align: right;\n",
              "    }\n",
              "</style>\n",
              "<table border=\"1\" class=\"dataframe\">\n",
              "  <thead>\n",
              "    <tr style=\"text-align: right;\">\n",
              "      <th></th>\n",
              "      <th></th>\n",
              "      <th></th>\n",
              "      <th>QTY</th>\n",
              "    </tr>\n",
              "    <tr>\n",
              "      <th>CIE</th>\n",
              "      <th>IV</th>\n",
              "      <th>VF</th>\n",
              "      <th></th>\n",
              "    </tr>\n",
              "  </thead>\n",
              "  <tbody>\n",
              "    <tr>\n",
              "      <th rowspan=\"2\" valign=\"top\">AAABB</th>\n",
              "      <th>00</th>\n",
              "      <th>1</th>\n",
              "      <td>100</td>\n",
              "    </tr>\n",
              "    <tr>\n",
              "      <th>01</th>\n",
              "      <th>1</th>\n",
              "      <td>200</td>\n",
              "    </tr>\n",
              "    <tr>\n",
              "      <th rowspan=\"3\" valign=\"top\">BBBCC</th>\n",
              "      <th>00</th>\n",
              "      <th>1</th>\n",
              "      <td>300</td>\n",
              "    </tr>\n",
              "    <tr>\n",
              "      <th>01</th>\n",
              "      <th>2</th>\n",
              "      <td>100</td>\n",
              "    </tr>\n",
              "    <tr>\n",
              "      <th>03</th>\n",
              "      <th>1</th>\n",
              "      <td>200</td>\n",
              "    </tr>\n",
              "  </tbody>\n",
              "</table>\n",
              "</div>"
            ],
            "text/plain": [
              "             QTY\n",
              "CIE   IV VF     \n",
              "AAABB 00 1   100\n",
              "      01 1   200\n",
              "BBBCC 00 1   300\n",
              "      01 2   100\n",
              "      03 1   200"
            ]
          },
          "metadata": {
            "tags": []
          },
          "execution_count": 15
        }
      ]
    },
    {
      "metadata": {
        "id": "1DrFnhekThY6",
        "colab_type": "code",
        "colab": {
          "base_uri": "https://localhost:8080/",
          "height": 34
        },
        "outputId": "d509865e-7230-47f8-dd28-16102de55241"
      },
      "cell_type": "code",
      "source": [
        "dt2.index.names\n",
        "type(dt2.index)"
      ],
      "execution_count": 18,
      "outputs": [
        {
          "output_type": "execute_result",
          "data": {
            "text/plain": [
              "pandas.core.indexes.multi.MultiIndex"
            ]
          },
          "metadata": {
            "tags": []
          },
          "execution_count": 18
        }
      ]
    },
    {
      "metadata": {
        "id": "_8X7aI2tUCWJ",
        "colab_type": "code",
        "colab": {
          "base_uri": "https://localhost:8080/",
          "height": 51
        },
        "outputId": "32f3f1ac-decf-4f0c-ef23-69163c0a4f6a"
      },
      "cell_type": "code",
      "source": [
        "print(dt2.index.get_level_values(0))\n",
        "print(dt2.index.get_level_values(1))"
      ],
      "execution_count": 20,
      "outputs": [
        {
          "output_type": "stream",
          "text": [
            "Index(['AAABB', 'AAABB', 'BBBCC', 'BBBCC', 'BBBCC'], dtype='object', name='CIE')\n",
            "Index(['00', '01', '00', '01', '03'], dtype='object', name='IV')\n"
          ],
          "name": "stdout"
        }
      ]
    }
  ]
}