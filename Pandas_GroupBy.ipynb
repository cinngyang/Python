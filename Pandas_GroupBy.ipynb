{
  "nbformat": 4,
  "nbformat_minor": 0,
  "metadata": {
    "colab": {
      "name": "Pandas-GroupBy.ipynb",
      "version": "0.3.2",
      "provenance": [],
      "collapsed_sections": [],
      "include_colab_link": true
    },
    "kernelspec": {
      "name": "python3",
      "display_name": "Python 3"
    }
  },
  "cells": [
    {
      "cell_type": "markdown",
      "metadata": {
        "id": "view-in-github",
        "colab_type": "text"
      },
      "source": [
        "<a href=\"https://colab.research.google.com/github/cinngyang/Python/blob/master/Pandas_GroupBy.ipynb\" target=\"_parent\"><img src=\"https://colab.research.google.com/assets/colab-badge.svg\" alt=\"Open In Colab\"/></a>"
      ]
    },
    {
      "metadata": {
        "id": "WYgx00nn9k1B",
        "colab_type": "code",
        "colab": {}
      },
      "cell_type": "code",
      "source": [
        "import pandas as pd\n",
        "import numpy as np"
      ],
      "execution_count": 0,
      "outputs": []
    },
    {
      "metadata": {
        "id": "KJCDqwjr9xeo",
        "colab_type": "code",
        "colab": {
          "base_uri": "https://localhost:8080/",
          "height": 202
        },
        "outputId": "ab49224d-7fb2-48d1-b474-80bba950916e"
      },
      "cell_type": "code",
      "source": [
        "dt=pd.DataFrame({'BIN':['AAABB001','AAABB011','BBBCC001','BBBCC012','BBBCC031'],'QTY':[100,200,300,100,200]})\n",
        "dt['CIE']=dt['BIN'].str[0:5]\n",
        "dt['IV']=dt['BIN'].str[5:7]\n",
        "dt['VF']=dt['BIN'].str[7:8]\n",
        "dt=dt[['BIN','CIE','IV','VF','QTY']]\n",
        "dt"
      ],
      "execution_count": 81,
      "outputs": [
        {
          "output_type": "execute_result",
          "data": {
            "text/html": [
              "<div>\n",
              "<style scoped>\n",
              "    .dataframe tbody tr th:only-of-type {\n",
              "        vertical-align: middle;\n",
              "    }\n",
              "\n",
              "    .dataframe tbody tr th {\n",
              "        vertical-align: top;\n",
              "    }\n",
              "\n",
              "    .dataframe thead th {\n",
              "        text-align: right;\n",
              "    }\n",
              "</style>\n",
              "<table border=\"1\" class=\"dataframe\">\n",
              "  <thead>\n",
              "    <tr style=\"text-align: right;\">\n",
              "      <th></th>\n",
              "      <th>BIN</th>\n",
              "      <th>CIE</th>\n",
              "      <th>IV</th>\n",
              "      <th>VF</th>\n",
              "      <th>QTY</th>\n",
              "    </tr>\n",
              "  </thead>\n",
              "  <tbody>\n",
              "    <tr>\n",
              "      <th>0</th>\n",
              "      <td>AAABB001</td>\n",
              "      <td>AAABB</td>\n",
              "      <td>00</td>\n",
              "      <td>1</td>\n",
              "      <td>100</td>\n",
              "    </tr>\n",
              "    <tr>\n",
              "      <th>1</th>\n",
              "      <td>AAABB011</td>\n",
              "      <td>AAABB</td>\n",
              "      <td>01</td>\n",
              "      <td>1</td>\n",
              "      <td>200</td>\n",
              "    </tr>\n",
              "    <tr>\n",
              "      <th>2</th>\n",
              "      <td>BBBCC001</td>\n",
              "      <td>BBBCC</td>\n",
              "      <td>00</td>\n",
              "      <td>1</td>\n",
              "      <td>300</td>\n",
              "    </tr>\n",
              "    <tr>\n",
              "      <th>3</th>\n",
              "      <td>BBBCC012</td>\n",
              "      <td>BBBCC</td>\n",
              "      <td>01</td>\n",
              "      <td>2</td>\n",
              "      <td>100</td>\n",
              "    </tr>\n",
              "    <tr>\n",
              "      <th>4</th>\n",
              "      <td>BBBCC031</td>\n",
              "      <td>BBBCC</td>\n",
              "      <td>03</td>\n",
              "      <td>1</td>\n",
              "      <td>200</td>\n",
              "    </tr>\n",
              "  </tbody>\n",
              "</table>\n",
              "</div>"
            ],
            "text/plain": [
              "        BIN    CIE  IV VF  QTY\n",
              "0  AAABB001  AAABB  00  1  100\n",
              "1  AAABB011  AAABB  01  1  200\n",
              "2  BBBCC001  BBBCC  00  1  300\n",
              "3  BBBCC012  BBBCC  01  2  100\n",
              "4  BBBCC031  BBBCC  03  1  200"
            ]
          },
          "metadata": {
            "tags": []
          },
          "execution_count": 81
        }
      ]
    },
    {
      "metadata": {
        "id": "HzCjJbk3AuQ5",
        "colab_type": "code",
        "colab": {
          "base_uri": "https://localhost:8080/",
          "height": 139
        },
        "outputId": "4c80c370-dd85-4e2f-a56d-eba3e15e933c"
      },
      "cell_type": "code",
      "source": [
        "G1=dt['QTY'].groupby([dt['CIE'],dt['IV']]).sum()\n",
        "G1"
      ],
      "execution_count": 82,
      "outputs": [
        {
          "output_type": "execute_result",
          "data": {
            "text/plain": [
              "CIE    IV\n",
              "AAABB  00    100\n",
              "       01    200\n",
              "BBBCC  00    300\n",
              "       01    100\n",
              "       03    200\n",
              "Name: QTY, dtype: int64"
            ]
          },
          "metadata": {
            "tags": []
          },
          "execution_count": 82
        }
      ]
    },
    {
      "metadata": {
        "id": "6I9_5CHg_jJo",
        "colab_type": "code",
        "colab": {
          "base_uri": "https://localhost:8080/",
          "height": 233
        },
        "outputId": "042c181b-a487-4ef3-a3cd-60eb8e4a044c"
      },
      "cell_type": "code",
      "source": [
        "dt2=dt.groupby([dt['CIE'],dt['IV'],dt['VF']])[['QTY']].sum()\n",
        "dt2"
      ],
      "execution_count": 89,
      "outputs": [
        {
          "output_type": "execute_result",
          "data": {
            "text/html": [
              "<div>\n",
              "<style scoped>\n",
              "    .dataframe tbody tr th:only-of-type {\n",
              "        vertical-align: middle;\n",
              "    }\n",
              "\n",
              "    .dataframe tbody tr th {\n",
              "        vertical-align: top;\n",
              "    }\n",
              "\n",
              "    .dataframe thead th {\n",
              "        text-align: right;\n",
              "    }\n",
              "</style>\n",
              "<table border=\"1\" class=\"dataframe\">\n",
              "  <thead>\n",
              "    <tr style=\"text-align: right;\">\n",
              "      <th></th>\n",
              "      <th></th>\n",
              "      <th></th>\n",
              "      <th>QTY</th>\n",
              "    </tr>\n",
              "    <tr>\n",
              "      <th>CIE</th>\n",
              "      <th>IV</th>\n",
              "      <th>VF</th>\n",
              "      <th></th>\n",
              "    </tr>\n",
              "  </thead>\n",
              "  <tbody>\n",
              "    <tr>\n",
              "      <th rowspan=\"2\" valign=\"top\">AAABB</th>\n",
              "      <th>00</th>\n",
              "      <th>1</th>\n",
              "      <td>100</td>\n",
              "    </tr>\n",
              "    <tr>\n",
              "      <th>01</th>\n",
              "      <th>1</th>\n",
              "      <td>200</td>\n",
              "    </tr>\n",
              "    <tr>\n",
              "      <th rowspan=\"3\" valign=\"top\">BBBCC</th>\n",
              "      <th>00</th>\n",
              "      <th>1</th>\n",
              "      <td>300</td>\n",
              "    </tr>\n",
              "    <tr>\n",
              "      <th>01</th>\n",
              "      <th>2</th>\n",
              "      <td>100</td>\n",
              "    </tr>\n",
              "    <tr>\n",
              "      <th>03</th>\n",
              "      <th>1</th>\n",
              "      <td>200</td>\n",
              "    </tr>\n",
              "  </tbody>\n",
              "</table>\n",
              "</div>"
            ],
            "text/plain": [
              "             QTY\n",
              "CIE   IV VF     \n",
              "AAABB 00 1   100\n",
              "      01 1   200\n",
              "BBBCC 00 1   300\n",
              "      01 2   100\n",
              "      03 1   200"
            ]
          },
          "metadata": {
            "tags": []
          },
          "execution_count": 89
        }
      ]
    }
  ]
}